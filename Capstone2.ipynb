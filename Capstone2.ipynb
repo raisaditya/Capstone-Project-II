{
 "cells": [
  {
   "cell_type": "markdown",
   "id": "86aa76b5",
   "metadata": {},
   "source": [
    "# Latar Belakang dan Rumusan Masalah"
   ]
  },
  {
   "cell_type": "markdown",
   "id": "9257a669",
   "metadata": {},
   "source": [
    "## Latar Belakang:\n",
    "Di tengah persaingan industri retail yang semakin kompetitif, pemahaman terhadap perilaku pelanggan menjadi hal krusial dalam menyusun strategi pemasaran yang efektif dan berkelanjutan. Supermarket Indoe, yang berlokasi di kawasan perumahan DBS, bersaing secara langsung dengan dua supermarket lain yang menawarkan produk dan promosi serupa. Dalam kondisi tersebut, kemampuan untuk mengenali kebutuhan dan preferensi pelanggan menjadi salah satu keunggulan kompetitif utama.\n",
    "\n",
    "Supermarket Indoe telah menerapkan sistem keanggotaan (membership) yang merekam data pelanggan, termasuk informasi demografis seperti usia, status pernikahan, dan tingkat pendidikan, serta data pembelian berdasarkan kategori produk, saluran pembelian, dan respons terhadap campaign marketing yang telah dilakukan.\n",
    "\n",
    "Melalui pemanfaatan data ini, perusahaan berupaya untuk memperoleh insight yang relevan mengenai perilaku pelanggan yang dapat digunakan untuk menyusun strategi peningkatan penjualan, menentukan karakteristik pelanggan potensial, serta mengoptimalkan campaign marketing agar lebih tepat sasaran dan efektif"
   ]
  },
  {
   "cell_type": "markdown",
   "id": "20267ec7",
   "metadata": {},
   "source": [
    "## Rumusan Masalah:\n",
    "Dari latar belakang di atas, ditemukan rumusan masalah sebagai berikut:\n",
    "1. Bagaimana karakteristik demografis pelanggan Supermarket Indoe di kawasan DBS? (year_birth, education, marital_status, income, etc)\n",
    "2. Bagaimana pola perilaku belanja pelanggan berdasarkan kategori produk? (rata2 pengeluaran customer, frekuensi visit)\n",
    "3. Melalui channel apa pelanggan paling sering melakukan pembelian? (web, offline, katalog, etc)\n",
    "4. Bagaimana karakteristik pelanggan yang merespons campaign dan berpotensi meningkatkan penjualan?\n",
    "\n",
    "## Tujuan\n",
    "Memberikan insights yang optimal kepada Owner Supermarket"
   ]
  },
  {
   "cell_type": "code",
   "execution_count": 6,
   "id": "6bb6297c",
   "metadata": {},
   "outputs": [],
   "source": [
    "# Import Library\n",
    "# Data Analisis\n",
    "import pandas as pd\n",
    "import numpy as np\n",
    "\n",
    "# Data Visualisasi\n",
    "import seaborn as sns\n",
    "import matplotlib.pyplot as plt\n",
    "\n",
    "import math\n",
    "from scipy.stats import normaltest, chi2_contingency, mannwhitneyu, ttest_ind\n",
    "\n",
    "import missingno\n",
    "\n",
    "import warnings\n",
    "warnings.filterwarnings('ignore')"
   ]
  },
  {
   "cell_type": "markdown",
   "id": "ee973f16",
   "metadata": {},
   "source": [
    "# Data Cleaning & Understanding"
   ]
  },
  {
   "cell_type": "code",
   "execution_count": 7,
   "id": "3e2c3796",
   "metadata": {},
   "outputs": [
    {
     "data": {
      "text/plain": [
       "(2240, 29)"
      ]
     },
     "execution_count": 7,
     "metadata": {},
     "output_type": "execute_result"
    }
   ],
   "source": [
    "# Load Dataset\n",
    "df = pd.read_csv('C:/Users/HP/Downloads/Supermarket Customers.csv', sep = '\\t') # separator\n",
    "df.shape"
   ]
  },
  {
   "cell_type": "code",
   "execution_count": 8,
   "id": "5d86eeb3",
   "metadata": {},
   "outputs": [
    {
     "data": {
      "text/html": [
       "<div>\n",
       "<style scoped>\n",
       "    .dataframe tbody tr th:only-of-type {\n",
       "        vertical-align: middle;\n",
       "    }\n",
       "\n",
       "    .dataframe tbody tr th {\n",
       "        vertical-align: top;\n",
       "    }\n",
       "\n",
       "    .dataframe thead th {\n",
       "        text-align: right;\n",
       "    }\n",
       "</style>\n",
       "<table border=\"1\" class=\"dataframe\">\n",
       "  <thead>\n",
       "    <tr style=\"text-align: right;\">\n",
       "      <th></th>\n",
       "      <th>ID</th>\n",
       "      <th>Year_Birth</th>\n",
       "      <th>Education</th>\n",
       "      <th>Marital_Status</th>\n",
       "      <th>Income</th>\n",
       "      <th>Kidhome</th>\n",
       "      <th>Teenhome</th>\n",
       "      <th>Dt_Customer</th>\n",
       "      <th>Recency</th>\n",
       "      <th>MntWines</th>\n",
       "      <th>...</th>\n",
       "      <th>NumWebVisitsMonth</th>\n",
       "      <th>AcceptedCmp3</th>\n",
       "      <th>AcceptedCmp4</th>\n",
       "      <th>AcceptedCmp5</th>\n",
       "      <th>AcceptedCmp1</th>\n",
       "      <th>AcceptedCmp2</th>\n",
       "      <th>Complain</th>\n",
       "      <th>Z_CostContact</th>\n",
       "      <th>Z_Revenue</th>\n",
       "      <th>Response</th>\n",
       "    </tr>\n",
       "  </thead>\n",
       "  <tbody>\n",
       "    <tr>\n",
       "      <th>0</th>\n",
       "      <td>5524</td>\n",
       "      <td>1957</td>\n",
       "      <td>Graduation</td>\n",
       "      <td>Single</td>\n",
       "      <td>58138.0</td>\n",
       "      <td>0</td>\n",
       "      <td>0</td>\n",
       "      <td>04-09-2012</td>\n",
       "      <td>58</td>\n",
       "      <td>635</td>\n",
       "      <td>...</td>\n",
       "      <td>7</td>\n",
       "      <td>0</td>\n",
       "      <td>0</td>\n",
       "      <td>0</td>\n",
       "      <td>0</td>\n",
       "      <td>0</td>\n",
       "      <td>0</td>\n",
       "      <td>3</td>\n",
       "      <td>11</td>\n",
       "      <td>1</td>\n",
       "    </tr>\n",
       "    <tr>\n",
       "      <th>1</th>\n",
       "      <td>2174</td>\n",
       "      <td>1954</td>\n",
       "      <td>Graduation</td>\n",
       "      <td>Single</td>\n",
       "      <td>46344.0</td>\n",
       "      <td>1</td>\n",
       "      <td>1</td>\n",
       "      <td>08-03-2014</td>\n",
       "      <td>38</td>\n",
       "      <td>11</td>\n",
       "      <td>...</td>\n",
       "      <td>5</td>\n",
       "      <td>0</td>\n",
       "      <td>0</td>\n",
       "      <td>0</td>\n",
       "      <td>0</td>\n",
       "      <td>0</td>\n",
       "      <td>0</td>\n",
       "      <td>3</td>\n",
       "      <td>11</td>\n",
       "      <td>0</td>\n",
       "    </tr>\n",
       "    <tr>\n",
       "      <th>2</th>\n",
       "      <td>4141</td>\n",
       "      <td>1965</td>\n",
       "      <td>Graduation</td>\n",
       "      <td>Together</td>\n",
       "      <td>71613.0</td>\n",
       "      <td>0</td>\n",
       "      <td>0</td>\n",
       "      <td>21-08-2013</td>\n",
       "      <td>26</td>\n",
       "      <td>426</td>\n",
       "      <td>...</td>\n",
       "      <td>4</td>\n",
       "      <td>0</td>\n",
       "      <td>0</td>\n",
       "      <td>0</td>\n",
       "      <td>0</td>\n",
       "      <td>0</td>\n",
       "      <td>0</td>\n",
       "      <td>3</td>\n",
       "      <td>11</td>\n",
       "      <td>0</td>\n",
       "    </tr>\n",
       "    <tr>\n",
       "      <th>3</th>\n",
       "      <td>6182</td>\n",
       "      <td>1984</td>\n",
       "      <td>Graduation</td>\n",
       "      <td>Together</td>\n",
       "      <td>26646.0</td>\n",
       "      <td>1</td>\n",
       "      <td>0</td>\n",
       "      <td>10-02-2014</td>\n",
       "      <td>26</td>\n",
       "      <td>11</td>\n",
       "      <td>...</td>\n",
       "      <td>6</td>\n",
       "      <td>0</td>\n",
       "      <td>0</td>\n",
       "      <td>0</td>\n",
       "      <td>0</td>\n",
       "      <td>0</td>\n",
       "      <td>0</td>\n",
       "      <td>3</td>\n",
       "      <td>11</td>\n",
       "      <td>0</td>\n",
       "    </tr>\n",
       "    <tr>\n",
       "      <th>4</th>\n",
       "      <td>5324</td>\n",
       "      <td>1981</td>\n",
       "      <td>PhD</td>\n",
       "      <td>Married</td>\n",
       "      <td>58293.0</td>\n",
       "      <td>1</td>\n",
       "      <td>0</td>\n",
       "      <td>19-01-2014</td>\n",
       "      <td>94</td>\n",
       "      <td>173</td>\n",
       "      <td>...</td>\n",
       "      <td>5</td>\n",
       "      <td>0</td>\n",
       "      <td>0</td>\n",
       "      <td>0</td>\n",
       "      <td>0</td>\n",
       "      <td>0</td>\n",
       "      <td>0</td>\n",
       "      <td>3</td>\n",
       "      <td>11</td>\n",
       "      <td>0</td>\n",
       "    </tr>\n",
       "  </tbody>\n",
       "</table>\n",
       "<p>5 rows × 29 columns</p>\n",
       "</div>"
      ],
      "text/plain": [
       "     ID  Year_Birth   Education Marital_Status   Income  Kidhome  Teenhome  \\\n",
       "0  5524        1957  Graduation         Single  58138.0        0         0   \n",
       "1  2174        1954  Graduation         Single  46344.0        1         1   \n",
       "2  4141        1965  Graduation       Together  71613.0        0         0   \n",
       "3  6182        1984  Graduation       Together  26646.0        1         0   \n",
       "4  5324        1981         PhD        Married  58293.0        1         0   \n",
       "\n",
       "  Dt_Customer  Recency  MntWines  ...  NumWebVisitsMonth  AcceptedCmp3  \\\n",
       "0  04-09-2012       58       635  ...                  7             0   \n",
       "1  08-03-2014       38        11  ...                  5             0   \n",
       "2  21-08-2013       26       426  ...                  4             0   \n",
       "3  10-02-2014       26        11  ...                  6             0   \n",
       "4  19-01-2014       94       173  ...                  5             0   \n",
       "\n",
       "   AcceptedCmp4  AcceptedCmp5  AcceptedCmp1  AcceptedCmp2  Complain  \\\n",
       "0             0             0             0             0         0   \n",
       "1             0             0             0             0         0   \n",
       "2             0             0             0             0         0   \n",
       "3             0             0             0             0         0   \n",
       "4             0             0             0             0         0   \n",
       "\n",
       "   Z_CostContact  Z_Revenue  Response  \n",
       "0              3         11         1  \n",
       "1              3         11         0  \n",
       "2              3         11         0  \n",
       "3              3         11         0  \n",
       "4              3         11         0  \n",
       "\n",
       "[5 rows x 29 columns]"
      ]
     },
     "metadata": {},
     "output_type": "display_data"
    },
    {
     "data": {
      "text/html": [
       "<div>\n",
       "<style scoped>\n",
       "    .dataframe tbody tr th:only-of-type {\n",
       "        vertical-align: middle;\n",
       "    }\n",
       "\n",
       "    .dataframe tbody tr th {\n",
       "        vertical-align: top;\n",
       "    }\n",
       "\n",
       "    .dataframe thead th {\n",
       "        text-align: right;\n",
       "    }\n",
       "</style>\n",
       "<table border=\"1\" class=\"dataframe\">\n",
       "  <thead>\n",
       "    <tr style=\"text-align: right;\">\n",
       "      <th></th>\n",
       "      <th>ID</th>\n",
       "      <th>Year_Birth</th>\n",
       "      <th>Education</th>\n",
       "      <th>Marital_Status</th>\n",
       "      <th>Income</th>\n",
       "      <th>Kidhome</th>\n",
       "      <th>Teenhome</th>\n",
       "      <th>Dt_Customer</th>\n",
       "      <th>Recency</th>\n",
       "      <th>MntWines</th>\n",
       "      <th>...</th>\n",
       "      <th>NumWebVisitsMonth</th>\n",
       "      <th>AcceptedCmp3</th>\n",
       "      <th>AcceptedCmp4</th>\n",
       "      <th>AcceptedCmp5</th>\n",
       "      <th>AcceptedCmp1</th>\n",
       "      <th>AcceptedCmp2</th>\n",
       "      <th>Complain</th>\n",
       "      <th>Z_CostContact</th>\n",
       "      <th>Z_Revenue</th>\n",
       "      <th>Response</th>\n",
       "    </tr>\n",
       "  </thead>\n",
       "  <tbody>\n",
       "    <tr>\n",
       "      <th>2235</th>\n",
       "      <td>10870</td>\n",
       "      <td>1967</td>\n",
       "      <td>Graduation</td>\n",
       "      <td>Married</td>\n",
       "      <td>61223.0</td>\n",
       "      <td>0</td>\n",
       "      <td>1</td>\n",
       "      <td>13-06-2013</td>\n",
       "      <td>46</td>\n",
       "      <td>709</td>\n",
       "      <td>...</td>\n",
       "      <td>5</td>\n",
       "      <td>0</td>\n",
       "      <td>0</td>\n",
       "      <td>0</td>\n",
       "      <td>0</td>\n",
       "      <td>0</td>\n",
       "      <td>0</td>\n",
       "      <td>3</td>\n",
       "      <td>11</td>\n",
       "      <td>0</td>\n",
       "    </tr>\n",
       "    <tr>\n",
       "      <th>2236</th>\n",
       "      <td>4001</td>\n",
       "      <td>1946</td>\n",
       "      <td>PhD</td>\n",
       "      <td>Together</td>\n",
       "      <td>64014.0</td>\n",
       "      <td>2</td>\n",
       "      <td>1</td>\n",
       "      <td>10-06-2014</td>\n",
       "      <td>56</td>\n",
       "      <td>406</td>\n",
       "      <td>...</td>\n",
       "      <td>7</td>\n",
       "      <td>0</td>\n",
       "      <td>0</td>\n",
       "      <td>0</td>\n",
       "      <td>1</td>\n",
       "      <td>0</td>\n",
       "      <td>0</td>\n",
       "      <td>3</td>\n",
       "      <td>11</td>\n",
       "      <td>0</td>\n",
       "    </tr>\n",
       "    <tr>\n",
       "      <th>2237</th>\n",
       "      <td>7270</td>\n",
       "      <td>1981</td>\n",
       "      <td>Graduation</td>\n",
       "      <td>Divorced</td>\n",
       "      <td>56981.0</td>\n",
       "      <td>0</td>\n",
       "      <td>0</td>\n",
       "      <td>25-01-2014</td>\n",
       "      <td>91</td>\n",
       "      <td>908</td>\n",
       "      <td>...</td>\n",
       "      <td>6</td>\n",
       "      <td>0</td>\n",
       "      <td>1</td>\n",
       "      <td>0</td>\n",
       "      <td>0</td>\n",
       "      <td>0</td>\n",
       "      <td>0</td>\n",
       "      <td>3</td>\n",
       "      <td>11</td>\n",
       "      <td>0</td>\n",
       "    </tr>\n",
       "    <tr>\n",
       "      <th>2238</th>\n",
       "      <td>8235</td>\n",
       "      <td>1956</td>\n",
       "      <td>Master</td>\n",
       "      <td>Together</td>\n",
       "      <td>69245.0</td>\n",
       "      <td>0</td>\n",
       "      <td>1</td>\n",
       "      <td>24-01-2014</td>\n",
       "      <td>8</td>\n",
       "      <td>428</td>\n",
       "      <td>...</td>\n",
       "      <td>3</td>\n",
       "      <td>0</td>\n",
       "      <td>0</td>\n",
       "      <td>0</td>\n",
       "      <td>0</td>\n",
       "      <td>0</td>\n",
       "      <td>0</td>\n",
       "      <td>3</td>\n",
       "      <td>11</td>\n",
       "      <td>0</td>\n",
       "    </tr>\n",
       "    <tr>\n",
       "      <th>2239</th>\n",
       "      <td>9405</td>\n",
       "      <td>1954</td>\n",
       "      <td>PhD</td>\n",
       "      <td>Married</td>\n",
       "      <td>52869.0</td>\n",
       "      <td>1</td>\n",
       "      <td>1</td>\n",
       "      <td>15-10-2012</td>\n",
       "      <td>40</td>\n",
       "      <td>84</td>\n",
       "      <td>...</td>\n",
       "      <td>7</td>\n",
       "      <td>0</td>\n",
       "      <td>0</td>\n",
       "      <td>0</td>\n",
       "      <td>0</td>\n",
       "      <td>0</td>\n",
       "      <td>0</td>\n",
       "      <td>3</td>\n",
       "      <td>11</td>\n",
       "      <td>1</td>\n",
       "    </tr>\n",
       "  </tbody>\n",
       "</table>\n",
       "<p>5 rows × 29 columns</p>\n",
       "</div>"
      ],
      "text/plain": [
       "         ID  Year_Birth   Education Marital_Status   Income  Kidhome  \\\n",
       "2235  10870        1967  Graduation        Married  61223.0        0   \n",
       "2236   4001        1946         PhD       Together  64014.0        2   \n",
       "2237   7270        1981  Graduation       Divorced  56981.0        0   \n",
       "2238   8235        1956      Master       Together  69245.0        0   \n",
       "2239   9405        1954         PhD        Married  52869.0        1   \n",
       "\n",
       "      Teenhome Dt_Customer  Recency  MntWines  ...  NumWebVisitsMonth  \\\n",
       "2235         1  13-06-2013       46       709  ...                  5   \n",
       "2236         1  10-06-2014       56       406  ...                  7   \n",
       "2237         0  25-01-2014       91       908  ...                  6   \n",
       "2238         1  24-01-2014        8       428  ...                  3   \n",
       "2239         1  15-10-2012       40        84  ...                  7   \n",
       "\n",
       "      AcceptedCmp3  AcceptedCmp4  AcceptedCmp5  AcceptedCmp1  AcceptedCmp2  \\\n",
       "2235             0             0             0             0             0   \n",
       "2236             0             0             0             1             0   \n",
       "2237             0             1             0             0             0   \n",
       "2238             0             0             0             0             0   \n",
       "2239             0             0             0             0             0   \n",
       "\n",
       "      Complain  Z_CostContact  Z_Revenue  Response  \n",
       "2235         0              3         11         0  \n",
       "2236         0              3         11         0  \n",
       "2237         0              3         11         0  \n",
       "2238         0              3         11         0  \n",
       "2239         0              3         11         1  \n",
       "\n",
       "[5 rows x 29 columns]"
      ]
     },
     "metadata": {},
     "output_type": "display_data"
    }
   ],
   "source": [
    "display(df.head(), df.tail())"
   ]
  },
  {
   "cell_type": "markdown",
   "id": "187216b3",
   "metadata": {},
   "source": [
    "Dari dataset di atas, berikut penjelasan setiap kolomnya:\n",
    "- ID: ID unik pelanggan\n",
    "- Year_Birth: Tahun lahir \n",
    "- Education: Tingkat pendidikan\n",
    "- Marital_Status: Status pernikahan\n",
    "- Income: Penghasilan/ Pendapatan tiap tahun\n",
    "- Kidhome: Jumlah anak di rumah tangga\n",
    "- Teenhome: Jumlah anak remaja di rumah tangga\n",
    "- Dt_Customer: Tanggal pelanggan mendaftar sebagai customer\n",
    "- MntWines: Jumlah uang yang dihabiskan untuk Wine dalam 2 tahun terakhir\n",
    "- MntFruits: Jumlah uang yang dihabiskan untuk Buah dalam 2 tahun terakhir\n",
    "- MntMeatProducts: Jumlah uang yang dihabiskan untuk Daging dalam 2 tahun terakhir\n",
    "- MntFishProducts: Jumlah uang yang dihabiskan untuk Ikan dalam 2 tahun terakhir\n",
    "- MntSweetProducts: Jumlah uang yang dihabiskan untuk Manisan dalam 2 tahun terakhir\n",
    "- MntGoldProds: Jumlah uang yang dihabiskan untuk Emas dalam 2 tahun terakhir\n",
    "- NumDealsPurchases: Jumlah pembelian saat diskon\n",
    "- NumWebPurchases: Frekuensi pembelian via Website\n",
    "- NumCatalogPurchases: Frekuensi pembelian via Catalog\n",
    "- NumStorePurchases: Frekuensi pembelian via Toko (offline)\n",
    "- NumWebVisitsMonth: Frekuensi kunjungan Website\n",
    "- AcceptedCmp1 - Cmp5: 1 jika pelanggan menggunakan offer di Campaign ke-1 hingga 5, 0 jika tidak\n",
    "- Response: 1 jika customer menerima penawaran di campaign terakhir, 0 jika tidak \n",
    "- Recency: Jumlah pembelian terakhir pelanggan\n",
    "- Complain: 1 jika pelanggan complain di 2 tahun terakhir, 0 jika tidak\n"
   ]
  },
  {
   "cell_type": "code",
   "execution_count": 9,
   "id": "41dfa54a",
   "metadata": {},
   "outputs": [
    {
     "name": "stdout",
     "output_type": "stream",
     "text": [
      "<class 'pandas.core.frame.DataFrame'>\n",
      "RangeIndex: 2240 entries, 0 to 2239\n",
      "Data columns (total 29 columns):\n",
      " #   Column               Non-Null Count  Dtype  \n",
      "---  ------               --------------  -----  \n",
      " 0   ID                   2240 non-null   int64  \n",
      " 1   Year_Birth           2240 non-null   int64  \n",
      " 2   Education            2240 non-null   object \n",
      " 3   Marital_Status       2240 non-null   object \n",
      " 4   Income               2216 non-null   float64\n",
      " 5   Kidhome              2240 non-null   int64  \n",
      " 6   Teenhome             2240 non-null   int64  \n",
      " 7   Dt_Customer          2240 non-null   object \n",
      " 8   Recency              2240 non-null   int64  \n",
      " 9   MntWines             2240 non-null   int64  \n",
      " 10  MntFruits            2240 non-null   int64  \n",
      " 11  MntMeatProducts      2240 non-null   int64  \n",
      " 12  MntFishProducts      2240 non-null   int64  \n",
      " 13  MntSweetProducts     2240 non-null   int64  \n",
      " 14  MntGoldProds         2240 non-null   int64  \n",
      " 15  NumDealsPurchases    2240 non-null   int64  \n",
      " 16  NumWebPurchases      2240 non-null   int64  \n",
      " 17  NumCatalogPurchases  2240 non-null   int64  \n",
      " 18  NumStorePurchases    2240 non-null   int64  \n",
      " 19  NumWebVisitsMonth    2240 non-null   int64  \n",
      " 20  AcceptedCmp3         2240 non-null   int64  \n",
      " 21  AcceptedCmp4         2240 non-null   int64  \n",
      " 22  AcceptedCmp5         2240 non-null   int64  \n",
      " 23  AcceptedCmp1         2240 non-null   int64  \n",
      " 24  AcceptedCmp2         2240 non-null   int64  \n",
      " 25  Complain             2240 non-null   int64  \n",
      " 26  Z_CostContact        2240 non-null   int64  \n",
      " 27  Z_Revenue            2240 non-null   int64  \n",
      " 28  Response             2240 non-null   int64  \n",
      "dtypes: float64(1), int64(25), object(3)\n",
      "memory usage: 507.6+ KB\n"
     ]
    }
   ],
   "source": [
    "df.info() # cek info dataframe"
   ]
  },
  {
   "cell_type": "code",
   "execution_count": 10,
   "id": "3a35715e",
   "metadata": {},
   "outputs": [],
   "source": [
    "# tipe data dari kolom dt_customer (tanggal customer mendaftar sebagai member) masih dalam tipe data string,\n",
    "# maka perlu diconvert menggunakan datetime agar dapat dioperasikan\n",
    "df['Dt_Customer'] = pd.to_datetime(df['Dt_Customer'], dayfirst = True)"
   ]
  },
  {
   "cell_type": "code",
   "execution_count": 11,
   "id": "71ae13f0",
   "metadata": {},
   "outputs": [
    {
     "data": {
      "text/plain": [
       "np.int64(0)"
      ]
     },
     "execution_count": 11,
     "metadata": {},
     "output_type": "execute_result"
    }
   ],
   "source": [
    "# mengecek apa ada data yang terduplikat\n",
    "df.duplicated().sum()"
   ]
  },
  {
   "cell_type": "markdown",
   "id": "ae7792e5",
   "metadata": {},
   "source": [
    "Data di atas tidak ada yang terduplikasi."
   ]
  },
  {
   "cell_type": "code",
   "execution_count": 12,
   "id": "c5bc79ae",
   "metadata": {},
   "outputs": [
    {
     "data": {
      "text/html": [
       "<div>\n",
       "<style scoped>\n",
       "    .dataframe tbody tr th:only-of-type {\n",
       "        vertical-align: middle;\n",
       "    }\n",
       "\n",
       "    .dataframe tbody tr th {\n",
       "        vertical-align: top;\n",
       "    }\n",
       "\n",
       "    .dataframe thead th {\n",
       "        text-align: right;\n",
       "    }\n",
       "</style>\n",
       "<table border=\"1\" class=\"dataframe\">\n",
       "  <thead>\n",
       "    <tr style=\"text-align: right;\">\n",
       "      <th></th>\n",
       "      <th>ID</th>\n",
       "      <th>Year_Birth</th>\n",
       "      <th>Income</th>\n",
       "      <th>Kidhome</th>\n",
       "      <th>Teenhome</th>\n",
       "      <th>Dt_Customer</th>\n",
       "      <th>Recency</th>\n",
       "      <th>MntWines</th>\n",
       "      <th>MntFruits</th>\n",
       "      <th>MntMeatProducts</th>\n",
       "      <th>...</th>\n",
       "      <th>NumWebVisitsMonth</th>\n",
       "      <th>AcceptedCmp3</th>\n",
       "      <th>AcceptedCmp4</th>\n",
       "      <th>AcceptedCmp5</th>\n",
       "      <th>AcceptedCmp1</th>\n",
       "      <th>AcceptedCmp2</th>\n",
       "      <th>Complain</th>\n",
       "      <th>Z_CostContact</th>\n",
       "      <th>Z_Revenue</th>\n",
       "      <th>Response</th>\n",
       "    </tr>\n",
       "  </thead>\n",
       "  <tbody>\n",
       "    <tr>\n",
       "      <th>count</th>\n",
       "      <td>2240.000000</td>\n",
       "      <td>2240.000000</td>\n",
       "      <td>2216.000000</td>\n",
       "      <td>2240.000000</td>\n",
       "      <td>2240.000000</td>\n",
       "      <td>2240</td>\n",
       "      <td>2240.000000</td>\n",
       "      <td>2240.000000</td>\n",
       "      <td>2240.000000</td>\n",
       "      <td>2240.000000</td>\n",
       "      <td>...</td>\n",
       "      <td>2240.000000</td>\n",
       "      <td>2240.000000</td>\n",
       "      <td>2240.000000</td>\n",
       "      <td>2240.000000</td>\n",
       "      <td>2240.000000</td>\n",
       "      <td>2240.000000</td>\n",
       "      <td>2240.000000</td>\n",
       "      <td>2240.0</td>\n",
       "      <td>2240.0</td>\n",
       "      <td>2240.000000</td>\n",
       "    </tr>\n",
       "    <tr>\n",
       "      <th>mean</th>\n",
       "      <td>5592.159821</td>\n",
       "      <td>1968.805804</td>\n",
       "      <td>52247.251354</td>\n",
       "      <td>0.444196</td>\n",
       "      <td>0.506250</td>\n",
       "      <td>2013-07-10 10:01:42.857142784</td>\n",
       "      <td>49.109375</td>\n",
       "      <td>303.935714</td>\n",
       "      <td>26.302232</td>\n",
       "      <td>166.950000</td>\n",
       "      <td>...</td>\n",
       "      <td>5.316518</td>\n",
       "      <td>0.072768</td>\n",
       "      <td>0.074554</td>\n",
       "      <td>0.072768</td>\n",
       "      <td>0.064286</td>\n",
       "      <td>0.013393</td>\n",
       "      <td>0.009375</td>\n",
       "      <td>3.0</td>\n",
       "      <td>11.0</td>\n",
       "      <td>0.149107</td>\n",
       "    </tr>\n",
       "    <tr>\n",
       "      <th>min</th>\n",
       "      <td>0.000000</td>\n",
       "      <td>1893.000000</td>\n",
       "      <td>1730.000000</td>\n",
       "      <td>0.000000</td>\n",
       "      <td>0.000000</td>\n",
       "      <td>2012-07-30 00:00:00</td>\n",
       "      <td>0.000000</td>\n",
       "      <td>0.000000</td>\n",
       "      <td>0.000000</td>\n",
       "      <td>0.000000</td>\n",
       "      <td>...</td>\n",
       "      <td>0.000000</td>\n",
       "      <td>0.000000</td>\n",
       "      <td>0.000000</td>\n",
       "      <td>0.000000</td>\n",
       "      <td>0.000000</td>\n",
       "      <td>0.000000</td>\n",
       "      <td>0.000000</td>\n",
       "      <td>3.0</td>\n",
       "      <td>11.0</td>\n",
       "      <td>0.000000</td>\n",
       "    </tr>\n",
       "    <tr>\n",
       "      <th>25%</th>\n",
       "      <td>2828.250000</td>\n",
       "      <td>1959.000000</td>\n",
       "      <td>35303.000000</td>\n",
       "      <td>0.000000</td>\n",
       "      <td>0.000000</td>\n",
       "      <td>2013-01-16 00:00:00</td>\n",
       "      <td>24.000000</td>\n",
       "      <td>23.750000</td>\n",
       "      <td>1.000000</td>\n",
       "      <td>16.000000</td>\n",
       "      <td>...</td>\n",
       "      <td>3.000000</td>\n",
       "      <td>0.000000</td>\n",
       "      <td>0.000000</td>\n",
       "      <td>0.000000</td>\n",
       "      <td>0.000000</td>\n",
       "      <td>0.000000</td>\n",
       "      <td>0.000000</td>\n",
       "      <td>3.0</td>\n",
       "      <td>11.0</td>\n",
       "      <td>0.000000</td>\n",
       "    </tr>\n",
       "    <tr>\n",
       "      <th>50%</th>\n",
       "      <td>5458.500000</td>\n",
       "      <td>1970.000000</td>\n",
       "      <td>51381.500000</td>\n",
       "      <td>0.000000</td>\n",
       "      <td>0.000000</td>\n",
       "      <td>2013-07-08 12:00:00</td>\n",
       "      <td>49.000000</td>\n",
       "      <td>173.500000</td>\n",
       "      <td>8.000000</td>\n",
       "      <td>67.000000</td>\n",
       "      <td>...</td>\n",
       "      <td>6.000000</td>\n",
       "      <td>0.000000</td>\n",
       "      <td>0.000000</td>\n",
       "      <td>0.000000</td>\n",
       "      <td>0.000000</td>\n",
       "      <td>0.000000</td>\n",
       "      <td>0.000000</td>\n",
       "      <td>3.0</td>\n",
       "      <td>11.0</td>\n",
       "      <td>0.000000</td>\n",
       "    </tr>\n",
       "    <tr>\n",
       "      <th>75%</th>\n",
       "      <td>8427.750000</td>\n",
       "      <td>1977.000000</td>\n",
       "      <td>68522.000000</td>\n",
       "      <td>1.000000</td>\n",
       "      <td>1.000000</td>\n",
       "      <td>2013-12-30 06:00:00</td>\n",
       "      <td>74.000000</td>\n",
       "      <td>504.250000</td>\n",
       "      <td>33.000000</td>\n",
       "      <td>232.000000</td>\n",
       "      <td>...</td>\n",
       "      <td>7.000000</td>\n",
       "      <td>0.000000</td>\n",
       "      <td>0.000000</td>\n",
       "      <td>0.000000</td>\n",
       "      <td>0.000000</td>\n",
       "      <td>0.000000</td>\n",
       "      <td>0.000000</td>\n",
       "      <td>3.0</td>\n",
       "      <td>11.0</td>\n",
       "      <td>0.000000</td>\n",
       "    </tr>\n",
       "    <tr>\n",
       "      <th>max</th>\n",
       "      <td>11191.000000</td>\n",
       "      <td>1996.000000</td>\n",
       "      <td>666666.000000</td>\n",
       "      <td>2.000000</td>\n",
       "      <td>2.000000</td>\n",
       "      <td>2014-06-29 00:00:00</td>\n",
       "      <td>99.000000</td>\n",
       "      <td>1493.000000</td>\n",
       "      <td>199.000000</td>\n",
       "      <td>1725.000000</td>\n",
       "      <td>...</td>\n",
       "      <td>20.000000</td>\n",
       "      <td>1.000000</td>\n",
       "      <td>1.000000</td>\n",
       "      <td>1.000000</td>\n",
       "      <td>1.000000</td>\n",
       "      <td>1.000000</td>\n",
       "      <td>1.000000</td>\n",
       "      <td>3.0</td>\n",
       "      <td>11.0</td>\n",
       "      <td>1.000000</td>\n",
       "    </tr>\n",
       "    <tr>\n",
       "      <th>std</th>\n",
       "      <td>3246.662198</td>\n",
       "      <td>11.984069</td>\n",
       "      <td>25173.076661</td>\n",
       "      <td>0.538398</td>\n",
       "      <td>0.544538</td>\n",
       "      <td>NaN</td>\n",
       "      <td>28.962453</td>\n",
       "      <td>336.597393</td>\n",
       "      <td>39.773434</td>\n",
       "      <td>225.715373</td>\n",
       "      <td>...</td>\n",
       "      <td>2.426645</td>\n",
       "      <td>0.259813</td>\n",
       "      <td>0.262728</td>\n",
       "      <td>0.259813</td>\n",
       "      <td>0.245316</td>\n",
       "      <td>0.114976</td>\n",
       "      <td>0.096391</td>\n",
       "      <td>0.0</td>\n",
       "      <td>0.0</td>\n",
       "      <td>0.356274</td>\n",
       "    </tr>\n",
       "  </tbody>\n",
       "</table>\n",
       "<p>8 rows × 27 columns</p>\n",
       "</div>"
      ],
      "text/plain": [
       "                 ID   Year_Birth         Income      Kidhome     Teenhome  \\\n",
       "count   2240.000000  2240.000000    2216.000000  2240.000000  2240.000000   \n",
       "mean    5592.159821  1968.805804   52247.251354     0.444196     0.506250   \n",
       "min        0.000000  1893.000000    1730.000000     0.000000     0.000000   \n",
       "25%     2828.250000  1959.000000   35303.000000     0.000000     0.000000   \n",
       "50%     5458.500000  1970.000000   51381.500000     0.000000     0.000000   \n",
       "75%     8427.750000  1977.000000   68522.000000     1.000000     1.000000   \n",
       "max    11191.000000  1996.000000  666666.000000     2.000000     2.000000   \n",
       "std     3246.662198    11.984069   25173.076661     0.538398     0.544538   \n",
       "\n",
       "                         Dt_Customer      Recency     MntWines    MntFruits  \\\n",
       "count                           2240  2240.000000  2240.000000  2240.000000   \n",
       "mean   2013-07-10 10:01:42.857142784    49.109375   303.935714    26.302232   \n",
       "min              2012-07-30 00:00:00     0.000000     0.000000     0.000000   \n",
       "25%              2013-01-16 00:00:00    24.000000    23.750000     1.000000   \n",
       "50%              2013-07-08 12:00:00    49.000000   173.500000     8.000000   \n",
       "75%              2013-12-30 06:00:00    74.000000   504.250000    33.000000   \n",
       "max              2014-06-29 00:00:00    99.000000  1493.000000   199.000000   \n",
       "std                              NaN    28.962453   336.597393    39.773434   \n",
       "\n",
       "       MntMeatProducts  ...  NumWebVisitsMonth  AcceptedCmp3  AcceptedCmp4  \\\n",
       "count      2240.000000  ...        2240.000000   2240.000000   2240.000000   \n",
       "mean        166.950000  ...           5.316518      0.072768      0.074554   \n",
       "min           0.000000  ...           0.000000      0.000000      0.000000   \n",
       "25%          16.000000  ...           3.000000      0.000000      0.000000   \n",
       "50%          67.000000  ...           6.000000      0.000000      0.000000   \n",
       "75%         232.000000  ...           7.000000      0.000000      0.000000   \n",
       "max        1725.000000  ...          20.000000      1.000000      1.000000   \n",
       "std         225.715373  ...           2.426645      0.259813      0.262728   \n",
       "\n",
       "       AcceptedCmp5  AcceptedCmp1  AcceptedCmp2     Complain  Z_CostContact  \\\n",
       "count   2240.000000   2240.000000   2240.000000  2240.000000         2240.0   \n",
       "mean       0.072768      0.064286      0.013393     0.009375            3.0   \n",
       "min        0.000000      0.000000      0.000000     0.000000            3.0   \n",
       "25%        0.000000      0.000000      0.000000     0.000000            3.0   \n",
       "50%        0.000000      0.000000      0.000000     0.000000            3.0   \n",
       "75%        0.000000      0.000000      0.000000     0.000000            3.0   \n",
       "max        1.000000      1.000000      1.000000     1.000000            3.0   \n",
       "std        0.259813      0.245316      0.114976     0.096391            0.0   \n",
       "\n",
       "       Z_Revenue     Response  \n",
       "count     2240.0  2240.000000  \n",
       "mean        11.0     0.149107  \n",
       "min         11.0     0.000000  \n",
       "25%         11.0     0.000000  \n",
       "50%         11.0     0.000000  \n",
       "75%         11.0     0.000000  \n",
       "max         11.0     1.000000  \n",
       "std          0.0     0.356274  \n",
       "\n",
       "[8 rows x 27 columns]"
      ]
     },
     "metadata": {},
     "output_type": "display_data"
    },
    {
     "data": {
      "text/html": [
       "<div>\n",
       "<style scoped>\n",
       "    .dataframe tbody tr th:only-of-type {\n",
       "        vertical-align: middle;\n",
       "    }\n",
       "\n",
       "    .dataframe tbody tr th {\n",
       "        vertical-align: top;\n",
       "    }\n",
       "\n",
       "    .dataframe thead th {\n",
       "        text-align: right;\n",
       "    }\n",
       "</style>\n",
       "<table border=\"1\" class=\"dataframe\">\n",
       "  <thead>\n",
       "    <tr style=\"text-align: right;\">\n",
       "      <th></th>\n",
       "      <th>Education</th>\n",
       "      <th>Marital_Status</th>\n",
       "    </tr>\n",
       "  </thead>\n",
       "  <tbody>\n",
       "    <tr>\n",
       "      <th>count</th>\n",
       "      <td>2240</td>\n",
       "      <td>2240</td>\n",
       "    </tr>\n",
       "    <tr>\n",
       "      <th>unique</th>\n",
       "      <td>5</td>\n",
       "      <td>8</td>\n",
       "    </tr>\n",
       "    <tr>\n",
       "      <th>top</th>\n",
       "      <td>Graduation</td>\n",
       "      <td>Married</td>\n",
       "    </tr>\n",
       "    <tr>\n",
       "      <th>freq</th>\n",
       "      <td>1127</td>\n",
       "      <td>864</td>\n",
       "    </tr>\n",
       "  </tbody>\n",
       "</table>\n",
       "</div>"
      ],
      "text/plain": [
       "         Education Marital_Status\n",
       "count         2240           2240\n",
       "unique           5              8\n",
       "top     Graduation        Married\n",
       "freq          1127            864"
      ]
     },
     "metadata": {},
     "output_type": "display_data"
    }
   ],
   "source": [
    "display (df.describe(), df.describe(include = object))"
   ]
  },
  {
   "cell_type": "code",
   "execution_count": 13,
   "id": "bd4ad0eb",
   "metadata": {},
   "outputs": [
    {
     "data": {
      "text/plain": [
       "ID                      0\n",
       "Year_Birth              0\n",
       "Education               0\n",
       "Marital_Status          0\n",
       "Income                 24\n",
       "Kidhome                 0\n",
       "Teenhome                0\n",
       "Dt_Customer             0\n",
       "Recency                 0\n",
       "MntWines                0\n",
       "MntFruits               0\n",
       "MntMeatProducts         0\n",
       "MntFishProducts         0\n",
       "MntSweetProducts        0\n",
       "MntGoldProds            0\n",
       "NumDealsPurchases       0\n",
       "NumWebPurchases         0\n",
       "NumCatalogPurchases     0\n",
       "NumStorePurchases       0\n",
       "NumWebVisitsMonth       0\n",
       "AcceptedCmp3            0\n",
       "AcceptedCmp4            0\n",
       "AcceptedCmp5            0\n",
       "AcceptedCmp1            0\n",
       "AcceptedCmp2            0\n",
       "Complain                0\n",
       "Z_CostContact           0\n",
       "Z_Revenue               0\n",
       "Response                0\n",
       "dtype: int64"
      ]
     },
     "execution_count": 13,
     "metadata": {},
     "output_type": "execute_result"
    }
   ],
   "source": [
    "# mencari terdapat kolum data yang kosong atau tidak\n",
    "df.isna().sum()"
   ]
  },
  {
   "cell_type": "code",
   "execution_count": 14,
   "id": "0179d12b",
   "metadata": {},
   "outputs": [],
   "source": [
    "df = df.dropna (subset = ['Income'])"
   ]
  },
  {
   "cell_type": "markdown",
   "id": "2388ce96",
   "metadata": {},
   "source": [
    "Karena terdapat nilai kosong di kolom Income, maka decide untuk didrop saja karena data hanya 24 baris, agar tidak mempengaruhi hasil dari keseluruhan data. Karena semisal diimputasi/ diisi, penyebaran data pun random, agar tidak terjadi hal yang tidak akurat seperti, contoh: ['income'] yang tinggi pada kolom ['Education'] yang status pendidikannya Basic/ lulusan SMA."
   ]
  },
  {
   "cell_type": "code",
   "execution_count": 15,
   "id": "1fe5320f",
   "metadata": {},
   "outputs": [
    {
     "data": {
      "text/plain": [
       "ID                     0\n",
       "Year_Birth             0\n",
       "Education              0\n",
       "Marital_Status         0\n",
       "Income                 0\n",
       "Kidhome                0\n",
       "Teenhome               0\n",
       "Dt_Customer            0\n",
       "Recency                0\n",
       "MntWines               0\n",
       "MntFruits              0\n",
       "MntMeatProducts        0\n",
       "MntFishProducts        0\n",
       "MntSweetProducts       0\n",
       "MntGoldProds           0\n",
       "NumDealsPurchases      0\n",
       "NumWebPurchases        0\n",
       "NumCatalogPurchases    0\n",
       "NumStorePurchases      0\n",
       "NumWebVisitsMonth      0\n",
       "AcceptedCmp3           0\n",
       "AcceptedCmp4           0\n",
       "AcceptedCmp5           0\n",
       "AcceptedCmp1           0\n",
       "AcceptedCmp2           0\n",
       "Complain               0\n",
       "Z_CostContact          0\n",
       "Z_Revenue              0\n",
       "Response               0\n",
       "dtype: int64"
      ]
     },
     "execution_count": 15,
     "metadata": {},
     "output_type": "execute_result"
    }
   ],
   "source": [
    "df.isna().sum()"
   ]
  },
  {
   "cell_type": "code",
   "execution_count": 16,
   "id": "7dfb3938",
   "metadata": {},
   "outputs": [
    {
     "data": {
      "text/plain": [
       "<Axes: >"
      ]
     },
     "execution_count": 16,
     "metadata": {},
     "output_type": "execute_result"
    },
    {
     "data": {
      "image/png": "[encoded data removed]",
      "text/plain": [
       "<Figure size 2500x1000 with 2 Axes>"
      ]
     },
     "metadata": {},
     "output_type": "display_data"
    }
   ],
   "source": [
    "missingno.matrix(df)"
   ]
  },
  {
   "cell_type": "markdown",
   "id": "93dcabc1",
   "metadata": {},
   "source": [
    "Data telah aman."
   ]
  },
  {
   "cell_type": "code",
   "execution_count": 17,
   "id": "30515b51",
   "metadata": {},
   "outputs": [
    {
     "data": {
      "text/html": [
       "<div>\n",
       "<style scoped>\n",
       "    .dataframe tbody tr th:only-of-type {\n",
       "        vertical-align: middle;\n",
       "    }\n",
       "\n",
       "    .dataframe tbody tr th {\n",
       "        vertical-align: top;\n",
       "    }\n",
       "\n",
       "    .dataframe thead th {\n",
       "        text-align: right;\n",
       "    }\n",
       "</style>\n",
       "<table border=\"1\" class=\"dataframe\">\n",
       "  <thead>\n",
       "    <tr style=\"text-align: right;\">\n",
       "      <th></th>\n",
       "      <th>Column Name</th>\n",
       "      <th>Number of Unique</th>\n",
       "      <th>Unique Sample</th>\n",
       "    </tr>\n",
       "  </thead>\n",
       "  <tbody>\n",
       "    <tr>\n",
       "      <th>0</th>\n",
       "      <td>ID</td>\n",
       "      <td>2216</td>\n",
       "      <td>[5524, 2174, 4141, 6182, 5324, 7446, 965, 6177, 4855, 5899, 387, 2125, 8180, 2569, 2114, 9736, 4939, 6565, 2278, 9360, 5376, 1993, 4047, 1409, 7892, 2404, 9422, 1966, 6864, 3033, 5710, 7373, 8755, 10738, 4339, 10755, 8595, 2968, 8601, 503, 8430, 2139, 1371, 9909, 7286, 6566, 8614, 4114, 1331, 2225, 9381, 6260, 10383, 7437, 8375, 6853, 3076, 1012, 6518, 4137, 8082, 1386, 9369, 4477, 1357, 1402, 6312, 8132, 1050, 5846, 1859, 7503, 10401, 1618, 3332, 2261, 5346, 4119, 535, 5268, 273, 4452, 8504, 771, 11178, 2230, 7516, 7247, 11100, 4646, 3037, 1473, 1016, 4518, 9370, 8908, 8373, 7533, 2683, 3629, ...]</td>\n",
       "    </tr>\n",
       "    <tr>\n",
       "      <th>1</th>\n",
       "      <td>Year_Birth</td>\n",
       "      <td>59</td>\n",
       "      <td>[1957, 1954, 1965, 1984, 1981, 1967, 1971, 1985, 1974, 1950, 1976, 1959, 1952, 1987, 1946, 1980, 1949, 1982, 1979, 1951, 1969, 1989, 1963, 1970, 1973, 1943, 1975, 1996, 1968, 1964, 1977, 1978, 1955, 1966, 1988, 1948, 1958, 1972, 1960, 1983, 1945, 1991, 1962, 1953, 1956, 1992, 1961, 1900, 1986, 1893, 1990, 1947, 1899, 1993, 1994, 1941, 1944, 1995, 1940]</td>\n",
       "    </tr>\n",
       "    <tr>\n",
       "      <th>2</th>\n",
       "      <td>Education</td>\n",
       "      <td>5</td>\n",
       "      <td>[Graduation, PhD, Master, Basic, 2n Cycle]</td>\n",
       "    </tr>\n",
       "    <tr>\n",
       "      <th>3</th>\n",
       "      <td>Marital_Status</td>\n",
       "      <td>8</td>\n",
       "      <td>[Single, Together, Married, Divorced, Widow, Alone, Absurd, YOLO]</td>\n",
       "    </tr>\n",
       "    <tr>\n",
       "      <th>4</th>\n",
       "      <td>Income</td>\n",
       "      <td>1974</td>\n",
       "      <td>[58138.0, 46344.0, 71613.0, 26646.0, 58293.0, 62513.0, 55635.0, 33454.0, 30351.0, 5648.0, 7500.0, 63033.0, 59354.0, 17323.0, 82800.0, 41850.0, 37760.0, 76995.0, 33812.0, 37040.0, 2447.0, 58607.0, 65324.0, 40689.0, 18589.0, 53359.0, 38360.0, 84618.0, 10979.0, 38620.0, 40548.0, 46610.0, 68657.0, 49389.0, 67353.0, 23718.0, 42429.0, 48948.0, 80011.0, 20559.0, 21994.0, 79941.0, 41728.0, 72550.0, 65486.0, 79143.0, 35790.0, 82582.0, 66373.0, 82384.0, 70287.0, 27938.0, 55954.0, 75777.0, 66653.0, 61823.0, 67680.0, 70666.0, 25721.0, 32474.0, 88194.0, 69096.0, 74854.0, 66991.0, 65031.0, 60631.0, 28332.0, 40246.0, 75251.0, 75825.0, 26326.0, 56046.0, 29760.0, 26304.0, 23559.0, 81361.0, 29440.0, 36138.0, 50388.0, 79593.0, 54178.0, 42394.0, 23626.0, 30096.0, 47916.0, 51813.0, 78497.0, 50150.0, 47823.0, 34554.0, 85693.0, 65846.0, 87195.0, 24594.0, 49096.0, 52413.0, 38557.0, 89058.0, 77298.0, 68126.0, ...]</td>\n",
       "    </tr>\n",
       "    <tr>\n",
       "      <th>5</th>\n",
       "      <td>Kidhome</td>\n",
       "      <td>3</td>\n",
       "      <td>[0, 1, 2]</td>\n",
       "    </tr>\n",
       "    <tr>\n",
       "      <th>6</th>\n",
       "      <td>Teenhome</td>\n",
       "      <td>3</td>\n",
       "      <td>[0, 1, 2]</td>\n",
       "    </tr>\n",
       "    <tr>\n",
       "      <th>7</th>\n",
       "      <td>Dt_Customer</td>\n",
       "      <td>662</td>\n",
       "      <td>[2012-09-04 00:00:00, 2014-03-08 00:00:00, 2013-08-21 00:00:00, 2014-02-10 00:00:00, 2014-01-19 00:00:00, 2013-09-09 00:00:00, 2012-11-13 00:00:00, 2013-05-08 00:00:00, 2013-06-06 00:00:00, 2014-03-13 00:00:00, 2013-11-15 00:00:00, 2012-10-10 00:00:00, 2012-11-24 00:00:00, 2012-12-24 00:00:00, 2012-08-31 00:00:00, 2013-03-28 00:00:00, 2012-11-03 00:00:00, 2012-08-08 00:00:00, 2013-01-06 00:00:00, 2012-12-23 00:00:00, 2014-01-11 00:00:00, 2013-03-18 00:00:00, 2013-01-02 00:00:00, 2013-05-27 00:00:00, 2013-05-31 00:00:00, 2013-11-22 00:00:00, 2014-05-22 00:00:00, 2013-05-11 00:00:00, 2012-10-29 00:00:00, 2013-02-20 00:00:00, 2013-08-29 00:00:00, 2013-12-31 00:00:00, 2013-09-02 00:00:00, 2014-02-11 00:00:00, 2013-02-01 00:00:00, 2013-04-29 00:00:00, 2013-03-12 00:00:00, 2013-10-02 00:00:00, 2014-06-28 00:00:00, 2012-11-09 00:00:00, 2013-05-24 00:00:00, 2012-11-08 00:00:00, 2014-05-12 00:00:00, 2012-08-11 00:00:00, 2014-06-07 00:00:00, 2013-06-12 00:00:00, 2012-11-19 00:00:00, 2013-04-02 00:00:00, 2014-04-28 00:00:00, 2014-03-03 00:00:00, 2013-07-04 00:00:00, 2012-09-07 00:00:00, 2013-02-18 00:00:00, 2013-06-11 00:00:00, 2013-12-06 00:00:00, 2013-05-21 00:00:00, 2014-05-11 00:00:00, 2014-03-19 00:00:00, 2013-09-27 00:00:00, 2013-04-08 00:00:00, 2012-09-11 00:00:00, 2013-03-17 00:00:00, 2013-04-05 00:00:00, 2014-04-30 00:00:00, 2012-12-19 00:00:00, 2012-08-27 00:00:00, 2012-10-12 00:00:00, 2013-09-04 00:00:00, 2012-08-29 00:00:00, 2013-06-23 00:00:00, 2013-07-03 00:00:00, 2014-02-25 00:00:00, 2013-08-11 00:00:00, 2013-07-16 00:00:00, 2014-05-28 00:00:00, 2014-01-21 00:00:00, 2014-03-23 00:00:00, 2014-05-24 00:00:00, 2012-11-22 00:00:00, 2013-04-11 00:00:00, 2013-12-01 00:00:00, 2013-06-20 00:00:00, 2013-07-23 00:00:00, 2014-03-30 00:00:00, 2013-04-20 00:00:00, 2013-05-17 00:00:00, 2014-05-08 00:00:00, 2013-12-10 00:00:00, 2013-09-24 00:00:00, 2013-02-02 00:00:00, 2012-12-07 00:00:00, 2013-11-02 00:00:00, 2012-11-10 00:00:00, 2014-06-25 00:00:00, 2012-12-12 00:00:00, 2013-09-10 00:00:00, 2014-01-24 00:00:00, 2013-02-19 00:00:00, 2013-07-11 00:00:00, 2013-11-14 00:00:00, ...]</td>\n",
       "    </tr>\n",
       "    <tr>\n",
       "      <th>8</th>\n",
       "      <td>Recency</td>\n",
       "      <td>100</td>\n",
       "      <td>[58, 38, 26, 94, 16, 34, 32, 19, 68, 59, 82, 53, 23, 51, 20, 91, 86, 41, 42, 63, 0, 69, 89, 4, 96, 56, 31, 8, 55, 37, 76, 99, 3, 88, 72, 24, 92, 39, 29, 2, 54, 57, 30, 12, 18, 75, 90, 1, 40, 9, 87, 5, 95, 48, 70, 79, 84, 44, 43, 35, 15, 17, 46, 27, 25, 74, 85, 65, 13, 83, 10, 21, 61, 73, 47, 36, 49, 28, 64, 98, 78, 77, 81, 80, 45, 14, 52, 93, 50, 60, 11, 66, 97, 62, 6, 33, 22, 71, 67, 7]</td>\n",
       "    </tr>\n",
       "    <tr>\n",
       "      <th>9</th>\n",
       "      <td>MntWines</td>\n",
       "      <td>776</td>\n",
       "      <td>[635, 11, 426, 173, 520, 235, 76, 14, 28, 6, 194, 233, 3, 1006, 53, 84, 1012, 4, 86, 1, 867, 384, 270, 36, 684, 8, 112, 110, 96, 482, 40, 702, 55, 437, 421, 13, 9, 123, 826, 245, 650, 12, 510, 328, 984, 295, 447, 712, 452, 523, 546, 398, 10, 688, 247, 856, 496, 258, 565, 2, 721, 1032, 577, 64, 25, 163, 17, 130, 292, 350, 135, 15, 27, 5, 505, 51, 207, 41, 386, 562, 217, 144, 454, 425, 1332, 527, 490, 378, 547, 47, 320, 34, 722, 162, 450, 70, 492, 120, 534, 236, ...]</td>\n",
       "    </tr>\n",
       "    <tr>\n",
       "      <th>10</th>\n",
       "      <td>MntFruits</td>\n",
       "      <td>158</td>\n",
       "      <td>[88, 1, 49, 4, 43, 42, 65, 10, 0, 16, 61, 2, 14, 22, 5, 80, 17, 3, 100, 12, 34, 8, 76, 164, 18, 6, 50, 19, 37, 120, 9, 51, 35, 26, 7, 40, 59, 36, 107, 111, 105, 23, 60, 46, 172, 81, 106, 194, 115, 44, 99, 90, 48, 27, 33, 133, 58, 28, 21, 20, 11, 162, 71, 66, 30, 189, 138, 29, 24, 32, 86, 114, 153, 64, 134, 148, 47, 41, 84, 74, 129, 15, 98, 183, 147, 144, 104, 91, 163, 152, 53, 68, 137, 190, 38, 70, 96, 25, 13, 83, ...]</td>\n",
       "    </tr>\n",
       "    <tr>\n",
       "      <th>11</th>\n",
       "      <td>MntMeatProducts</td>\n",
       "      <td>554</td>\n",
       "      <td>[546, 6, 127, 20, 118, 98, 164, 56, 24, 11, 480, 53, 17, 115, 19, 38, 498, 73, 1725, 86, 102, 27, 25, 30, 42, 801, 10, 44, 5, 96, 471, 151, 14, 206, 536, 29, 266, 15, 317, 125, 780, 550, 124, 432, 482, 8, 28, 538, 134, 48, 367, 1, 309, 159, 487, 460, 291, 65, 13, 925, 779, 64, 68, 424, 16, 37, 568, 39, 26, 7, 447, 92, 183, 276, 690, 32, 271, 31, 106, 292, 311, 21, 101, 812, 94, 133, 951, 110, 47, 189, 33, 590, 3, 34, 12, 921, 232, 756, 132, 41, ...]</td>\n",
       "    </tr>\n",
       "    <tr>\n",
       "      <th>12</th>\n",
       "      <td>MntFishProducts</td>\n",
       "      <td>182</td>\n",
       "      <td>[172, 2, 111, 10, 46, 0, 50, 3, 1, 11, 225, 6, 59, 150, 30, 69, 21, 39, 15, 20, 34, 33, 119, 160, 82, 227, 37, 27, 156, 12, 180, 121, 16, 201, 7, 58, 189, 84, 4, 97, 137, 110, 75, 65, 185, 80, 31, 23, 29, 151, 123, 44, 40, 173, 38, 52, 13, 36, 43, 73, 32, 8, 19, 149, 134, 86, 140, 147, 224, 42, 76, 47, 254, 25, 67, 28, 186, 218, 104, 133, 220, 45, 24, 205, 162, 95, 101, 188, 55, 166, 216, 60, 219, 17, 77, 78, 72, 212, 129, 93, ...]</td>\n",
       "    </tr>\n",
       "    <tr>\n",
       "      <th>13</th>\n",
       "      <td>MntSweetProducts</td>\n",
       "      <td>176</td>\n",
       "      <td>[88, 1, 21, 3, 27, 42, 49, 112, 5, 68, 13, 12, 16, 24, 38, 0, 32, 6, 66, 2, 22, 8, 7, 178, 30, 67, 167, 40, 120, 18, 14, 122, 82, 29, 60, 37, 15, 105, 65, 4, 133, 61, 132, 26, 98, 35, 51, 20, 103, 9, 72, 28, 89, 41, 44, 33, 11, 91, 76, 17, 71, 113, 19, 173, 23, 87, 176, 102, 48, 138, 10, 163, 124, 70, 172, 84, 149, 73, 92, 130, 25, 74, 114, 141, 54, 147, 45, 46, 97, 64, 118, 153, 189, 107, 128, 50, 134, 36, 150, 78, ...]</td>\n",
       "    </tr>\n",
       "    <tr>\n",
       "      <th>14</th>\n",
       "      <td>MntGoldProds</td>\n",
       "      <td>212</td>\n",
       "      <td>[88, 6, 42, 5, 15, 14, 27, 23, 2, 13, 16, 30, 45, 4, 28, 176, 39, 48, 1, 19, 99, 41, 10, 0, 89, 3, 43, 22, 35, 36, 102, 7, 12, 174, 50, 38, 32, 241, 109, 190, 40, 80, 169, 73, 86, 9, 18, 51, 17, 76, 34, 145, 75, 223, 11, 111, 81, 65, 79, 60, 72, 33, 120, 168, 172, 216, 58, 130, 20, 126, 116, 49, 8, 91, 57, 124, 26, 141, 117, 25, 92, 54, 21, 192, 44, 66, 182, 181, 152, 77, 70, 148, 24, 69, 146, 162, 131, 74, 135, 203, ...]</td>\n",
       "    </tr>\n",
       "    <tr>\n",
       "      <th>15</th>\n",
       "      <td>NumDealsPurchases</td>\n",
       "      <td>15</td>\n",
       "      <td>[3, 2, 1, 5, 4, 15, 7, 6, 9, 0, 8, 10, 13, 11, 12]</td>\n",
       "    </tr>\n",
       "    <tr>\n",
       "      <th>16</th>\n",
       "      <td>NumWebPurchases</td>\n",
       "      <td>15</td>\n",
       "      <td>[8, 1, 2, 5, 6, 7, 4, 3, 11, 0, 10, 9, 23, 27, 25]</td>\n",
       "    </tr>\n",
       "    <tr>\n",
       "      <th>17</th>\n",
       "      <td>NumCatalogPurchases</td>\n",
       "      <td>14</td>\n",
       "      <td>[10, 1, 2, 0, 3, 4, 6, 28, 9, 5, 8, 7, 11, 22]</td>\n",
       "    </tr>\n",
       "    <tr>\n",
       "      <th>18</th>\n",
       "      <td>NumStorePurchases</td>\n",
       "      <td>14</td>\n",
       "      <td>[4, 2, 10, 6, 7, 0, 3, 8, 5, 12, 9, 13, 11, 1]</td>\n",
       "    </tr>\n",
       "    <tr>\n",
       "      <th>19</th>\n",
       "      <td>NumWebVisitsMonth</td>\n",
       "      <td>16</td>\n",
       "      <td>[7, 5, 4, 6, 8, 9, 20, 2, 3, 1, 10, 0, 14, 19, 17, 13]</td>\n",
       "    </tr>\n",
       "    <tr>\n",
       "      <th>20</th>\n",
       "      <td>AcceptedCmp3</td>\n",
       "      <td>2</td>\n",
       "      <td>[0, 1]</td>\n",
       "    </tr>\n",
       "    <tr>\n",
       "      <th>21</th>\n",
       "      <td>AcceptedCmp4</td>\n",
       "      <td>2</td>\n",
       "      <td>[0, 1]</td>\n",
       "    </tr>\n",
       "    <tr>\n",
       "      <th>22</th>\n",
       "      <td>AcceptedCmp5</td>\n",
       "      <td>2</td>\n",
       "      <td>[0, 1]</td>\n",
       "    </tr>\n",
       "    <tr>\n",
       "      <th>23</th>\n",
       "      <td>AcceptedCmp1</td>\n",
       "      <td>2</td>\n",
       "      <td>[0, 1]</td>\n",
       "    </tr>\n",
       "    <tr>\n",
       "      <th>24</th>\n",
       "      <td>AcceptedCmp2</td>\n",
       "      <td>2</td>\n",
       "      <td>[0, 1]</td>\n",
       "    </tr>\n",
       "    <tr>\n",
       "      <th>25</th>\n",
       "      <td>Complain</td>\n",
       "      <td>2</td>\n",
       "      <td>[0, 1]</td>\n",
       "    </tr>\n",
       "    <tr>\n",
       "      <th>26</th>\n",
       "      <td>Z_CostContact</td>\n",
       "      <td>1</td>\n",
       "      <td>[3]</td>\n",
       "    </tr>\n",
       "    <tr>\n",
       "      <th>27</th>\n",
       "      <td>Z_Revenue</td>\n",
       "      <td>1</td>\n",
       "      <td>[11]</td>\n",
       "    </tr>\n",
       "    <tr>\n",
       "      <th>28</th>\n",
       "      <td>Response</td>\n",
       "      <td>2</td>\n",
       "      <td>[1, 0]</td>\n",
       "    </tr>\n",
       "  </tbody>\n",
       "</table>\n",
       "</div>"
      ],
      "text/plain": [
       "            Column Name  Number of Unique  \\\n",
       "0                    ID              2216   \n",
       "1            Year_Birth                59   \n",
       "2             Education                 5   \n",
       "3        Marital_Status                 8   \n",
       "4                Income              1974   \n",
       "5               Kidhome                 3   \n",
       "6              Teenhome                 3   \n",
       "7           Dt_Customer               662   \n",
       "8               Recency               100   \n",
       "9              MntWines               776   \n",
       "10            MntFruits               158   \n",
       "11      MntMeatProducts               554   \n",
       "12      MntFishProducts               182   \n",
       "13     MntSweetProducts               176   \n",
       "14         MntGoldProds               212   \n",
       "15    NumDealsPurchases                15   \n",
       "16      NumWebPurchases                15   \n",
       "17  NumCatalogPurchases                14   \n",
       "18    NumStorePurchases                14   \n",
       "19    NumWebVisitsMonth                16   \n",
       "20         AcceptedCmp3                 2   \n",
       "21         AcceptedCmp4                 2   \n",
       "22         AcceptedCmp5                 2   \n",
       "23         AcceptedCmp1                 2   \n",
       "24         AcceptedCmp2                 2   \n",
       "25             Complain                 2   \n",
       "26        Z_CostContact                 1   \n",
       "27            Z_Revenue                 1   \n",
       "28             Response                 2   \n",
       "\n",
       "                                                                                                                                                                                                                                                                                                                                                                                                                                                                                                                                                                                                                                                                                                                                                                                                                                                                                                                                                                                                                                                                                                                                                                                                                                                                                                                                                                                                                                                                                                                                                                                                                                                                                                                                                                                                                                                                                                                                                                                                                                                                                                                                                                                Unique Sample  \n",
       "0                                                                                                                                                                                                                                                                                                                                                                                                                                                                                                                                                                                                                                                                                                                                                                                                                                                                                                                                                                                                                                                                                                                                                                                                                                                                                                                                                                                                                                                                                                                                                               [5524, 2174, 4141, 6182, 5324, 7446, 965, 6177, 4855, 5899, 387, 2125, 8180, 2569, 2114, 9736, 4939, 6565, 2278, 9360, 5376, 1993, 4047, 1409, 7892, 2404, 9422, 1966, 6864, 3033, 5710, 7373, 8755, 10738, 4339, 10755, 8595, 2968, 8601, 503, 8430, 2139, 1371, 9909, 7286, 6566, 8614, 4114, 1331, 2225, 9381, 6260, 10383, 7437, 8375, 6853, 3076, 1012, 6518, 4137, 8082, 1386, 9369, 4477, 1357, 1402, 6312, 8132, 1050, 5846, 1859, 7503, 10401, 1618, 3332, 2261, 5346, 4119, 535, 5268, 273, 4452, 8504, 771, 11178, 2230, 7516, 7247, 11100, 4646, 3037, 1473, 1016, 4518, 9370, 8908, 8373, 7533, 2683, 3629, ...]  \n",
       "1                                                                                                                                                                                                                                                                                                                                                                                                                                                                                                                                                                                                                                                                                                                                                                                                                                                                                                                                                                                                                                                                                                                                                                                                                                                                                                                                                                                                                                                                                                                                                                                                                                                                                                                                                                                                                          [1957, 1954, 1965, 1984, 1981, 1967, 1971, 1985, 1974, 1950, 1976, 1959, 1952, 1987, 1946, 1980, 1949, 1982, 1979, 1951, 1969, 1989, 1963, 1970, 1973, 1943, 1975, 1996, 1968, 1964, 1977, 1978, 1955, 1966, 1988, 1948, 1958, 1972, 1960, 1983, 1945, 1991, 1962, 1953, 1956, 1992, 1961, 1900, 1986, 1893, 1990, 1947, 1899, 1993, 1994, 1941, 1944, 1995, 1940]  \n",
       "2                                                                                                                                                                                                                                                                                                                                                                                                                                                                                                                                                                                                                                                                                                                                                                                                                                                                                                                                                                                                                                                                                                                                                                                                                                                                                                                                                                                                                                                                                                                                                                                                                                                                                                                                                                                                                                                                                                                                                                                                                                                                                                                                                  [Graduation, PhD, Master, Basic, 2n Cycle]  \n",
       "3                                                                                                                                                                                                                                                                                                                                                                                                                                                                                                                                                                                                                                                                                                                                                                                                                                                                                                                                                                                                                                                                                                                                                                                                                                                                                                                                                                                                                                                                                                                                                                                                                                                                                                                                                                                                                                                                                                                                                                                                                                                                                                                           [Single, Together, Married, Divorced, Widow, Alone, Absurd, YOLO]  \n",
       "4                                                                                                                                                                                                                                                                                                                                                                                                                                                                                                                                                                                                                                                                                                                                                                                                                                                                                                                                                                                                                                                                                                                                                                                                                                                      [58138.0, 46344.0, 71613.0, 26646.0, 58293.0, 62513.0, 55635.0, 33454.0, 30351.0, 5648.0, 7500.0, 63033.0, 59354.0, 17323.0, 82800.0, 41850.0, 37760.0, 76995.0, 33812.0, 37040.0, 2447.0, 58607.0, 65324.0, 40689.0, 18589.0, 53359.0, 38360.0, 84618.0, 10979.0, 38620.0, 40548.0, 46610.0, 68657.0, 49389.0, 67353.0, 23718.0, 42429.0, 48948.0, 80011.0, 20559.0, 21994.0, 79941.0, 41728.0, 72550.0, 65486.0, 79143.0, 35790.0, 82582.0, 66373.0, 82384.0, 70287.0, 27938.0, 55954.0, 75777.0, 66653.0, 61823.0, 67680.0, 70666.0, 25721.0, 32474.0, 88194.0, 69096.0, 74854.0, 66991.0, 65031.0, 60631.0, 28332.0, 40246.0, 75251.0, 75825.0, 26326.0, 56046.0, 29760.0, 26304.0, 23559.0, 81361.0, 29440.0, 36138.0, 50388.0, 79593.0, 54178.0, 42394.0, 23626.0, 30096.0, 47916.0, 51813.0, 78497.0, 50150.0, 47823.0, 34554.0, 85693.0, 65846.0, 87195.0, 24594.0, 49096.0, 52413.0, 38557.0, 89058.0, 77298.0, 68126.0, ...]  \n",
       "5                                                                                                                                                                                                                                                                                                                                                                                                                                                                                                                                                                                                                                                                                                                                                                                                                                                                                                                                                                                                                                                                                                                                                                                                                                                                                                                                                                                                                                                                                                                                                                                                                                                                                                                                                                                                                                                                                                                                                                                                                                                                                                                                                                                   [0, 1, 2]  \n",
       "6                                                                                                                                                                                                                                                                                                                                                                                                                                                                                                                                                                                                                                                                                                                                                                                                                                                                                                                                                                                                                                                                                                                                                                                                                                                                                                                                                                                                                                                                                                                                                                                                                                                                                                                                                                                                                                                                                                                                                                                                                                                                                                                                                                                   [0, 1, 2]  \n",
       "7   [2012-09-04 00:00:00, 2014-03-08 00:00:00, 2013-08-21 00:00:00, 2014-02-10 00:00:00, 2014-01-19 00:00:00, 2013-09-09 00:00:00, 2012-11-13 00:00:00, 2013-05-08 00:00:00, 2013-06-06 00:00:00, 2014-03-13 00:00:00, 2013-11-15 00:00:00, 2012-10-10 00:00:00, 2012-11-24 00:00:00, 2012-12-24 00:00:00, 2012-08-31 00:00:00, 2013-03-28 00:00:00, 2012-11-03 00:00:00, 2012-08-08 00:00:00, 2013-01-06 00:00:00, 2012-12-23 00:00:00, 2014-01-11 00:00:00, 2013-03-18 00:00:00, 2013-01-02 00:00:00, 2013-05-27 00:00:00, 2013-05-31 00:00:00, 2013-11-22 00:00:00, 2014-05-22 00:00:00, 2013-05-11 00:00:00, 2012-10-29 00:00:00, 2013-02-20 00:00:00, 2013-08-29 00:00:00, 2013-12-31 00:00:00, 2013-09-02 00:00:00, 2014-02-11 00:00:00, 2013-02-01 00:00:00, 2013-04-29 00:00:00, 2013-03-12 00:00:00, 2013-10-02 00:00:00, 2014-06-28 00:00:00, 2012-11-09 00:00:00, 2013-05-24 00:00:00, 2012-11-08 00:00:00, 2014-05-12 00:00:00, 2012-08-11 00:00:00, 2014-06-07 00:00:00, 2013-06-12 00:00:00, 2012-11-19 00:00:00, 2013-04-02 00:00:00, 2014-04-28 00:00:00, 2014-03-03 00:00:00, 2013-07-04 00:00:00, 2012-09-07 00:00:00, 2013-02-18 00:00:00, 2013-06-11 00:00:00, 2013-12-06 00:00:00, 2013-05-21 00:00:00, 2014-05-11 00:00:00, 2014-03-19 00:00:00, 2013-09-27 00:00:00, 2013-04-08 00:00:00, 2012-09-11 00:00:00, 2013-03-17 00:00:00, 2013-04-05 00:00:00, 2014-04-30 00:00:00, 2012-12-19 00:00:00, 2012-08-27 00:00:00, 2012-10-12 00:00:00, 2013-09-04 00:00:00, 2012-08-29 00:00:00, 2013-06-23 00:00:00, 2013-07-03 00:00:00, 2014-02-25 00:00:00, 2013-08-11 00:00:00, 2013-07-16 00:00:00, 2014-05-28 00:00:00, 2014-01-21 00:00:00, 2014-03-23 00:00:00, 2014-05-24 00:00:00, 2012-11-22 00:00:00, 2013-04-11 00:00:00, 2013-12-01 00:00:00, 2013-06-20 00:00:00, 2013-07-23 00:00:00, 2014-03-30 00:00:00, 2013-04-20 00:00:00, 2013-05-17 00:00:00, 2014-05-08 00:00:00, 2013-12-10 00:00:00, 2013-09-24 00:00:00, 2013-02-02 00:00:00, 2012-12-07 00:00:00, 2013-11-02 00:00:00, 2012-11-10 00:00:00, 2014-06-25 00:00:00, 2012-12-12 00:00:00, 2013-09-10 00:00:00, 2014-01-24 00:00:00, 2013-02-19 00:00:00, 2013-07-11 00:00:00, 2013-11-14 00:00:00, ...]  \n",
       "8                                                                                                                                                                                                                                                                                                                                                                                                                                                                                                                                                                                                                                                                                                                                                                                                                                                                                                                                                                                                                                                                                                                                                                                                                                                                                                                                                                                                                                                                                                                                                                                                                                                                                                                                                                                      [58, 38, 26, 94, 16, 34, 32, 19, 68, 59, 82, 53, 23, 51, 20, 91, 86, 41, 42, 63, 0, 69, 89, 4, 96, 56, 31, 8, 55, 37, 76, 99, 3, 88, 72, 24, 92, 39, 29, 2, 54, 57, 30, 12, 18, 75, 90, 1, 40, 9, 87, 5, 95, 48, 70, 79, 84, 44, 43, 35, 15, 17, 46, 27, 25, 74, 85, 65, 13, 83, 10, 21, 61, 73, 47, 36, 49, 28, 64, 98, 78, 77, 81, 80, 45, 14, 52, 93, 50, 60, 11, 66, 97, 62, 6, 33, 22, 71, 67, 7]  \n",
       "9                                                                                                                                                                                                                                                                                                                                                                                                                                                                                                                                                                                                                                                                                                                                                                                                                                                                                                                                                                                                                                                                                                                                                                                                                                                                                                                                                                                                                                                                                                                                                                                                                                                                                                       [635, 11, 426, 173, 520, 235, 76, 14, 28, 6, 194, 233, 3, 1006, 53, 84, 1012, 4, 86, 1, 867, 384, 270, 36, 684, 8, 112, 110, 96, 482, 40, 702, 55, 437, 421, 13, 9, 123, 826, 245, 650, 12, 510, 328, 984, 295, 447, 712, 452, 523, 546, 398, 10, 688, 247, 856, 496, 258, 565, 2, 721, 1032, 577, 64, 25, 163, 17, 130, 292, 350, 135, 15, 27, 5, 505, 51, 207, 41, 386, 562, 217, 144, 454, 425, 1332, 527, 490, 378, 547, 47, 320, 34, 722, 162, 450, 70, 492, 120, 534, 236, ...]  \n",
       "10                                                                                                                                                                                                                                                                                                                                                                                                                                                                                                                                                                                                                                                                                                                                                                                                                                                                                                                                                                                                                                                                                                                                                                                                                                                                                                                                                                                                                                                                                                                                                                                                                                                                                                                                                     [88, 1, 49, 4, 43, 42, 65, 10, 0, 16, 61, 2, 14, 22, 5, 80, 17, 3, 100, 12, 34, 8, 76, 164, 18, 6, 50, 19, 37, 120, 9, 51, 35, 26, 7, 40, 59, 36, 107, 111, 105, 23, 60, 46, 172, 81, 106, 194, 115, 44, 99, 90, 48, 27, 33, 133, 58, 28, 21, 20, 11, 162, 71, 66, 30, 189, 138, 29, 24, 32, 86, 114, 153, 64, 134, 148, 47, 41, 84, 74, 129, 15, 98, 183, 147, 144, 104, 91, 163, 152, 53, 68, 137, 190, 38, 70, 96, 25, 13, 83, ...]  \n",
       "11                                                                                                                                                                                                                                                                                                                                                                                                                                                                                                                                                                                                                                                                                                                                                                                                                                                                                                                                                                                                                                                                                                                                                                                                                                                                                                                                                                                                                                                                                                                                                                                                                                                                                                                      [546, 6, 127, 20, 118, 98, 164, 56, 24, 11, 480, 53, 17, 115, 19, 38, 498, 73, 1725, 86, 102, 27, 25, 30, 42, 801, 10, 44, 5, 96, 471, 151, 14, 206, 536, 29, 266, 15, 317, 125, 780, 550, 124, 432, 482, 8, 28, 538, 134, 48, 367, 1, 309, 159, 487, 460, 291, 65, 13, 925, 779, 64, 68, 424, 16, 37, 568, 39, 26, 7, 447, 92, 183, 276, 690, 32, 271, 31, 106, 292, 311, 21, 101, 812, 94, 133, 951, 110, 47, 189, 33, 590, 3, 34, 12, 921, 232, 756, 132, 41, ...]  \n",
       "12                                                                                                                                                                                                                                                                                                                                                                                                                                                                                                                                                                                                                                                                                                                                                                                                                                                                                                                                                                                                                                                                                                                                                                                                                                                                                                                                                                                                                                                                                                                                                                                                                                                                                                                                        [172, 2, 111, 10, 46, 0, 50, 3, 1, 11, 225, 6, 59, 150, 30, 69, 21, 39, 15, 20, 34, 33, 119, 160, 82, 227, 37, 27, 156, 12, 180, 121, 16, 201, 7, 58, 189, 84, 4, 97, 137, 110, 75, 65, 185, 80, 31, 23, 29, 151, 123, 44, 40, 173, 38, 52, 13, 36, 43, 73, 32, 8, 19, 149, 134, 86, 140, 147, 224, 42, 76, 47, 254, 25, 67, 28, 186, 218, 104, 133, 220, 45, 24, 205, 162, 95, 101, 188, 55, 166, 216, 60, 219, 17, 77, 78, 72, 212, 129, 93, ...]  \n",
       "13                                                                                                                                                                                                                                                                                                                                                                                                                                                                                                                                                                                                                                                                                                                                                                                                                                                                                                                                                                                                                                                                                                                                                                                                                                                                                                                                                                                                                                                                                                                                                                                                                                                                                                                                                   [88, 1, 21, 3, 27, 42, 49, 112, 5, 68, 13, 12, 16, 24, 38, 0, 32, 6, 66, 2, 22, 8, 7, 178, 30, 67, 167, 40, 120, 18, 14, 122, 82, 29, 60, 37, 15, 105, 65, 4, 133, 61, 132, 26, 98, 35, 51, 20, 103, 9, 72, 28, 89, 41, 44, 33, 11, 91, 76, 17, 71, 113, 19, 173, 23, 87, 176, 102, 48, 138, 10, 163, 124, 70, 172, 84, 149, 73, 92, 130, 25, 74, 114, 141, 54, 147, 45, 46, 97, 64, 118, 153, 189, 107, 128, 50, 134, 36, 150, 78, ...]  \n",
       "14                                                                                                                                                                                                                                                                                                                                                                                                                                                                                                                                                                                                                                                                                                                                                                                                                                                                                                                                                                                                                                                                                                                                                                                                                                                                                                                                                                                                                                                                                                                                                                                                                                                                                                                                                  [88, 6, 42, 5, 15, 14, 27, 23, 2, 13, 16, 30, 45, 4, 28, 176, 39, 48, 1, 19, 99, 41, 10, 0, 89, 3, 43, 22, 35, 36, 102, 7, 12, 174, 50, 38, 32, 241, 109, 190, 40, 80, 169, 73, 86, 9, 18, 51, 17, 76, 34, 145, 75, 223, 11, 111, 81, 65, 79, 60, 72, 33, 120, 168, 172, 216, 58, 130, 20, 126, 116, 49, 8, 91, 57, 124, 26, 141, 117, 25, 92, 54, 21, 192, 44, 66, 182, 181, 152, 77, 70, 148, 24, 69, 146, 162, 131, 74, 135, 203, ...]  \n",
       "15                                                                                                                                                                                                                                                                                                                                                                                                                                                                                                                                                                                                                                                                                                                                                                                                                                                                                                                                                                                                                                                                                                                                                                                                                                                                                                                                                                                                                                                                                                                                                                                                                                                                                                                                                                                                                                                                                                                                                                                                                                                                                                                                         [3, 2, 1, 5, 4, 15, 7, 6, 9, 0, 8, 10, 13, 11, 12]  \n",
       "16                                                                                                                                                                                                                                                                                                                                                                                                                                                                                                                                                                                                                                                                                                                                                                                                                                                                                                                                                                                                                                                                                                                                                                                                                                                                                                                                                                                                                                                                                                                                                                                                                                                                                                                                                                                                                                                                                                                                                                                                                                                                                                                                         [8, 1, 2, 5, 6, 7, 4, 3, 11, 0, 10, 9, 23, 27, 25]  \n",
       "17                                                                                                                                                                                                                                                                                                                                                                                                                                                                                                                                                                                                                                                                                                                                                                                                                                                                                                                                                                                                                                                                                                                                                                                                                                                                                                                                                                                                                                                                                                                                                                                                                                                                                                                                                                                                                                                                                                                                                                                                                                                                                                                                             [10, 1, 2, 0, 3, 4, 6, 28, 9, 5, 8, 7, 11, 22]  \n",
       "18                                                                                                                                                                                                                                                                                                                                                                                                                                                                                                                                                                                                                                                                                                                                                                                                                                                                                                                                                                                                                                                                                                                                                                                                                                                                                                                                                                                                                                                                                                                                                                                                                                                                                                                                                                                                                                                                                                                                                                                                                                                                                                                                             [4, 2, 10, 6, 7, 0, 3, 8, 5, 12, 9, 13, 11, 1]  \n",
       "19                                                                                                                                                                                                                                                                                                                                                                                                                                                                                                                                                                                                                                                                                                                                                                                                                                                                                                                                                                                                                                                                                                                                                                                                                                                                                                                                                                                                                                                                                                                                                                                                                                                                                                                                                                                                                                                                                                                                                                                                                                                                                                                                     [7, 5, 4, 6, 8, 9, 20, 2, 3, 1, 10, 0, 14, 19, 17, 13]  \n",
       "20                                                                                                                                                                                                                                                                                                                                                                                                                                                                                                                                                                                                                                                                                                                                                                                                                                                                                                                                                                                                                                                                                                                                                                                                                                                                                                                                                                                                                                                                                                                                                                                                                                                                                                                                                                                                                                                                                                                                                                                                                                                                                                                                                                                     [0, 1]  \n",
       "21                                                                                                                                                                                                                                                                                                                                                                                                                                                                                                                                                                                                                                                                                                                                                                                                                                                                                                                                                                                                                                                                                                                                                                                                                                                                                                                                                                                                                                                                                                                                                                                                                                                                                                                                                                                                                                                                                                                                                                                                                                                                                                                                                                                     [0, 1]  \n",
       "22                                                                                                                                                                                                                                                                                                                                                                                                                                                                                                                                                                                                                                                                                                                                                                                                                                                                                                                                                                                                                                                                                                                                                                                                                                                                                                                                                                                                                                                                                                                                                                                                                                                                                                                                                                                                                                                                                                                                                                                                                                                                                                                                                                                     [0, 1]  \n",
       "23                                                                                                                                                                                                                                                                                                                                                                                                                                                                                                                                                                                                                                                                                                                                                                                                                                                                                                                                                                                                                                                                                                                                                                                                                                                                                                                                                                                                                                                                                                                                                                                                                                                                                                                                                                                                                                                                                                                                                                                                                                                                                                                                                                                     [0, 1]  \n",
       "24                                                                                                                                                                                                                                                                                                                                                                                                                                                                                                                                                                                                                                                                                                                                                                                                                                                                                                                                                                                                                                                                                                                                                                                                                                                                                                                                                                                                                                                                                                                                                                                                                                                                                                                                                                                                                                                                                                                                                                                                                                                                                                                                                                                     [0, 1]  \n",
       "25                                                                                                                                                                                                                                                                                                                                                                                                                                                                                                                                                                                                                                                                                                                                                                                                                                                                                                                                                                                                                                                                                                                                                                                                                                                                                                                                                                                                                                                                                                                                                                                                                                                                                                                                                                                                                                                                                                                                                                                                                                                                                                                                                                                     [0, 1]  \n",
       "26                                                                                                                                                                                                                                                                                                                                                                                                                                                                                                                                                                                                                                                                                                                                                                                                                                                                                                                                                                                                                                                                                                                                                                                                                                                                                                                                                                                                                                                                                                                                                                                                                                                                                                                                                                                                                                                                                                                                                                                                                                                                                                                                                                                        [3]  \n",
       "27                                                                                                                                                                                                                                                                                                                                                                                                                                                                                                                                                                                                                                                                                                                                                                                                                                                                                                                                                                                                                                                                                                                                                                                                                                                                                                                                                                                                                                                                                                                                                                                                                                                                                                                                                                                                                                                                                                                                                                                                                                                                                                                                                                                       [11]  \n",
       "28                                                                                                                                                                                                                                                                                                                                                                                                                                                                                                                                                                                                                                                                                                                                                                                                                                                                                                                                                                                                                                                                                                                                                                                                                                                                                                                                                                                                                                                                                                                                                                                                                                                                                                                                                                                                                                                                                                                                                                                                                                                                                                                                                                                     [1, 0]  "
      ]
     },
     "execution_count": 17,
     "metadata": {},
     "output_type": "execute_result"
    }
   ],
   "source": [
    "# melihat nilai unik dan banyaknya nilai tersebut\n",
    "\n",
    "pd.set_option('display.max_colwidth', None)\n",
    "list = []\n",
    "for col in df.columns:\n",
    "    list.append ([col, df[col].nunique(), df[col].unique()])\n",
    "\n",
    "tabel1 = pd.DataFrame (columns = ['Column Name', 'Number of Unique', 'Unique Sample'], \n",
    "                       data = list)\n",
    "tabel1"
   ]
  },
  {
   "cell_type": "markdown",
   "id": "af50c512",
   "metadata": {},
   "source": [
    "Secara umum, kita bisa melihat bahwa:\n",
    "- dataset Supermarket Customer memiliki 29 kolom dan 2216 baris\n",
    "- kolom ['ID'] merupakan kolom berisi nomer ID pelanggan dan tidak relevan dalam analisis sehingga didrop saja\n",
    "- pada kolom ['Marital_Status'], terdapat jawaban absurd, maka bisa disortir lagi\n",
    "- di kolom ['Year_Birth'] terdapat outlier yang lahir di tahun 18xx\n",
    "- range nominal ['Income'] bervariasi\n",
    "- kolom ['Z_CostContact'] dan ['Z_Revenue'] bisa didrop karena tidak terdaftar di Dictionary"
   ]
  },
  {
   "cell_type": "code",
   "execution_count": 18,
   "id": "a52ae214",
   "metadata": {},
   "outputs": [],
   "source": [
    "df = df.drop(['Z_CostContact', 'Z_Revenue', 'ID'], axis=1).reset_index() # menghapus columns"
   ]
  },
  {
   "cell_type": "code",
   "execution_count": 19,
   "id": "032d597f",
   "metadata": {},
   "outputs": [
    {
     "name": "stdout",
     "output_type": "stream",
     "text": [
      "<class 'pandas.core.frame.DataFrame'>\n",
      "RangeIndex: 2216 entries, 0 to 2215\n",
      "Data columns (total 27 columns):\n",
      " #   Column               Non-Null Count  Dtype         \n",
      "---  ------               --------------  -----         \n",
      " 0   index                2216 non-null   int64         \n",
      " 1   Year_Birth           2216 non-null   int64         \n",
      " 2   Education            2216 non-null   object        \n",
      " 3   Marital_Status       2216 non-null   object        \n",
      " 4   Income               2216 non-null   float64       \n",
      " 5   Kidhome              2216 non-null   int64         \n",
      " 6   Teenhome             2216 non-null   int64         \n",
      " 7   Dt_Customer          2216 non-null   datetime64[ns]\n",
      " 8   Recency              2216 non-null   int64         \n",
      " 9   MntWines             2216 non-null   int64         \n",
      " 10  MntFruits            2216 non-null   int64         \n",
      " 11  MntMeatProducts      2216 non-null   int64         \n",
      " 12  MntFishProducts      2216 non-null   int64         \n",
      " 13  MntSweetProducts     2216 non-null   int64         \n",
      " 14  MntGoldProds         2216 non-null   int64         \n",
      " 15  NumDealsPurchases    2216 non-null   int64         \n",
      " 16  NumWebPurchases      2216 non-null   int64         \n",
      " 17  NumCatalogPurchases  2216 non-null   int64         \n",
      " 18  NumStorePurchases    2216 non-null   int64         \n",
      " 19  NumWebVisitsMonth    2216 non-null   int64         \n",
      " 20  AcceptedCmp3         2216 non-null   int64         \n",
      " 21  AcceptedCmp4         2216 non-null   int64         \n",
      " 22  AcceptedCmp5         2216 non-null   int64         \n",
      " 23  AcceptedCmp1         2216 non-null   int64         \n",
      " 24  AcceptedCmp2         2216 non-null   int64         \n",
      " 25  Complain             2216 non-null   int64         \n",
      " 26  Response             2216 non-null   int64         \n",
      "dtypes: datetime64[ns](1), float64(1), int64(23), object(2)\n",
      "memory usage: 467.6+ KB\n"
     ]
    }
   ],
   "source": [
    "df.info() # cek kolom berhasil terhapus"
   ]
  },
  {
   "cell_type": "markdown",
   "id": "644e1cfd",
   "metadata": {},
   "source": [
    "### Kolom Age"
   ]
  },
  {
   "cell_type": "code",
   "execution_count": 20,
   "id": "60645aa9",
   "metadata": {},
   "outputs": [
    {
     "data": {
      "text/plain": [
       "<Axes: xlabel='Age'>"
      ]
     },
     "execution_count": 20,
     "metadata": {},
     "output_type": "execute_result"
    },
    {
     "data": {
      "image/png": "[encoded data removed]",
      "text/plain": [
       "<Figure size 640x480 with 1 Axes>"
      ]
     },
     "metadata": {},
     "output_type": "display_data"
    }
   ],
   "source": [
    "# kolom year birth dihitung dan diubah menjadi satuan Usia\n",
    "df['Customer_Year'] = df['Dt_Customer'].dt.year # membuat kolom baru ['Customer_Year'] yang di mana sama dengan tahun pelanggan mendaftar\n",
    "df['Age'] = df['Customer_Year'] - df['Year_Birth'] # membuat kolom ['Age'] yang merupakan hasil dari pengurangan tahun pelanggan mendaftar\n",
    "                                                   # dan tahun lahir mereka.\n",
    "\n",
    "# visualisasi kolom Age\n",
    "sns.boxplot(x = df['Age'])"
   ]
  },
  {
   "cell_type": "markdown",
   "id": "bbd56f3a",
   "metadata": {},
   "source": [
    "Terdapat 3 outlier pada kolom Age.\n",
    "\n",
    "Translation boxplot:\n",
    "- nilai minimum di usia 16 dan maksimum di 73 (berdasarkan df['Age'].describe())\n",
    "- median ada di usia 43\n",
    "- quartil bawah ada di kisaran usia 35\n",
    "- quartil atas ada di usia 55 (asumsi)"
   ]
  },
  {
   "cell_type": "code",
   "execution_count": 21,
   "id": "5fc87b3e",
   "metadata": {},
   "outputs": [
    {
     "data": {
      "text/plain": [
       "count    2216.000000\n",
       "mean       44.208032\n",
       "std        12.023812\n",
       "min        16.000000\n",
       "25%        36.000000\n",
       "50%        43.000000\n",
       "75%        54.000000\n",
       "max       121.000000\n",
       "Name: Age, dtype: float64"
      ]
     },
     "metadata": {},
     "output_type": "display_data"
    },
    {
     "data": {
      "text/plain": [
       "array([ 55,  60,  48,  30,  33,  46,  41,  28,  39,  64,  36,  54,  61,\n",
       "        25,  66,  32,  27,  34,  63,  62,  44,  37,  24,  50,  42,  67,\n",
       "        43,  70,  38,  16,  45,  58,  57,  35,  47,  26,  31,  65,  40,\n",
       "        53,  52,  68,  49,  21,  51,  22,  29,  20, 113,  59, 121,  23,\n",
       "        56, 114,  71,  72,  69,  19,  18,  17,  73])"
      ]
     },
     "metadata": {},
     "output_type": "display_data"
    }
   ],
   "source": [
    "display (df['Age'].describe(), df['Age'].unique())"
   ]
  },
  {
   "cell_type": "markdown",
   "id": "5865f4f8",
   "metadata": {},
   "source": [
    "Berdasarkan data-data umur yang terdaftar, bisa dilihat usia yang paling muda berada di 16 tahun (kategori teenager), dan terdapat usia > 100 (113, 114, 121), bisa diidentifikasi sebagai outlier atau data yang jauh berbeda dari kebanyakan nilai lainnya. Maka bisa dipertimbangkan untuk dihapus saja."
   ]
  },
  {
   "cell_type": "code",
   "execution_count": 22,
   "id": "9690a1d9",
   "metadata": {},
   "outputs": [
    {
     "data": {
      "text/html": [
       "<div>\n",
       "<style scoped>\n",
       "    .dataframe tbody tr th:only-of-type {\n",
       "        vertical-align: middle;\n",
       "    }\n",
       "\n",
       "    .dataframe tbody tr th {\n",
       "        vertical-align: top;\n",
       "    }\n",
       "\n",
       "    .dataframe thead th {\n",
       "        text-align: right;\n",
       "    }\n",
       "</style>\n",
       "<table border=\"1\" class=\"dataframe\">\n",
       "  <thead>\n",
       "    <tr style=\"text-align: right;\">\n",
       "      <th></th>\n",
       "      <th>index</th>\n",
       "      <th>Year_Birth</th>\n",
       "      <th>Education</th>\n",
       "      <th>Marital_Status</th>\n",
       "      <th>Income</th>\n",
       "      <th>Kidhome</th>\n",
       "      <th>Teenhome</th>\n",
       "      <th>Dt_Customer</th>\n",
       "      <th>Recency</th>\n",
       "      <th>MntWines</th>\n",
       "      <th>...</th>\n",
       "      <th>NumWebVisitsMonth</th>\n",
       "      <th>AcceptedCmp3</th>\n",
       "      <th>AcceptedCmp4</th>\n",
       "      <th>AcceptedCmp5</th>\n",
       "      <th>AcceptedCmp1</th>\n",
       "      <th>AcceptedCmp2</th>\n",
       "      <th>Complain</th>\n",
       "      <th>Response</th>\n",
       "      <th>Customer_Year</th>\n",
       "      <th>Age</th>\n",
       "    </tr>\n",
       "  </thead>\n",
       "  <tbody>\n",
       "    <tr>\n",
       "      <th>181</th>\n",
       "      <td>192</td>\n",
       "      <td>1900</td>\n",
       "      <td>2n Cycle</td>\n",
       "      <td>Divorced</td>\n",
       "      <td>36640.0</td>\n",
       "      <td>1</td>\n",
       "      <td>0</td>\n",
       "      <td>2013-09-26</td>\n",
       "      <td>99</td>\n",
       "      <td>15</td>\n",
       "      <td>...</td>\n",
       "      <td>5</td>\n",
       "      <td>0</td>\n",
       "      <td>0</td>\n",
       "      <td>0</td>\n",
       "      <td>0</td>\n",
       "      <td>0</td>\n",
       "      <td>1</td>\n",
       "      <td>0</td>\n",
       "      <td>2013</td>\n",
       "      <td>113</td>\n",
       "    </tr>\n",
       "    <tr>\n",
       "      <th>228</th>\n",
       "      <td>239</td>\n",
       "      <td>1893</td>\n",
       "      <td>2n Cycle</td>\n",
       "      <td>Single</td>\n",
       "      <td>60182.0</td>\n",
       "      <td>0</td>\n",
       "      <td>1</td>\n",
       "      <td>2014-05-17</td>\n",
       "      <td>23</td>\n",
       "      <td>8</td>\n",
       "      <td>...</td>\n",
       "      <td>4</td>\n",
       "      <td>0</td>\n",
       "      <td>0</td>\n",
       "      <td>0</td>\n",
       "      <td>0</td>\n",
       "      <td>0</td>\n",
       "      <td>0</td>\n",
       "      <td>0</td>\n",
       "      <td>2014</td>\n",
       "      <td>121</td>\n",
       "    </tr>\n",
       "    <tr>\n",
       "      <th>326</th>\n",
       "      <td>339</td>\n",
       "      <td>1899</td>\n",
       "      <td>PhD</td>\n",
       "      <td>Together</td>\n",
       "      <td>83532.0</td>\n",
       "      <td>0</td>\n",
       "      <td>0</td>\n",
       "      <td>2013-09-26</td>\n",
       "      <td>36</td>\n",
       "      <td>755</td>\n",
       "      <td>...</td>\n",
       "      <td>1</td>\n",
       "      <td>0</td>\n",
       "      <td>0</td>\n",
       "      <td>1</td>\n",
       "      <td>0</td>\n",
       "      <td>0</td>\n",
       "      <td>0</td>\n",
       "      <td>0</td>\n",
       "      <td>2013</td>\n",
       "      <td>114</td>\n",
       "    </tr>\n",
       "  </tbody>\n",
       "</table>\n",
       "<p>3 rows × 29 columns</p>\n",
       "</div>"
      ],
      "text/plain": [
       "     index  Year_Birth Education Marital_Status   Income  Kidhome  Teenhome  \\\n",
       "181    192        1900  2n Cycle       Divorced  36640.0        1         0   \n",
       "228    239        1893  2n Cycle         Single  60182.0        0         1   \n",
       "326    339        1899       PhD       Together  83532.0        0         0   \n",
       "\n",
       "    Dt_Customer  Recency  MntWines  ...  NumWebVisitsMonth  AcceptedCmp3  \\\n",
       "181  2013-09-26       99        15  ...                  5             0   \n",
       "228  2014-05-17       23         8  ...                  4             0   \n",
       "326  2013-09-26       36       755  ...                  1             0   \n",
       "\n",
       "     AcceptedCmp4  AcceptedCmp5  AcceptedCmp1  AcceptedCmp2  Complain  \\\n",
       "181             0             0             0             0         1   \n",
       "228             0             0             0             0         0   \n",
       "326             0             1             0             0         0   \n",
       "\n",
       "     Response  Customer_Year  Age  \n",
       "181         0           2013  113  \n",
       "228         0           2014  121  \n",
       "326         0           2013  114  \n",
       "\n",
       "[3 rows x 29 columns]"
      ]
     },
     "execution_count": 22,
     "metadata": {},
     "output_type": "execute_result"
    }
   ],
   "source": [
    "df[df['Age'] >= 100] # mengecek berapa banyak customer yang berusia > 100"
   ]
  },
  {
   "cell_type": "markdown",
   "id": "1204b6e0",
   "metadata": {},
   "source": [
    "Terdapat 3 baris/ pelanggan yang berusia di atas 100, bisa diasumsikan user salah memasukkan tahun lahir dan sebaiknya dihapus saja, karena kecil kemungkinan seseorang di umur sekian masih aktif berbelanja."
   ]
  },
  {
   "cell_type": "code",
   "execution_count": 23,
   "id": "f8ba0e11",
   "metadata": {},
   "outputs": [],
   "source": [
    "df = df[df['Age'] <= 100] # menghapus baris pelanggan yang berusia > 100"
   ]
  },
  {
   "cell_type": "code",
   "execution_count": 24,
   "id": "c880fce4",
   "metadata": {},
   "outputs": [
    {
     "data": {
      "text/plain": [
       "<Axes: xlabel='Age', ylabel='Count'>"
      ]
     },
     "execution_count": 24,
     "metadata": {},
     "output_type": "execute_result"
    },
    {
     "data": {
      "image/png": "[encoded data removed]",
      "text/plain": [
       "<Figure size 640x480 with 1 Axes>"
      ]
     },
     "metadata": {},
     "output_type": "display_data"
    }
   ],
   "source": [
    "# visualisasi\n",
    "df_plot = df[df['Age'] <= 80]  # batas atas usia 80 tahun\n",
    "\n",
    "sns.histplot(df_plot['Age'], bins = 10, kde = True, color = 'teal')"
   ]
  },
  {
   "cell_type": "markdown",
   "id": "95041396",
   "metadata": {},
   "source": [
    "Insights:\n",
    "- Mayoritas pelanggan berusia 35–55 tahun\n",
    "- Terlihat dari puncak grafik (peak) yang berada di rentang tersebut\n",
    "- Ini berarti segmen usia produktif dan mapan adalah target utama supermarket\n",
    "- Distribusi mendekati normal (bell-shaped)\n",
    "- Grafik ini simetris dan menyerupai kurva normal meskipun tidak sempurna\n",
    "- Jumlah pelanggan berusia muda (<25) dan tua (>65) relatif lebih sedikit\n",
    "- Artinya supermarket tidak terlalu menarik pelanggan di rentang usia tersebut, atau mungkin memang tidak jadi target utama"
   ]
  },
  {
   "cell_type": "code",
   "execution_count": 25,
   "id": "67ece5bb",
   "metadata": {},
   "outputs": [
    {
     "data": {
      "text/plain": [
       "count    2213.000000\n",
       "mean       44.110709\n",
       "std        11.736750\n",
       "min        16.000000\n",
       "25%        36.000000\n",
       "50%        43.000000\n",
       "75%        54.000000\n",
       "max        73.000000\n",
       "Name: Age, dtype: float64"
      ]
     },
     "execution_count": 25,
     "metadata": {},
     "output_type": "execute_result"
    }
   ],
   "source": [
    "df['Age'].describe()"
   ]
  },
  {
   "cell_type": "code",
   "execution_count": 26,
   "id": "11c68106",
   "metadata": {},
   "outputs": [
    {
     "name": "stdout",
     "output_type": "stream",
     "text": [
      "Age_Group\n",
      "teenager         10\n",
      "young adult     181\n",
      "adult          1289\n",
      "elder           733\n",
      "Name: count, dtype: int64\n"
     ]
    },
    {
     "data": {
      "text/plain": [
       "['elder', 'adult', 'young adult', 'teenager']\n",
       "Categories (4, object): ['teenager' < 'young adult' < 'adult' < 'elder']"
      ]
     },
     "execution_count": 26,
     "metadata": {},
     "output_type": "execute_result"
    }
   ],
   "source": [
    "# Pengelompokkan Usia berdasarkan Label\n",
    "age_range = [0, 19, 27, 49, 75]\n",
    "\n",
    "labels = ['teenager', 'young adult', 'adult', 'elder']\n",
    "\n",
    "df['Age_Group'] = pd.cut (df['Age'], bins = age_range, labels = labels)\n",
    "\n",
    "# Hitung jumlah pelanggan per kelompok\n",
    "jumlah_pelanggan = df['Age_Group'].value_counts().sort_index() # sort_index untuk diurutkan berdasarkan index\n",
    "print(jumlah_pelanggan)\n",
    "\n",
    "df['Age_Group'].unique()"
   ]
  },
  {
   "cell_type": "markdown",
   "metadata": {},
   "source": [
    "### Kolom Income"
   ]
  },
  {
   "cell_type": "code",
   "execution_count": 27,
   "id": "0d1b4415",
   "metadata": {},
   "outputs": [
    {
     "data": {
      "text/plain": [
       "<Axes: xlabel='Income'>"
      ]
     },
     "execution_count": 27,
     "metadata": {},
     "output_type": "execute_result"
    },
    {
     "data": {
      "image/png": "[encoded data removed]",
      "text/plain": [
       "<Figure size 640x480 with 1 Axes>"
      ]
     },
     "metadata": {},
     "output_type": "display_data"
    }
   ],
   "source": [
    "sns.boxplot(x = df['Income'])"
   ]
  },
  {
   "cell_type": "markdown",
   "id": "4e22c81b",
   "metadata": {},
   "source": [
    "Terdapat outlier pada kolom ['Income'] sehingga perlu dihapus agar tidak mempengaruhi hasil."
   ]
  },
  {
   "cell_type": "code",
   "execution_count": 28,
   "id": "ce0cb9f7",
   "metadata": {},
   "outputs": [
    {
     "name": "stdout",
     "output_type": "stream",
     "text": [
      "Jumlah data setelah hapus Outlier: 2205\n"
     ]
    }
   ],
   "source": [
    "# 1. Hitung Q1, Q3, dan IQR\n",
    "Q1 = df['Income'].quantile(0.25)\n",
    "Q3 = df['Income'].quantile(0.75)\n",
    "IQR = Q3 - Q1\n",
    "\n",
    "# 2. Tentukan batas bawah dan batas atas\n",
    "batas_bawah = Q1 - 1.5 * IQR\n",
    "batas_atas = Q3 + 1.5 * IQR\n",
    "\n",
    "# 3. Filter data agar hanya data yang berada di antara batas itu\n",
    "df = df[(df['Income'] >= batas_bawah) & (df['Income'] <= batas_atas)]\n",
    "\n",
    "df_new = df[(df['Income'] >= batas_bawah) & (df['Income'] <= batas_atas)]\n",
    "print('Jumlah data setelah hapus Outlier:', df_new.shape[0])"
   ]
  },
  {
   "cell_type": "code",
   "execution_count": 29,
   "id": "b11c0cc5",
   "metadata": {},
   "outputs": [
    {
     "data": {
      "text/plain": [
       "count      2205.000000\n",
       "mean      51622.094785\n",
       "std       20713.063826\n",
       "min        1730.000000\n",
       "25%       35196.000000\n",
       "50%       51287.000000\n",
       "75%       68281.000000\n",
       "max      113734.000000\n",
       "Name: Income, dtype: float64"
      ]
     },
     "execution_count": 29,
     "metadata": {},
     "output_type": "execute_result"
    }
   ],
   "source": [
    "df['Income'].describe()"
   ]
  },
  {
   "cell_type": "code",
   "execution_count": 30,
   "id": "970968ee",
   "metadata": {},
   "outputs": [
    {
     "data": {
      "text/plain": [
       "Income_Level\n",
       "low          552\n",
       "high         551\n",
       "very high    551\n",
       "medium       550\n",
       "Name: count, dtype: int64"
      ]
     },
     "execution_count": 30,
     "metadata": {},
     "output_type": "execute_result"
    }
   ],
   "source": [
    "# mengelompokkan kelas income berdasarkan penghasilan\n",
    "income_range = [1730, 35196, 51287, 68281, 113734]\n",
    "\n",
    "labels = ['low', 'medium', 'high', 'very high']\n",
    "\n",
    "df['Income_Level'] = pd.cut (df['Income'], bins = income_range, labels = labels)\n",
    "df['Income_Level'].value_counts()"
   ]
  },
  {
   "cell_type": "markdown",
   "id": "7808da2a",
   "metadata": {},
   "source": [
    "### Kolom Marital Status"
   ]
  },
  {
   "cell_type": "code",
   "execution_count": 31,
   "id": "5378ac38",
   "metadata": {},
   "outputs": [
    {
     "data": {
      "text/plain": [
       "array(['Single', 'Together', 'Married', 'Divorced', 'Widow', 'Alone',\n",
       "       'Absurd', 'YOLO'], dtype=object)"
      ]
     },
     "execution_count": 31,
     "metadata": {},
     "output_type": "execute_result"
    }
   ],
   "source": [
    "# Mencari Nilai unique dari Marital_Status\n",
    "df['Marital_Status'].unique()"
   ]
  },
  {
   "cell_type": "markdown",
   "id": "15b0db98",
   "metadata": {},
   "source": [
    "Keterangan:\n",
    "Terdapat 8 tipe jawaban, namun terdapat jawaban yang tidak umum seperti 'Alone', 'Absurd', 'YOLO'. Bisa diasumsikan bahwa {'Alone' : 'Single'}, {'Absurd' : 'Single'}, 'YOLO' atau 'You Only Live Once' di sini bisa diterjemakan sebagai orang yang tidak terikat komitmen dan 'bebas', sehingga bisa diasumsikan sebagai 'Single'."
   ]
  },
  {
   "cell_type": "code",
   "execution_count": 32,
   "id": "6e18d334",
   "metadata": {},
   "outputs": [
    {
     "data": {
      "text/plain": [
       "8"
      ]
     },
     "execution_count": 32,
     "metadata": {},
     "output_type": "execute_result"
    }
   ],
   "source": [
    "df['Marital_Status'].nunique() # jumlah jawaban yang unik"
   ]
  },
  {
   "cell_type": "code",
   "execution_count": 33,
   "id": "d7ed30c1",
   "metadata": {},
   "outputs": [
    {
     "data": {
      "text/plain": [
       "Marital_Status\n",
       "Married     854\n",
       "Together    568\n",
       "Single      470\n",
       "Divorced    230\n",
       "Widow        76\n",
       "Alone         3\n",
       "Absurd        2\n",
       "YOLO          2\n",
       "Name: count, dtype: int64"
      ]
     },
     "execution_count": 33,
     "metadata": {},
     "output_type": "execute_result"
    }
   ],
   "source": [
    "df['Marital_Status'].value_counts()"
   ]
  },
  {
   "cell_type": "code",
   "execution_count": 34,
   "id": "2ec66baf",
   "metadata": {},
   "outputs": [
    {
     "data": {
      "text/html": [
       "<div>\n",
       "<style scoped>\n",
       "    .dataframe tbody tr th:only-of-type {\n",
       "        vertical-align: middle;\n",
       "    }\n",
       "\n",
       "    .dataframe tbody tr th {\n",
       "        vertical-align: top;\n",
       "    }\n",
       "\n",
       "    .dataframe thead th {\n",
       "        text-align: right;\n",
       "    }\n",
       "</style>\n",
       "<table border=\"1\" class=\"dataframe\">\n",
       "  <thead>\n",
       "    <tr style=\"text-align: right;\">\n",
       "      <th></th>\n",
       "      <th>index</th>\n",
       "      <th>Year_Birth</th>\n",
       "      <th>Education</th>\n",
       "      <th>Marital_Status</th>\n",
       "      <th>Income</th>\n",
       "      <th>Kidhome</th>\n",
       "      <th>Teenhome</th>\n",
       "      <th>Dt_Customer</th>\n",
       "      <th>Recency</th>\n",
       "      <th>MntWines</th>\n",
       "      <th>...</th>\n",
       "      <th>AcceptedCmp4</th>\n",
       "      <th>AcceptedCmp5</th>\n",
       "      <th>AcceptedCmp1</th>\n",
       "      <th>AcceptedCmp2</th>\n",
       "      <th>Complain</th>\n",
       "      <th>Response</th>\n",
       "      <th>Customer_Year</th>\n",
       "      <th>Age</th>\n",
       "      <th>Age_Group</th>\n",
       "      <th>Income_Level</th>\n",
       "    </tr>\n",
       "  </thead>\n",
       "  <tbody>\n",
       "    <tr>\n",
       "      <th>2154</th>\n",
       "      <td>2177</td>\n",
       "      <td>1973</td>\n",
       "      <td>PhD</td>\n",
       "      <td>YOLO</td>\n",
       "      <td>48432.0</td>\n",
       "      <td>0</td>\n",
       "      <td>1</td>\n",
       "      <td>2012-10-18</td>\n",
       "      <td>3</td>\n",
       "      <td>322</td>\n",
       "      <td>...</td>\n",
       "      <td>0</td>\n",
       "      <td>0</td>\n",
       "      <td>0</td>\n",
       "      <td>0</td>\n",
       "      <td>0</td>\n",
       "      <td>0</td>\n",
       "      <td>2012</td>\n",
       "      <td>39</td>\n",
       "      <td>adult</td>\n",
       "      <td>medium</td>\n",
       "    </tr>\n",
       "    <tr>\n",
       "      <th>2179</th>\n",
       "      <td>2202</td>\n",
       "      <td>1973</td>\n",
       "      <td>PhD</td>\n",
       "      <td>YOLO</td>\n",
       "      <td>48432.0</td>\n",
       "      <td>0</td>\n",
       "      <td>1</td>\n",
       "      <td>2012-10-18</td>\n",
       "      <td>3</td>\n",
       "      <td>322</td>\n",
       "      <td>...</td>\n",
       "      <td>0</td>\n",
       "      <td>0</td>\n",
       "      <td>0</td>\n",
       "      <td>0</td>\n",
       "      <td>0</td>\n",
       "      <td>1</td>\n",
       "      <td>2012</td>\n",
       "      <td>39</td>\n",
       "      <td>adult</td>\n",
       "      <td>medium</td>\n",
       "    </tr>\n",
       "  </tbody>\n",
       "</table>\n",
       "<p>2 rows × 31 columns</p>\n",
       "</div>"
      ],
      "text/plain": [
       "      index  Year_Birth Education Marital_Status   Income  Kidhome  Teenhome  \\\n",
       "2154   2177        1973       PhD           YOLO  48432.0        0         1   \n",
       "2179   2202        1973       PhD           YOLO  48432.0        0         1   \n",
       "\n",
       "     Dt_Customer  Recency  MntWines  ...  AcceptedCmp4  AcceptedCmp5  \\\n",
       "2154  2012-10-18        3       322  ...             0             0   \n",
       "2179  2012-10-18        3       322  ...             0             0   \n",
       "\n",
       "      AcceptedCmp1  AcceptedCmp2  Complain  Response  Customer_Year  Age  \\\n",
       "2154             0             0         0         0           2012   39   \n",
       "2179             0             0         0         1           2012   39   \n",
       "\n",
       "      Age_Group  Income_Level  \n",
       "2154      adult        medium  \n",
       "2179      adult        medium  \n",
       "\n",
       "[2 rows x 31 columns]"
      ]
     },
     "execution_count": 34,
     "metadata": {},
     "output_type": "execute_result"
    }
   ],
   "source": [
    "df[df['Marital_Status'] == 'YOLO'] # single dengan 1 anak"
   ]
  },
  {
   "cell_type": "code",
   "execution_count": 35,
   "id": "50dbfd2c",
   "metadata": {},
   "outputs": [
    {
     "data": {
      "text/html": [
       "<div>\n",
       "<style scoped>\n",
       "    .dataframe tbody tr th:only-of-type {\n",
       "        vertical-align: middle;\n",
       "    }\n",
       "\n",
       "    .dataframe tbody tr th {\n",
       "        vertical-align: top;\n",
       "    }\n",
       "\n",
       "    .dataframe thead th {\n",
       "        text-align: right;\n",
       "    }\n",
       "</style>\n",
       "<table border=\"1\" class=\"dataframe\">\n",
       "  <thead>\n",
       "    <tr style=\"text-align: right;\">\n",
       "      <th></th>\n",
       "      <th>index</th>\n",
       "      <th>Year_Birth</th>\n",
       "      <th>Education</th>\n",
       "      <th>Marital_Status</th>\n",
       "      <th>Income</th>\n",
       "      <th>Kidhome</th>\n",
       "      <th>Teenhome</th>\n",
       "      <th>Dt_Customer</th>\n",
       "      <th>Recency</th>\n",
       "      <th>MntWines</th>\n",
       "      <th>...</th>\n",
       "      <th>AcceptedCmp4</th>\n",
       "      <th>AcceptedCmp5</th>\n",
       "      <th>AcceptedCmp1</th>\n",
       "      <th>AcceptedCmp2</th>\n",
       "      <th>Complain</th>\n",
       "      <th>Response</th>\n",
       "      <th>Customer_Year</th>\n",
       "      <th>Age</th>\n",
       "      <th>Age_Group</th>\n",
       "      <th>Income_Level</th>\n",
       "    </tr>\n",
       "  </thead>\n",
       "  <tbody>\n",
       "    <tr>\n",
       "      <th>2070</th>\n",
       "      <td>2093</td>\n",
       "      <td>1993</td>\n",
       "      <td>Graduation</td>\n",
       "      <td>Absurd</td>\n",
       "      <td>79244.0</td>\n",
       "      <td>0</td>\n",
       "      <td>0</td>\n",
       "      <td>2012-12-19</td>\n",
       "      <td>58</td>\n",
       "      <td>471</td>\n",
       "      <td>...</td>\n",
       "      <td>0</td>\n",
       "      <td>1</td>\n",
       "      <td>1</td>\n",
       "      <td>0</td>\n",
       "      <td>0</td>\n",
       "      <td>1</td>\n",
       "      <td>2012</td>\n",
       "      <td>19</td>\n",
       "      <td>teenager</td>\n",
       "      <td>very high</td>\n",
       "    </tr>\n",
       "    <tr>\n",
       "      <th>2111</th>\n",
       "      <td>2134</td>\n",
       "      <td>1957</td>\n",
       "      <td>Master</td>\n",
       "      <td>Absurd</td>\n",
       "      <td>65487.0</td>\n",
       "      <td>0</td>\n",
       "      <td>0</td>\n",
       "      <td>2014-01-10</td>\n",
       "      <td>48</td>\n",
       "      <td>240</td>\n",
       "      <td>...</td>\n",
       "      <td>0</td>\n",
       "      <td>0</td>\n",
       "      <td>0</td>\n",
       "      <td>0</td>\n",
       "      <td>0</td>\n",
       "      <td>0</td>\n",
       "      <td>2014</td>\n",
       "      <td>57</td>\n",
       "      <td>elder</td>\n",
       "      <td>high</td>\n",
       "    </tr>\n",
       "  </tbody>\n",
       "</table>\n",
       "<p>2 rows × 31 columns</p>\n",
       "</div>"
      ],
      "text/plain": [
       "      index  Year_Birth   Education Marital_Status   Income  Kidhome  \\\n",
       "2070   2093        1993  Graduation         Absurd  79244.0        0   \n",
       "2111   2134        1957      Master         Absurd  65487.0        0   \n",
       "\n",
       "      Teenhome Dt_Customer  Recency  MntWines  ...  AcceptedCmp4  \\\n",
       "2070         0  2012-12-19       58       471  ...             0   \n",
       "2111         0  2014-01-10       48       240  ...             0   \n",
       "\n",
       "      AcceptedCmp5  AcceptedCmp1  AcceptedCmp2  Complain  Response  \\\n",
       "2070             1             1             0         0         1   \n",
       "2111             0             0             0         0         0   \n",
       "\n",
       "      Customer_Year  Age  Age_Group  Income_Level  \n",
       "2070           2012   19   teenager     very high  \n",
       "2111           2014   57      elder          high  \n",
       "\n",
       "[2 rows x 31 columns]"
      ]
     },
     "execution_count": 35,
     "metadata": {},
     "output_type": "execute_result"
    }
   ],
   "source": [
    "df[df['Marital_Status'] == 'Absurd'] # tidak ada anak, maka bisa kita asumsikan sebagai single"
   ]
  },
  {
   "cell_type": "code",
   "execution_count": 36,
   "id": "50c45fc5",
   "metadata": {},
   "outputs": [],
   "source": [
    "# mengelompokkan marital status\n",
    "df ['Marital_Status'] = df ['Marital_Status'].replace({\n",
    "    'Alone': 'Single',\n",
    "    'Together': 'Married',\n",
    "    'Widow': 'Widow',\n",
    "    'Divorced': 'Separated',\n",
    "    'Absurd': 'Single',\n",
    "    'YOLO' : 'Single'})"
   ]
  },
  {
   "cell_type": "code",
   "execution_count": 37,
   "id": "1c5631cc",
   "metadata": {},
   "outputs": [
    {
     "data": {
      "text/plain": [
       "Marital_Status\n",
       "Married      1422\n",
       "Single        477\n",
       "Separated     230\n",
       "Widow          76\n",
       "Name: count, dtype: int64"
      ]
     },
     "execution_count": 37,
     "metadata": {},
     "output_type": "execute_result"
    }
   ],
   "source": [
    "df['Marital_Status'].value_counts() # melihat total pelanggan/ status"
   ]
  },
  {
   "cell_type": "code",
   "execution_count": 38,
   "id": "4e4418aa",
   "metadata": {},
   "outputs": [
    {
     "data": {
      "text/plain": [
       "Marital_Status\n",
       "Married      64.489796\n",
       "Single       21.632653\n",
       "Separated    10.430839\n",
       "Widow         3.446712\n",
       "Name: proportion, dtype: float64"
      ]
     },
     "execution_count": 38,
     "metadata": {},
     "output_type": "execute_result"
    }
   ],
   "source": [
    "df['Marital_Status'].value_counts(normalize = True) * 100 # persentase masing2 status"
   ]
  },
  {
   "cell_type": "markdown",
   "id": "85645bb3",
   "metadata": {},
   "source": [
    "KETERANGAN:\n",
    "- Married: status pelanggan telah menikah\n",
    "- Single: status pelanggan lajang\n",
    "- Separated: status pelanggan telah bercerai\n",
    "- Widow: status pelanggan yang telah ditinggal pasangan"
   ]
  },
  {
   "cell_type": "markdown",
   "id": "40f010e8",
   "metadata": {},
   "source": [
    "### Kolom Education"
   ]
  },
  {
   "cell_type": "code",
   "execution_count": 39,
   "id": "312933bd",
   "metadata": {},
   "outputs": [
    {
     "data": {
      "text/plain": [
       "array(['Graduation', 'PhD', 'Master', 'Basic', '2n Cycle'], dtype=object)"
      ]
     },
     "execution_count": 39,
     "metadata": {},
     "output_type": "execute_result"
    }
   ],
   "source": [
    "# mencari nilai unique di kolom Education\n",
    "df['Education'].unique()"
   ]
  },
  {
   "cell_type": "code",
   "execution_count": 40,
   "id": "ef9ed3bc",
   "metadata": {},
   "outputs": [
    {
     "data": {
      "text/plain": [
       "Education\n",
       "Graduation    1113\n",
       "PhD            476\n",
       "Master         364\n",
       "2n Cycle       198\n",
       "Basic           54\n",
       "Name: count, dtype: int64"
      ]
     },
     "execution_count": 40,
     "metadata": {},
     "output_type": "execute_result"
    }
   ],
   "source": [
    "df['Education'].value_counts()"
   ]
  },
  {
   "cell_type": "markdown",
   "id": "ba1fa6a3",
   "metadata": {},
   "source": [
    "Keterangan:\n",
    "- Graduation: Graduation dapat diinterpretasikan sebagai lulusan Sarjana S1\n",
    "- PhD: Gelar PhD adalah gelar doktor yang paling tinggi dalam suatu pendidikan akademik (S3)\n",
    "- Master: Gelar Master atau S2 Gelar Magister atau pascasarjana \n",
    "- Basic: Status edukasi Basic di sini merupakan status pendidikan di bawah Sarjana\n",
    "- 2nd Cycle: Bisa diasumsikan sebagai kegiatan singkat setelah lulus Master"
   ]
  },
  {
   "cell_type": "markdown",
   "id": "14ca47db",
   "metadata": {},
   "source": [
    "### Kolom Anak"
   ]
  },
  {
   "cell_type": "code",
   "execution_count": 41,
   "id": "f1715007",
   "metadata": {},
   "outputs": [],
   "source": [
    "# membuat kolom baru dengan kondisi tertentu\n",
    "df['Child_Status'] = np.where (df['Kidhome'] + df['Teenhome'] == 0, 'Not Have Child', 'Have Child')"
   ]
  },
  {
   "cell_type": "markdown",
   "id": "e0f556c9",
   "metadata": {},
   "source": [
    "### Kolom Recency\n",
    "Dari kolom recency, kita bisa menentukan status pelanggan aktif atau tidak. Bisa dinilai dari terakhir belanja < 60 hari (2 bulan), maka terdaftar sebagai pelanggan aktif, dan vice versa."
   ]
  },
  {
   "cell_type": "code",
   "execution_count": 42,
   "id": "5a47c298",
   "metadata": {},
   "outputs": [
    {
     "data": {
      "text/plain": [
       "count    2205.000000\n",
       "mean       49.009070\n",
       "std        28.932111\n",
       "min         0.000000\n",
       "25%        24.000000\n",
       "50%        49.000000\n",
       "75%        74.000000\n",
       "max        99.000000\n",
       "Name: Recency, dtype: float64"
      ]
     },
     "execution_count": 42,
     "metadata": {},
     "output_type": "execute_result"
    }
   ],
   "source": [
    "df['Recency'].describe()"
   ]
  },
  {
   "cell_type": "markdown",
   "id": "ce1d2dd9",
   "metadata": {},
   "source": [
    "Bisa dilihat dari kolom described di atas, terdapat pelanggan yang baru belanja di hari itu, dan pelanggan yang paling lama terakhir belanja ada di 99 hari, which kurang lebih terakhir belanja 3 bulan yang lalu."
   ]
  },
  {
   "cell_type": "code",
   "execution_count": 43,
   "id": "7960b50c",
   "metadata": {},
   "outputs": [],
   "source": [
    "# membuat kolom baru Customer_Status dengan kondisi tertentu\n",
    "df['Customer_Status'] = np.where (df['Recency'] <= 60, 'Active', 'Passive')"
   ]
  },
  {
   "cell_type": "markdown",
   "id": "0a930352",
   "metadata": {},
   "source": [
    "### Kolom Complain"
   ]
  },
  {
   "cell_type": "code",
   "execution_count": 44,
   "id": "5b0e187f",
   "metadata": {},
   "outputs": [],
   "source": [
    "# membuat kolom baru dengan interpretasi lebih jelas\n",
    "df['Complain_Label'] = np.where(df['Complain'] == 1, 'Complain', 'No Complain')"
   ]
  },
  {
   "cell_type": "markdown",
   "id": "5b290abb",
   "metadata": {},
   "source": [
    "# Cleaned Data and 2nd Checking"
   ]
  },
  {
   "cell_type": "code",
   "execution_count": 45,
   "id": "1ffb12d0",
   "metadata": {},
   "outputs": [
    {
     "data": {
      "text/plain": [
       "Index(['index', 'Year_Birth', 'Education', 'Marital_Status', 'Income',\n",
       "       'Kidhome', 'Teenhome', 'Dt_Customer', 'Recency', 'MntWines',\n",
       "       'MntFruits', 'MntMeatProducts', 'MntFishProducts', 'MntSweetProducts',\n",
       "       'MntGoldProds', 'NumDealsPurchases', 'NumWebPurchases',\n",
       "       'NumCatalogPurchases', 'NumStorePurchases', 'NumWebVisitsMonth',\n",
       "       'AcceptedCmp3', 'AcceptedCmp4', 'AcceptedCmp5', 'AcceptedCmp1',\n",
       "       'AcceptedCmp2', 'Complain', 'Response', 'Customer_Year', 'Age',\n",
       "       'Age_Group', 'Income_Level', 'Child_Status', 'Customer_Status',\n",
       "       'Complain_Label'],\n",
       "      dtype='object')"
      ]
     },
     "execution_count": 45,
     "metadata": {},
     "output_type": "execute_result"
    }
   ],
   "source": [
    "df.columns # melihat kolom"
   ]
  },
  {
   "cell_type": "code",
   "execution_count": 46,
   "id": "6e5b6e69",
   "metadata": {},
   "outputs": [],
   "source": [
    "df = df.drop(['Customer_Year', 'Kidhome', 'Teenhome', 'Complain'], axis = 1).reset_index() "
   ]
  },
  {
   "cell_type": "code",
   "execution_count": 47,
   "id": "d014cd73",
   "metadata": {},
   "outputs": [
    {
     "data": {
      "text/html": [
       "<div>\n",
       "<style scoped>\n",
       "    .dataframe tbody tr th:only-of-type {\n",
       "        vertical-align: middle;\n",
       "    }\n",
       "\n",
       "    .dataframe tbody tr th {\n",
       "        vertical-align: top;\n",
       "    }\n",
       "\n",
       "    .dataframe thead th {\n",
       "        text-align: right;\n",
       "    }\n",
       "</style>\n",
       "<table border=\"1\" class=\"dataframe\">\n",
       "  <thead>\n",
       "    <tr style=\"text-align: right;\">\n",
       "      <th></th>\n",
       "      <th>level_0</th>\n",
       "      <th>index</th>\n",
       "      <th>Year_Birth</th>\n",
       "      <th>Education</th>\n",
       "      <th>Marital_Status</th>\n",
       "      <th>Income</th>\n",
       "      <th>Dt_Customer</th>\n",
       "      <th>Recency</th>\n",
       "      <th>MntWines</th>\n",
       "      <th>MntFruits</th>\n",
       "      <th>...</th>\n",
       "      <th>AcceptedCmp5</th>\n",
       "      <th>AcceptedCmp1</th>\n",
       "      <th>AcceptedCmp2</th>\n",
       "      <th>Response</th>\n",
       "      <th>Age</th>\n",
       "      <th>Age_Group</th>\n",
       "      <th>Income_Level</th>\n",
       "      <th>Child_Status</th>\n",
       "      <th>Customer_Status</th>\n",
       "      <th>Complain_Label</th>\n",
       "    </tr>\n",
       "  </thead>\n",
       "  <tbody>\n",
       "    <tr>\n",
       "      <th>0</th>\n",
       "      <td>0</td>\n",
       "      <td>0</td>\n",
       "      <td>1957</td>\n",
       "      <td>Graduation</td>\n",
       "      <td>Single</td>\n",
       "      <td>58138.0</td>\n",
       "      <td>2012-09-04</td>\n",
       "      <td>58</td>\n",
       "      <td>635</td>\n",
       "      <td>88</td>\n",
       "      <td>...</td>\n",
       "      <td>0</td>\n",
       "      <td>0</td>\n",
       "      <td>0</td>\n",
       "      <td>1</td>\n",
       "      <td>55</td>\n",
       "      <td>elder</td>\n",
       "      <td>high</td>\n",
       "      <td>Not Have Child</td>\n",
       "      <td>Active</td>\n",
       "      <td>No Complain</td>\n",
       "    </tr>\n",
       "    <tr>\n",
       "      <th>1</th>\n",
       "      <td>1</td>\n",
       "      <td>1</td>\n",
       "      <td>1954</td>\n",
       "      <td>Graduation</td>\n",
       "      <td>Single</td>\n",
       "      <td>46344.0</td>\n",
       "      <td>2014-03-08</td>\n",
       "      <td>38</td>\n",
       "      <td>11</td>\n",
       "      <td>1</td>\n",
       "      <td>...</td>\n",
       "      <td>0</td>\n",
       "      <td>0</td>\n",
       "      <td>0</td>\n",
       "      <td>0</td>\n",
       "      <td>60</td>\n",
       "      <td>elder</td>\n",
       "      <td>medium</td>\n",
       "      <td>Have Child</td>\n",
       "      <td>Active</td>\n",
       "      <td>No Complain</td>\n",
       "    </tr>\n",
       "    <tr>\n",
       "      <th>2</th>\n",
       "      <td>2</td>\n",
       "      <td>2</td>\n",
       "      <td>1965</td>\n",
       "      <td>Graduation</td>\n",
       "      <td>Married</td>\n",
       "      <td>71613.0</td>\n",
       "      <td>2013-08-21</td>\n",
       "      <td>26</td>\n",
       "      <td>426</td>\n",
       "      <td>49</td>\n",
       "      <td>...</td>\n",
       "      <td>0</td>\n",
       "      <td>0</td>\n",
       "      <td>0</td>\n",
       "      <td>0</td>\n",
       "      <td>48</td>\n",
       "      <td>adult</td>\n",
       "      <td>very high</td>\n",
       "      <td>Not Have Child</td>\n",
       "      <td>Active</td>\n",
       "      <td>No Complain</td>\n",
       "    </tr>\n",
       "    <tr>\n",
       "      <th>3</th>\n",
       "      <td>3</td>\n",
       "      <td>3</td>\n",
       "      <td>1984</td>\n",
       "      <td>Graduation</td>\n",
       "      <td>Married</td>\n",
       "      <td>26646.0</td>\n",
       "      <td>2014-02-10</td>\n",
       "      <td>26</td>\n",
       "      <td>11</td>\n",
       "      <td>4</td>\n",
       "      <td>...</td>\n",
       "      <td>0</td>\n",
       "      <td>0</td>\n",
       "      <td>0</td>\n",
       "      <td>0</td>\n",
       "      <td>30</td>\n",
       "      <td>adult</td>\n",
       "      <td>low</td>\n",
       "      <td>Have Child</td>\n",
       "      <td>Active</td>\n",
       "      <td>No Complain</td>\n",
       "    </tr>\n",
       "    <tr>\n",
       "      <th>4</th>\n",
       "      <td>4</td>\n",
       "      <td>4</td>\n",
       "      <td>1981</td>\n",
       "      <td>PhD</td>\n",
       "      <td>Married</td>\n",
       "      <td>58293.0</td>\n",
       "      <td>2014-01-19</td>\n",
       "      <td>94</td>\n",
       "      <td>173</td>\n",
       "      <td>43</td>\n",
       "      <td>...</td>\n",
       "      <td>0</td>\n",
       "      <td>0</td>\n",
       "      <td>0</td>\n",
       "      <td>0</td>\n",
       "      <td>33</td>\n",
       "      <td>adult</td>\n",
       "      <td>high</td>\n",
       "      <td>Have Child</td>\n",
       "      <td>Passive</td>\n",
       "      <td>No Complain</td>\n",
       "    </tr>\n",
       "  </tbody>\n",
       "</table>\n",
       "<p>5 rows × 31 columns</p>\n",
       "</div>"
      ],
      "text/plain": [
       "   level_0  index  Year_Birth   Education Marital_Status   Income Dt_Customer  \\\n",
       "0        0      0        1957  Graduation         Single  58138.0  2012-09-04   \n",
       "1        1      1        1954  Graduation         Single  46344.0  2014-03-08   \n",
       "2        2      2        1965  Graduation        Married  71613.0  2013-08-21   \n",
       "3        3      3        1984  Graduation        Married  26646.0  2014-02-10   \n",
       "4        4      4        1981         PhD        Married  58293.0  2014-01-19   \n",
       "\n",
       "   Recency  MntWines  MntFruits  ...  AcceptedCmp5  AcceptedCmp1  \\\n",
       "0       58       635         88  ...             0             0   \n",
       "1       38        11          1  ...             0             0   \n",
       "2       26       426         49  ...             0             0   \n",
       "3       26        11          4  ...             0             0   \n",
       "4       94       173         43  ...             0             0   \n",
       "\n",
       "   AcceptedCmp2  Response  Age  Age_Group  Income_Level    Child_Status  \\\n",
       "0             0         1   55      elder          high  Not Have Child   \n",
       "1             0         0   60      elder        medium      Have Child   \n",
       "2             0         0   48      adult     very high  Not Have Child   \n",
       "3             0         0   30      adult           low      Have Child   \n",
       "4             0         0   33      adult          high      Have Child   \n",
       "\n",
       "   Customer_Status  Complain_Label  \n",
       "0           Active     No Complain  \n",
       "1           Active     No Complain  \n",
       "2           Active     No Complain  \n",
       "3           Active     No Complain  \n",
       "4          Passive     No Complain  \n",
       "\n",
       "[5 rows x 31 columns]"
      ]
     },
     "metadata": {},
     "output_type": "display_data"
    },
    {
     "data": {
      "text/html": [
       "<div>\n",
       "<style scoped>\n",
       "    .dataframe tbody tr th:only-of-type {\n",
       "        vertical-align: middle;\n",
       "    }\n",
       "\n",
       "    .dataframe tbody tr th {\n",
       "        vertical-align: top;\n",
       "    }\n",
       "\n",
       "    .dataframe thead th {\n",
       "        text-align: right;\n",
       "    }\n",
       "</style>\n",
       "<table border=\"1\" class=\"dataframe\">\n",
       "  <thead>\n",
       "    <tr style=\"text-align: right;\">\n",
       "      <th></th>\n",
       "      <th>level_0</th>\n",
       "      <th>index</th>\n",
       "      <th>Year_Birth</th>\n",
       "      <th>Education</th>\n",
       "      <th>Marital_Status</th>\n",
       "      <th>Income</th>\n",
       "      <th>Dt_Customer</th>\n",
       "      <th>Recency</th>\n",
       "      <th>MntWines</th>\n",
       "      <th>MntFruits</th>\n",
       "      <th>...</th>\n",
       "      <th>AcceptedCmp5</th>\n",
       "      <th>AcceptedCmp1</th>\n",
       "      <th>AcceptedCmp2</th>\n",
       "      <th>Response</th>\n",
       "      <th>Age</th>\n",
       "      <th>Age_Group</th>\n",
       "      <th>Income_Level</th>\n",
       "      <th>Child_Status</th>\n",
       "      <th>Customer_Status</th>\n",
       "      <th>Complain_Label</th>\n",
       "    </tr>\n",
       "  </thead>\n",
       "  <tbody>\n",
       "    <tr>\n",
       "      <th>2200</th>\n",
       "      <td>2211</td>\n",
       "      <td>2235</td>\n",
       "      <td>1967</td>\n",
       "      <td>Graduation</td>\n",
       "      <td>Married</td>\n",
       "      <td>61223.0</td>\n",
       "      <td>2013-06-13</td>\n",
       "      <td>46</td>\n",
       "      <td>709</td>\n",
       "      <td>43</td>\n",
       "      <td>...</td>\n",
       "      <td>0</td>\n",
       "      <td>0</td>\n",
       "      <td>0</td>\n",
       "      <td>0</td>\n",
       "      <td>46</td>\n",
       "      <td>adult</td>\n",
       "      <td>high</td>\n",
       "      <td>Have Child</td>\n",
       "      <td>Active</td>\n",
       "      <td>No Complain</td>\n",
       "    </tr>\n",
       "    <tr>\n",
       "      <th>2201</th>\n",
       "      <td>2212</td>\n",
       "      <td>2236</td>\n",
       "      <td>1946</td>\n",
       "      <td>PhD</td>\n",
       "      <td>Married</td>\n",
       "      <td>64014.0</td>\n",
       "      <td>2014-06-10</td>\n",
       "      <td>56</td>\n",
       "      <td>406</td>\n",
       "      <td>0</td>\n",
       "      <td>...</td>\n",
       "      <td>0</td>\n",
       "      <td>1</td>\n",
       "      <td>0</td>\n",
       "      <td>0</td>\n",
       "      <td>68</td>\n",
       "      <td>elder</td>\n",
       "      <td>high</td>\n",
       "      <td>Have Child</td>\n",
       "      <td>Active</td>\n",
       "      <td>No Complain</td>\n",
       "    </tr>\n",
       "    <tr>\n",
       "      <th>2202</th>\n",
       "      <td>2213</td>\n",
       "      <td>2237</td>\n",
       "      <td>1981</td>\n",
       "      <td>Graduation</td>\n",
       "      <td>Separated</td>\n",
       "      <td>56981.0</td>\n",
       "      <td>2014-01-25</td>\n",
       "      <td>91</td>\n",
       "      <td>908</td>\n",
       "      <td>48</td>\n",
       "      <td>...</td>\n",
       "      <td>0</td>\n",
       "      <td>0</td>\n",
       "      <td>0</td>\n",
       "      <td>0</td>\n",
       "      <td>33</td>\n",
       "      <td>adult</td>\n",
       "      <td>high</td>\n",
       "      <td>Not Have Child</td>\n",
       "      <td>Passive</td>\n",
       "      <td>No Complain</td>\n",
       "    </tr>\n",
       "    <tr>\n",
       "      <th>2203</th>\n",
       "      <td>2214</td>\n",
       "      <td>2238</td>\n",
       "      <td>1956</td>\n",
       "      <td>Master</td>\n",
       "      <td>Married</td>\n",
       "      <td>69245.0</td>\n",
       "      <td>2014-01-24</td>\n",
       "      <td>8</td>\n",
       "      <td>428</td>\n",
       "      <td>30</td>\n",
       "      <td>...</td>\n",
       "      <td>0</td>\n",
       "      <td>0</td>\n",
       "      <td>0</td>\n",
       "      <td>0</td>\n",
       "      <td>58</td>\n",
       "      <td>elder</td>\n",
       "      <td>very high</td>\n",
       "      <td>Have Child</td>\n",
       "      <td>Active</td>\n",
       "      <td>No Complain</td>\n",
       "    </tr>\n",
       "    <tr>\n",
       "      <th>2204</th>\n",
       "      <td>2215</td>\n",
       "      <td>2239</td>\n",
       "      <td>1954</td>\n",
       "      <td>PhD</td>\n",
       "      <td>Married</td>\n",
       "      <td>52869.0</td>\n",
       "      <td>2012-10-15</td>\n",
       "      <td>40</td>\n",
       "      <td>84</td>\n",
       "      <td>3</td>\n",
       "      <td>...</td>\n",
       "      <td>0</td>\n",
       "      <td>0</td>\n",
       "      <td>0</td>\n",
       "      <td>1</td>\n",
       "      <td>58</td>\n",
       "      <td>elder</td>\n",
       "      <td>high</td>\n",
       "      <td>Have Child</td>\n",
       "      <td>Active</td>\n",
       "      <td>No Complain</td>\n",
       "    </tr>\n",
       "  </tbody>\n",
       "</table>\n",
       "<p>5 rows × 31 columns</p>\n",
       "</div>"
      ],
      "text/plain": [
       "      level_0  index  Year_Birth   Education Marital_Status   Income  \\\n",
       "2200     2211   2235        1967  Graduation        Married  61223.0   \n",
       "2201     2212   2236        1946         PhD        Married  64014.0   \n",
       "2202     2213   2237        1981  Graduation      Separated  56981.0   \n",
       "2203     2214   2238        1956      Master        Married  69245.0   \n",
       "2204     2215   2239        1954         PhD        Married  52869.0   \n",
       "\n",
       "     Dt_Customer  Recency  MntWines  MntFruits  ...  AcceptedCmp5  \\\n",
       "2200  2013-06-13       46       709         43  ...             0   \n",
       "2201  2014-06-10       56       406          0  ...             0   \n",
       "2202  2014-01-25       91       908         48  ...             0   \n",
       "2203  2014-01-24        8       428         30  ...             0   \n",
       "2204  2012-10-15       40        84          3  ...             0   \n",
       "\n",
       "      AcceptedCmp1  AcceptedCmp2  Response  Age  Age_Group  Income_Level  \\\n",
       "2200             0             0         0   46      adult          high   \n",
       "2201             1             0         0   68      elder          high   \n",
       "2202             0             0         0   33      adult          high   \n",
       "2203             0             0         0   58      elder     very high   \n",
       "2204             0             0         1   58      elder          high   \n",
       "\n",
       "        Child_Status  Customer_Status  Complain_Label  \n",
       "2200      Have Child           Active     No Complain  \n",
       "2201      Have Child           Active     No Complain  \n",
       "2202  Not Have Child          Passive     No Complain  \n",
       "2203      Have Child           Active     No Complain  \n",
       "2204      Have Child           Active     No Complain  \n",
       "\n",
       "[5 rows x 31 columns]"
      ]
     },
     "metadata": {},
     "output_type": "display_data"
    }
   ],
   "source": [
    "display(df.head(), df.tail())"
   ]
  },
  {
   "cell_type": "code",
   "execution_count": 85,
   "id": "f41e48bb",
   "metadata": {},
   "outputs": [
    {
     "name": "stdout",
     "output_type": "stream",
     "text": [
      "<class 'pandas.core.frame.DataFrame'>\n",
      "RangeIndex: 2205 entries, 0 to 2204\n",
      "Data columns (total 35 columns):\n",
      " #   Column                   Non-Null Count  Dtype         \n",
      "---  ------                   --------------  -----         \n",
      " 0   level_0                  2205 non-null   int64         \n",
      " 1   index                    2205 non-null   int64         \n",
      " 2   Year_Birth               2205 non-null   int64         \n",
      " 3   Education                2205 non-null   object        \n",
      " 4   Marital_Status           2205 non-null   object        \n",
      " 5   Income                   2205 non-null   float64       \n",
      " 6   Dt_Customer              2205 non-null   datetime64[ns]\n",
      " 7   Recency                  2205 non-null   int64         \n",
      " 8   MntWines                 2205 non-null   int64         \n",
      " 9   MntFruits                2205 non-null   int64         \n",
      " 10  MntMeatProducts          2205 non-null   int64         \n",
      " 11  MntFishProducts          2205 non-null   int64         \n",
      " 12  MntSweetProducts         2205 non-null   int64         \n",
      " 13  MntGoldProds             2205 non-null   int64         \n",
      " 14  NumDealsPurchases        2205 non-null   int64         \n",
      " 15  NumWebPurchases          2205 non-null   int64         \n",
      " 16  NumCatalogPurchases      2205 non-null   int64         \n",
      " 17  NumStorePurchases        2205 non-null   int64         \n",
      " 18  NumWebVisitsMonth        2205 non-null   int64         \n",
      " 19  AcceptedCmp3             2205 non-null   int64         \n",
      " 20  AcceptedCmp4             2205 non-null   int64         \n",
      " 21  AcceptedCmp5             2205 non-null   int64         \n",
      " 22  AcceptedCmp1             2205 non-null   int64         \n",
      " 23  AcceptedCmp2             2205 non-null   int64         \n",
      " 24  Response                 2205 non-null   int64         \n",
      " 25  Age                      2205 non-null   int64         \n",
      " 26  Age_Group                2205 non-null   category      \n",
      " 27  Income_Level             2204 non-null   category      \n",
      " 28  Child_Status             2205 non-null   object        \n",
      " 29  Customer_Status          2205 non-null   object        \n",
      " 30  Complain_Label           2205 non-null   object        \n",
      " 31  TotalSpend               2205 non-null   int64         \n",
      " 32  Year                     2205 non-null   int32         \n",
      " 33  Total_Spend              2205 non-null   int64         \n",
      " 34  Total_Campaign_Accepted  2205 non-null   int64         \n",
      "dtypes: category(2), datetime64[ns](1), float64(1), int32(1), int64(25), object(5)\n",
      "memory usage: 564.7+ KB\n"
     ]
    }
   ],
   "source": [
    "df.info()"
   ]
  },
  {
   "cell_type": "code",
   "execution_count": 49,
   "id": "1ae69e5f",
   "metadata": {},
   "outputs": [],
   "source": [
    "import pandas as pd\n",
    "\n",
    "# Simpan ke file CSV baru\n",
    "df.to_csv('data_bersih.csv', index = False)"
   ]
  },
  {
   "cell_type": "markdown",
   "id": "ff9754b8",
   "metadata": {},
   "source": [
    "# Data Analysis"
   ]
  },
  {
   "cell_type": "markdown",
   "id": "636fecec",
   "metadata": {},
   "source": [
    "## a. Analisis Demografi Pelanggan\n",
    "Tujuan: untuk memahami pelanggan"
   ]
  },
  {
   "cell_type": "markdown",
   "id": "e3012d8e",
   "metadata": {},
   "source": [
    "### 1. Jumlah Customer Supermarket"
   ]
  },
  {
   "cell_type": "code",
   "execution_count": 50,
   "id": "b7d4a57a",
   "metadata": {},
   "outputs": [
    {
     "data": {
      "text/plain": [
       "(2205, 31)"
      ]
     },
     "execution_count": 50,
     "metadata": {},
     "output_type": "execute_result"
    }
   ],
   "source": [
    "df.shape"
   ]
  },
  {
   "cell_type": "markdown",
   "id": "7ea9cd23",
   "metadata": {},
   "source": [
    "Total pelanggan customer yang mendaftar member sebanyak 2205, dengan total 31 kolom."
   ]
  },
  {
   "cell_type": "markdown",
   "id": "7b55631c",
   "metadata": {},
   "source": [
    "### 2 Jumlah Pelanggan per-Kelompok Usia? (Teenager, Young Adult, Adult, Elder)"
   ]
  },
  {
   "cell_type": "code",
   "execution_count": 51,
   "id": "85acc721",
   "metadata": {},
   "outputs": [
    {
     "name": "stdout",
     "output_type": "stream",
     "text": [
      "Age_Group\n",
      "teenager         10\n",
      "young adult     181\n",
      "adult          1289\n",
      "elder           733\n",
      "Name: count, dtype: int64\n"
     ]
    }
   ],
   "source": [
    "df['Age'].describe()\n",
    "\n",
    "print(jumlah_pelanggan)"
   ]
  },
  {
   "cell_type": "code",
   "execution_count": 52,
   "id": "eb7c4b25",
   "metadata": {},
   "outputs": [
    {
     "data": {
      "image/png": "[encoded data removed]",
      "text/plain": [
       "<Figure size 600x300 with 1 Axes>"
      ]
     },
     "metadata": {},
     "output_type": "display_data"
    }
   ],
   "source": [
    "# Hitung jumlah customer per kelompok usia\n",
    "age_counts = df['Age_Group'].value_counts().sort_index()\n",
    "\n",
    "# Buat bar chart\n",
    "plt.figure(figsize = (6,3))\n",
    "sns.barplot(x = age_counts.index, y = age_counts.values, palette = 'Set1')\n",
    "\n",
    "plt.title('Jumlah Pelanggan per Kelompok Usia')\n",
    "plt.xlabel('Kelompok Usia')\n",
    "plt.ylabel('Jumlah Pelanggan')\n",
    "plt.tight_layout()\n",
    "plt.show()"
   ]
  },
  {
   "cell_type": "markdown",
   "id": "26cab25f",
   "metadata": {},
   "source": [
    "Kelompok berdasarkan usia\n",
    "- teenager -> <= 19 tahun\n",
    "- young adult -> 20 - 27 tahun\n",
    "- adult -> 28 - 49 tahun\n",
    "- elder -> >= 50 tahun"
   ]
  },
  {
   "cell_type": "markdown",
   "id": "a1404f15",
   "metadata": {},
   "source": [
    "### 3. Apakah ada hubungan dari Banyaknya Income dengan usia mereka?"
   ]
  },
  {
   "cell_type": "code",
   "execution_count": 53,
   "id": "9fd8e4d0",
   "metadata": {},
   "outputs": [
    {
     "data": {
      "image/png": "[encoded data removed]",
      "text/plain": [
       "<Figure size 800x500 with 1 Axes>"
      ]
     },
     "metadata": {},
     "output_type": "display_data"
    }
   ],
   "source": [
    "plt.figure(figsize = (8,5))\n",
    "sns.scatterplot(data = df,  x = 'Age', y = 'Income', color = 'Teal')\n",
    "plt.title('Hubungan Usia dan Pendapatan')\n",
    "plt.xlabel('Usia')\n",
    "plt.ylabel('Income')\n",
    "plt.tight_layout()\n",
    "plt.show()"
   ]
  },
  {
   "cell_type": "markdown",
   "id": "e8975f30",
   "metadata": {},
   "source": [
    "**Dari Grafik Scatterplot di atas, bisa diambil insights sebagai berikut:**\n",
    "- Perseberan grafik cukup merata, artinya pelanggan berasal dari berbagai usia\n",
    "- Tidak terlihat bahwa semakin tinggi usia semakin tinggi pula incomenya. Meskipun ada pula income tinggi namun tidak bisa di sama ratakan.\n",
    "- Kecenderungan: Income justru bervariasi secara acak di setiap usia.\n",
    "- Usia 30-60 memiliki income berkisar 30.000 - 70.000, persebaran datanya padat di bagian tengah. Sehingga bisa diasumsikan sebagai pelanggan dominan, secara jumlah dan potensi daya beli."
   ]
  },
  {
   "cell_type": "code",
   "execution_count": 54,
   "id": "73f566d6",
   "metadata": {},
   "outputs": [
    {
     "data": {
      "text/plain": [
       "np.float64(0.21343976109134014)"
      ]
     },
     "execution_count": 54,
     "metadata": {},
     "output_type": "execute_result"
    }
   ],
   "source": [
    "# uji korelasi\n",
    "df['Age'].corr(df['Income'])"
   ]
  },
  {
   "cell_type": "markdown",
   "id": "a4a28e1f",
   "metadata": {},
   "source": [
    "Berdasarkan analisis korelasi, bisa dilihat kolom ['Age'] dan ['Income'] nilai korelasinya 0.21, korelasi positif lemah. Artinya, ada kecenderungan bahwa semakin tua pelanggan, pendapatannya sedikit lebih tinggi, namun hubungan tersebut tidak signifikan secara kuat. Maka dari itu, usia tidak begitu memengaruhi besarnya income pelanggan."
   ]
  },
  {
   "cell_type": "markdown",
   "id": "941343eb",
   "metadata": {},
   "source": [
    "### 4. Apakah tingkat pendidikan memengaruhi pendapatan pelanggan?"
   ]
  },
  {
   "cell_type": "code",
   "execution_count": 55,
   "id": "5b3f360c",
   "metadata": {},
   "outputs": [
    {
     "data": {
      "image/png": "[encoded data removed]",
      "text/plain": [
       "<Figure size 640x480 with 1 Axes>"
      ]
     },
     "metadata": {},
     "output_type": "display_data"
    }
   ],
   "source": [
    "sns.boxplot(x = 'Education', y = 'Income', data = df, palette = 'Set1')\n",
    "plt.title('Perbandingan Income berdasarkan Pendidikan')\n",
    "plt.show()"
   ]
  },
  {
   "cell_type": "markdown",
   "id": "22aea449",
   "metadata": {},
   "source": [
    "Insights dari Boxplot:\n",
    "- Pelanggan dengan tingkat pendidikan ['Basic'] memiliki pendapatan median yang paling rendah dan rentang pendapatan yang sempit, menandakan kelompok ini cenderung homogen dengan daya beli yang terbatas\n",
    "- Kelompok dengan pendidikan ['Graduation'], ['PhD'], ['Master'], dan ['2nCycle'] menunjukkan median pendapatan yang lebih tinggi dan variasi yang lebih besar. Hal ini menandakan bahwa semakin tinggi tingkat pendidikan, semakin besar peluang seseorang memiliki pendapatan tinggi.\n",
    "- Terdapat pula beberapa outlier pendapatan tinggi pada kategori pendidikan tinggi, menunjukkan adanya pelanggan dengan daya beli sangat besar dalam kelompok tersebut."
   ]
  },
  {
   "cell_type": "code",
   "execution_count": 56,
   "id": "0b369bc4",
   "metadata": {},
   "outputs": [
    {
     "name": "stdout",
     "output_type": "stream",
     "text": [
      "F-Statistic: 39.12533829626313\n",
      "p-value: 1.0965632726151262e-31\n",
      "Ada perbedaan signifikan pendapatan antar kelompok pendidikan.\n"
     ]
    }
   ],
   "source": [
    "# Kelompokkan Income berdasarkan kategori Education\n",
    "from scipy import stats\n",
    "\n",
    "basic = df[df['Education'] == 'Basic']['Income']\n",
    "graduation = df[df['Education'] == 'Graduation']['Income']\n",
    "master = df[df['Education'] == 'Master']['Income']\n",
    "phd = df[df['Education'] == 'PhD']['Income']\n",
    "cycle = df[df['Education'] == '2n Cycle']['Income']\n",
    "\n",
    "# Uji ANOVA\n",
    "f_stat, p_value = stats.f_oneway (basic, graduation, master, phd, cycle)\n",
    "\n",
    "print(\"F-Statistic:\", f_stat)\n",
    "print(\"p-value:\", p_value)\n",
    "\n",
    "if p_value < 0.05:\n",
    "    print(\"Ada perbedaan signifikan pendapatan antar kelompok pendidikan.\")\n",
    "else:\n",
    "    print(\"Tidak ada perbedaan signifikan.\")\n"
   ]
  },
  {
   "cell_type": "markdown",
   "id": "4e80c5d7",
   "metadata": {},
   "source": [
    "### 5. Apakah orang berpenghasilan tinggi berbelanja lebih banyak secara nominal?"
   ]
  },
  {
   "cell_type": "code",
   "execution_count": 57,
   "id": "b1eefa78",
   "metadata": {},
   "outputs": [
    {
     "name": "stdout",
     "output_type": "stream",
     "text": [
      "Korelasi: 0.8237696997821239, p-value: 0.0\n",
      "Ada hubungan signifikan antara pendapatan dan total belanja.\n"
     ]
    }
   ],
   "source": [
    "# membuat variabel berdasarkan jumlah uang yang dihabiskan tiap produk\n",
    "df['TotalSpend'] = df[['MntWines', 'MntFruits', 'MntMeatProducts', \n",
    "                       'MntFishProducts', 'MntSweetProducts', 'MntGoldProds']].sum (axis = 1)\n",
    "df['TotalSpend'].describe()\n",
    "\n",
    "# uji korelasi\n",
    "from scipy.stats import pearsonr\n",
    "corr, p_value = pearsonr (df['Income'], df['TotalSpend'])\n",
    "\n",
    "print(f'Korelasi: {corr}, p-value: {p_value}')\n",
    "# Cek signifikansi\n",
    "if p_value < 0.05:\n",
    "    print(\"Ada hubungan signifikan antara pendapatan dan total belanja.\")\n",
    "else:\n",
    "    print(\"Tidak ada hubungan signifikan antara pendapatan dan total belanja.\")"
   ]
  },
  {
   "cell_type": "code",
   "execution_count": 58,
   "id": "133d9ea7",
   "metadata": {},
   "outputs": [
    {
     "data": {
      "image/png": "[encoded data removed]",
      "text/plain": [
       "<Figure size 640x480 with 1 Axes>"
      ]
     },
     "metadata": {},
     "output_type": "display_data"
    }
   ],
   "source": [
    "# visualisasi\n",
    "sns.scatterplot(x = 'Income', y = 'TotalSpend', data = df, color = 'Teal')\n",
    "plt.title('Income vs Total Spend')\n",
    "plt.xlabel('Income')\n",
    "plt.ylabel('Total Spend')\n",
    "plt.show()"
   ]
  },
  {
   "cell_type": "markdown",
   "id": "a7555ba4",
   "metadata": {},
   "source": [
    "Dari scatterplot di atas, bisa diambil insights sebagai berikut:\n",
    "- Terlihat pola naik ke kanan - artinya semakin tinggi pendapatan, cenderung semakin tinggi juga pengeluarannya.\n",
    "- Ini menunjukkan adanya hubungan positif antara pendapatan dan total belanja.\n",
    "- Dari sebaran data dan ditambah dengan nilai korelasi sebelumnya (corr = 0.82), ini tergolong korelasi kuat. Artinya, orang dengan pendapatan tinggi cenderung belanja lebih banyak secara nominal.\n",
    "- Pada level pendapatan rendah (misalnya < 30.000), sebagian besar pengeluaran juga rendah.\n",
    "- Namun semakin naik pendapatan, variasi pengeluaran makin besar - artinya tidak semua orang kaya menghabiskan banyak, tapi kemungkinan besar mereka punya daya beli lebih tinggi.\n",
    "\n",
    "Kesimpulan:\n",
    "Orang dengan pendapatan yang lebih tinggi cenderung membelanjakan lebih banyak uang, yang didukung oleh korelasi positif yang kuat dan pola pada scatter plot ini."
   ]
  },
  {
   "cell_type": "markdown",
   "id": "12e30b6d",
   "metadata": {},
   "source": [
    "### 6. Persentase Pelanggan berdasarkan Marital Status\n",
    "Berdasarkan asumsi bahwa Supermarket ini memusatkan target pada sebuah keluarga"
   ]
  },
  {
   "cell_type": "code",
   "execution_count": 59,
   "id": "780c33b4",
   "metadata": {},
   "outputs": [
    {
     "name": "stdout",
     "output_type": "stream",
     "text": [
      "Marital_Status\n",
      "Married      1422\n",
      "Single        477\n",
      "Separated     230\n",
      "Widow          76\n",
      "Name: count, dtype: int64\n"
     ]
    }
   ],
   "source": [
    "stats_marr = df['Marital_Status'].value_counts()\n",
    "print(stats_marr)"
   ]
  },
  {
   "cell_type": "code",
   "execution_count": 60,
   "id": "759b4ea9",
   "metadata": {},
   "outputs": [
    {
     "name": "stdout",
     "output_type": "stream",
     "text": [
      "Marital_Status\n",
      "Married      64.489796\n",
      "Single       21.632653\n",
      "Separated    10.430839\n",
      "Widow         3.446712\n",
      "Name: proportion, dtype: float64\n"
     ]
    }
   ],
   "source": [
    "# Persentase Marital Status\n",
    "stats_marr = df['Marital_Status'].value_counts(normalize=True) * 100\n",
    "print(stats_marr)"
   ]
  },
  {
   "cell_type": "code",
   "execution_count": 61,
   "id": "ade5d4c0",
   "metadata": {},
   "outputs": [
    {
     "data": {
      "image/png": "[encoded data removed]",
      "text/plain": [
       "<Figure size 600x600 with 1 Axes>"
      ]
     },
     "metadata": {},
     "output_type": "display_data"
    }
   ],
   "source": [
    "# visualisasi\n",
    "plt.figure(figsize=(6,6))\n",
    "colors = sns.color_palette('Set1')\n",
    "\n",
    "stats_marr.plot.pie(autopct = '%1.1f%%', colors = colors)\n",
    "plt.title('Persentase Pelanggan berdasarkan Marital Status')\n",
    "plt.ylabel('')\n",
    "plt.show()\n"
   ]
  },
  {
   "cell_type": "markdown",
   "id": "e064e3f6",
   "metadata": {},
   "source": [
    "## b. Analisis Perilaku Belanja dan Penjualan"
   ]
  },
  {
   "cell_type": "markdown",
   "id": "075811f1",
   "metadata": {},
   "source": [
    "### 1. Jumlah dan Persentase Pelanggan Aktif ['Customer_Status']"
   ]
  },
  {
   "cell_type": "code",
   "execution_count": 62,
   "id": "96994e62",
   "metadata": {},
   "outputs": [
    {
     "data": {
      "text/plain": [
       "Customer_Status\n",
       "Active     1359\n",
       "Passive     846\n",
       "Name: count, dtype: int64"
      ]
     },
     "execution_count": 62,
     "metadata": {},
     "output_type": "execute_result"
    }
   ],
   "source": [
    "# jumlah pelanggan aktif dan pasif\n",
    "df['Customer_Status'].value_counts()"
   ]
  },
  {
   "cell_type": "markdown",
   "id": "de6b9975",
   "metadata": {},
   "source": [
    "Keterangan:\n",
    "- Active: pembelian terakhir pelanggan tidak lebih dari 60 hari\n",
    "- Passive: pembelian terakhir pelanggan lebih dari 60 hari (2-3 bulan)"
   ]
  },
  {
   "cell_type": "code",
   "execution_count": 63,
   "id": "84a4e540",
   "metadata": {},
   "outputs": [
    {
     "data": {
      "text/plain": [
       "Customer_Status\n",
       "Active     61.632653\n",
       "Passive    38.367347\n",
       "Name: proportion, dtype: float64"
      ]
     },
     "execution_count": 63,
     "metadata": {},
     "output_type": "execute_result"
    }
   ],
   "source": [
    "# persentase\n",
    "df['Customer_Status'].value_counts(normalize = True) * 100"
   ]
  },
  {
   "cell_type": "code",
   "execution_count": 64,
   "id": "6bc62cf5",
   "metadata": {},
   "outputs": [
    {
     "data": {
      "image/png": "[encoded data removed]",
      "text/plain": [
       "<Figure size 640x480 with 1 Axes>"
      ]
     },
     "metadata": {},
     "output_type": "display_data"
    }
   ],
   "source": [
    "# visualisasi\n",
    "# Hitung jumlah berdasarkan Customer_Status\n",
    "status_counts = df['Customer_Status'].value_counts()\n",
    "\n",
    "# Visualisasi\n",
    "status_counts.plot(kind = 'bar', color = ['teal', 'orange'])\n",
    "plt.title('Jumlah Pelanggan Aktif vs Pasif')\n",
    "plt.xlabel('Status Pelanggan')\n",
    "plt.ylabel('Jumlah')\n",
    "plt.xticks(rotation = 0)\n",
    "plt.tight_layout()\n",
    "plt.show()\n"
   ]
  },
  {
   "cell_type": "markdown",
   "id": "e5ff8cdc",
   "metadata": {},
   "source": [
    "### 2. Produk yang paling banyak dibeli berdasarkan kalangan (Usia, Marital_Status, Income, Education)?"
   ]
  },
  {
   "cell_type": "code",
   "execution_count": 65,
   "id": "bff87594",
   "metadata": {},
   "outputs": [
    {
     "data": {
      "text/html": [
       "<div>\n",
       "<style scoped>\n",
       "    .dataframe tbody tr th:only-of-type {\n",
       "        vertical-align: middle;\n",
       "    }\n",
       "\n",
       "    .dataframe tbody tr th {\n",
       "        vertical-align: top;\n",
       "    }\n",
       "\n",
       "    .dataframe thead th {\n",
       "        text-align: right;\n",
       "    }\n",
       "</style>\n",
       "<table border=\"1\" class=\"dataframe\">\n",
       "  <thead>\n",
       "    <tr style=\"text-align: right;\">\n",
       "      <th></th>\n",
       "      <th>MntWines</th>\n",
       "      <th>MntFruits</th>\n",
       "      <th>MntMeatProducts</th>\n",
       "      <th>MntFishProducts</th>\n",
       "      <th>MntSweetProducts</th>\n",
       "      <th>MntGoldProds</th>\n",
       "    </tr>\n",
       "    <tr>\n",
       "      <th>Age_Group</th>\n",
       "      <th></th>\n",
       "      <th></th>\n",
       "      <th></th>\n",
       "      <th></th>\n",
       "      <th></th>\n",
       "      <th></th>\n",
       "    </tr>\n",
       "  </thead>\n",
       "  <tbody>\n",
       "    <tr>\n",
       "      <th>teenager</th>\n",
       "      <td>290.600000</td>\n",
       "      <td>29.300000</td>\n",
       "      <td>325.000000</td>\n",
       "      <td>76.600000</td>\n",
       "      <td>40.700000</td>\n",
       "      <td>53.200000</td>\n",
       "    </tr>\n",
       "    <tr>\n",
       "      <th>young adult</th>\n",
       "      <td>261.187845</td>\n",
       "      <td>31.447514</td>\n",
       "      <td>204.364641</td>\n",
       "      <td>38.154696</td>\n",
       "      <td>30.171271</td>\n",
       "      <td>44.138122</td>\n",
       "    </tr>\n",
       "    <tr>\n",
       "      <th>adult</th>\n",
       "      <td>272.019501</td>\n",
       "      <td>24.798752</td>\n",
       "      <td>145.532761</td>\n",
       "      <td>34.418877</td>\n",
       "      <td>25.416537</td>\n",
       "      <td>40.944618</td>\n",
       "    </tr>\n",
       "    <tr>\n",
       "      <th>elder</th>\n",
       "      <td>377.299180</td>\n",
       "      <td>27.926230</td>\n",
       "      <td>188.114754</td>\n",
       "      <td>42.972678</td>\n",
       "      <td>29.188525</td>\n",
       "      <td>49.363388</td>\n",
       "    </tr>\n",
       "  </tbody>\n",
       "</table>\n",
       "</div>"
      ],
      "text/plain": [
       "               MntWines  MntFruits  MntMeatProducts  MntFishProducts  \\\n",
       "Age_Group                                                              \n",
       "teenager     290.600000  29.300000       325.000000        76.600000   \n",
       "young adult  261.187845  31.447514       204.364641        38.154696   \n",
       "adult        272.019501  24.798752       145.532761        34.418877   \n",
       "elder        377.299180  27.926230       188.114754        42.972678   \n",
       "\n",
       "             MntSweetProducts  MntGoldProds  \n",
       "Age_Group                                    \n",
       "teenager            40.700000     53.200000  \n",
       "young adult         30.171271     44.138122  \n",
       "adult               25.416537     40.944618  \n",
       "elder               29.188525     49.363388  "
      ]
     },
     "execution_count": 65,
     "metadata": {},
     "output_type": "execute_result"
    }
   ],
   "source": [
    "# Berdasarkan Usia (dengan membuat variabel kumpulan produk dan dijumlah berdasarkan rata-rata)\n",
    "produk = ['MntWines', 'MntFruits', 'MntMeatProducts', 'MntFishProducts',\n",
    "          'MntSweetProducts', 'MntGoldProds']\n",
    "\n",
    "produk_by_age = df.groupby('Age_Group')[produk].mean()\n",
    "produk_by_age"
   ]
  },
  {
   "cell_type": "code",
   "execution_count": 66,
   "id": "04885ad5",
   "metadata": {},
   "outputs": [
    {
     "data": {
      "image/png": "[encoded data removed]",
      "text/plain": [
       "<Figure size 1500x500 with 1 Axes>"
      ]
     },
     "metadata": {},
     "output_type": "display_data"
    }
   ],
   "source": [
    "# visualisasi\n",
    "produk_by_age.plot(kind = 'bar', figsize = (15,5))\n",
    "plt.title('Total Pembelian Produk Berdasarkan Kelompok Usia')\n",
    "plt.ylabel('Total Pembelian')\n",
    "plt.xlabel('Kelompok Usia')\n",
    "plt.xticks(rotation = 0)\n",
    "plt.legend(title = 'Kategori Produk')\n",
    "plt.tight_layout()\n",
    "plt.show()"
   ]
  },
  {
   "cell_type": "markdown",
   "id": "878ed8f3",
   "metadata": {},
   "source": [
    "Interpretasi:\n",
    "- Kelompok usia “Adult” (dewasa) membeli paling banyak secara keseluruhan, terutama:\n",
    "    - MntWines (produk wine) → terlihat sangat dominan.\n",
    "    - MntMeatProducts juga tinggi di kelompok ini.\n",
    "- Kelompok “Elder” masih cukup tinggi untuk Wine dan Daging, tapi lebih rendah dibanding Adult.\n",
    "- Kelompok “Young Adult” dan “Teenager” kontribusinya jauh lebih kecil di semua kategori produk.\n",
    "- Kategori produk paling populer (secara umum): Wines, Daging dan diikuti Gold dan Ikan "
   ]
  },
  {
   "cell_type": "code",
   "execution_count": 67,
   "id": "7ff988fa",
   "metadata": {},
   "outputs": [
    {
     "data": {
      "text/html": [
       "<div>\n",
       "<style scoped>\n",
       "    .dataframe tbody tr th:only-of-type {\n",
       "        vertical-align: middle;\n",
       "    }\n",
       "\n",
       "    .dataframe tbody tr th {\n",
       "        vertical-align: top;\n",
       "    }\n",
       "\n",
       "    .dataframe thead th {\n",
       "        text-align: right;\n",
       "    }\n",
       "</style>\n",
       "<table border=\"1\" class=\"dataframe\">\n",
       "  <thead>\n",
       "    <tr style=\"text-align: right;\">\n",
       "      <th></th>\n",
       "      <th>MntWines</th>\n",
       "      <th>MntFruits</th>\n",
       "      <th>MntMeatProducts</th>\n",
       "      <th>MntFishProducts</th>\n",
       "      <th>MntSweetProducts</th>\n",
       "      <th>MntGoldProds</th>\n",
       "    </tr>\n",
       "    <tr>\n",
       "      <th>Marital_Status</th>\n",
       "      <th></th>\n",
       "      <th></th>\n",
       "      <th></th>\n",
       "      <th></th>\n",
       "      <th></th>\n",
       "      <th></th>\n",
       "    </tr>\n",
       "  </thead>\n",
       "  <tbody>\n",
       "    <tr>\n",
       "      <th>Married</th>\n",
       "      <td>304.307314</td>\n",
       "      <td>25.607595</td>\n",
       "      <td>160.144866</td>\n",
       "      <td>37.018987</td>\n",
       "      <td>26.641350</td>\n",
       "      <td>43.052039</td>\n",
       "    </tr>\n",
       "    <tr>\n",
       "      <th>Separated</th>\n",
       "      <td>327.600000</td>\n",
       "      <td>27.634783</td>\n",
       "      <td>151.473913</td>\n",
       "      <td>35.313043</td>\n",
       "      <td>27.030435</td>\n",
       "      <td>46.578261</td>\n",
       "    </tr>\n",
       "    <tr>\n",
       "      <th>Single</th>\n",
       "      <td>291.651992</td>\n",
       "      <td>27.310273</td>\n",
       "      <td>184.199161</td>\n",
       "      <td>39.197065</td>\n",
       "      <td>26.916143</td>\n",
       "      <td>43.958071</td>\n",
       "    </tr>\n",
       "    <tr>\n",
       "      <th>Widow</th>\n",
       "      <td>367.131579</td>\n",
       "      <td>31.868421</td>\n",
       "      <td>185.328947</td>\n",
       "      <td>49.907895</td>\n",
       "      <td>37.868421</td>\n",
       "      <td>55.855263</td>\n",
       "    </tr>\n",
       "  </tbody>\n",
       "</table>\n",
       "</div>"
      ],
      "text/plain": [
       "                  MntWines  MntFruits  MntMeatProducts  MntFishProducts  \\\n",
       "Marital_Status                                                            \n",
       "Married         304.307314  25.607595       160.144866        37.018987   \n",
       "Separated       327.600000  27.634783       151.473913        35.313043   \n",
       "Single          291.651992  27.310273       184.199161        39.197065   \n",
       "Widow           367.131579  31.868421       185.328947        49.907895   \n",
       "\n",
       "                MntSweetProducts  MntGoldProds  \n",
       "Marital_Status                                  \n",
       "Married                26.641350     43.052039  \n",
       "Separated              27.030435     46.578261  \n",
       "Single                 26.916143     43.958071  \n",
       "Widow                  37.868421     55.855263  "
      ]
     },
     "execution_count": 67,
     "metadata": {},
     "output_type": "execute_result"
    }
   ],
   "source": [
    "# Berdasarkan Marital_Status (dengan membuat variabel kumpulan produk dan dijumlah berdasarkan rata-rata)\n",
    "# Total pengeluaran produk per marital status\n",
    "produk = ['MntWines', 'MntFruits', 'MntMeatProducts', 'MntFishProducts',\n",
    "          'MntSweetProducts', 'MntGoldProds']\n",
    "\n",
    "produk_by_marstat = df.groupby('Marital_Status')[produk].mean()\n",
    "produk_by_marstat\n"
   ]
  },
  {
   "cell_type": "code",
   "execution_count": 68,
   "id": "061df096",
   "metadata": {},
   "outputs": [
    {
     "data": {
      "image/png": "[encoded data removed]",
      "text/plain": [
       "<Figure size 1500x500 with 1 Axes>"
      ]
     },
     "metadata": {},
     "output_type": "display_data"
    }
   ],
   "source": [
    "# visualisasi\n",
    "produk_by_marstat.plot(kind = 'bar', figsize = (15,5))\n",
    "plt.title('Total Pembelian Produk Berdasarkan Status Pernikahan')\n",
    "plt.ylabel('Total Pembelian')\n",
    "plt.xlabel('Status Pernikahan')\n",
    "plt.xticks(rotation = 0)\n",
    "plt.legend(title = 'Kategori Produk')\n",
    "plt.tight_layout()\n",
    "plt.show()"
   ]
  },
  {
   "cell_type": "markdown",
   "id": "9c1fd5b8",
   "metadata": {},
   "source": [
    "Insights:\n",
    "- berdasarkan status pernikahan, produk WINES yang paling laku\n",
    "- penjualan DAGING termasuk produk yang memasuki peringkat kedua setelah wines\n",
    "- peringkat ketiga ada di Gold\n",
    "- dan peringkat terakhir ada di produk buah\n"
   ]
  },
  {
   "cell_type": "code",
   "execution_count": 69,
   "id": "f4b10a69",
   "metadata": {},
   "outputs": [
    {
     "data": {
      "text/html": [
       "<div>\n",
       "<style scoped>\n",
       "    .dataframe tbody tr th:only-of-type {\n",
       "        vertical-align: middle;\n",
       "    }\n",
       "\n",
       "    .dataframe tbody tr th {\n",
       "        vertical-align: top;\n",
       "    }\n",
       "\n",
       "    .dataframe thead th {\n",
       "        text-align: right;\n",
       "    }\n",
       "</style>\n",
       "<table border=\"1\" class=\"dataframe\">\n",
       "  <thead>\n",
       "    <tr style=\"text-align: right;\">\n",
       "      <th></th>\n",
       "      <th>MntWines</th>\n",
       "      <th>MntFruits</th>\n",
       "      <th>MntMeatProducts</th>\n",
       "      <th>MntFishProducts</th>\n",
       "      <th>MntSweetProducts</th>\n",
       "      <th>MntGoldProds</th>\n",
       "    </tr>\n",
       "    <tr>\n",
       "      <th>Income_Level</th>\n",
       "      <th></th>\n",
       "      <th></th>\n",
       "      <th></th>\n",
       "      <th></th>\n",
       "      <th></th>\n",
       "      <th></th>\n",
       "    </tr>\n",
       "  </thead>\n",
       "  <tbody>\n",
       "    <tr>\n",
       "      <th>low</th>\n",
       "      <td>21.561594</td>\n",
       "      <td>5.954710</td>\n",
       "      <td>22.721014</td>\n",
       "      <td>8.692029</td>\n",
       "      <td>5.940217</td>\n",
       "      <td>16.891304</td>\n",
       "    </tr>\n",
       "    <tr>\n",
       "      <th>medium</th>\n",
       "      <td>124.414545</td>\n",
       "      <td>7.996364</td>\n",
       "      <td>48.054545</td>\n",
       "      <td>13.530909</td>\n",
       "      <td>8.465455</td>\n",
       "      <td>27.318182</td>\n",
       "    </tr>\n",
       "    <tr>\n",
       "      <th>high</th>\n",
       "      <td>435.237750</td>\n",
       "      <td>30.433757</td>\n",
       "      <td>158.299456</td>\n",
       "      <td>39.312160</td>\n",
       "      <td>28.205082</td>\n",
       "      <td>59.208711</td>\n",
       "    </tr>\n",
       "    <tr>\n",
       "      <th>very high</th>\n",
       "      <td>644.185118</td>\n",
       "      <td>61.277677</td>\n",
       "      <td>432.513612</td>\n",
       "      <td>89.566243</td>\n",
       "      <td>65.954628</td>\n",
       "      <td>72.907441</td>\n",
       "    </tr>\n",
       "  </tbody>\n",
       "</table>\n",
       "</div>"
      ],
      "text/plain": [
       "                MntWines  MntFruits  MntMeatProducts  MntFishProducts  \\\n",
       "Income_Level                                                            \n",
       "low            21.561594   5.954710        22.721014         8.692029   \n",
       "medium        124.414545   7.996364        48.054545        13.530909   \n",
       "high          435.237750  30.433757       158.299456        39.312160   \n",
       "very high     644.185118  61.277677       432.513612        89.566243   \n",
       "\n",
       "              MntSweetProducts  MntGoldProds  \n",
       "Income_Level                                  \n",
       "low                   5.940217     16.891304  \n",
       "medium                8.465455     27.318182  \n",
       "high                 28.205082     59.208711  \n",
       "very high            65.954628     72.907441  "
      ]
     },
     "execution_count": 69,
     "metadata": {},
     "output_type": "execute_result"
    }
   ],
   "source": [
    "# berdasarkan income pelanggan\n",
    "produk = ['MntWines', 'MntFruits', 'MntMeatProducts', 'MntFishProducts',\n",
    "          'MntSweetProducts', 'MntGoldProds']\n",
    "\n",
    "produk_by_income = df.groupby('Income_Level')[produk].mean()\n",
    "produk_by_income"
   ]
  },
  {
   "cell_type": "code",
   "execution_count": 70,
   "id": "8875ceae",
   "metadata": {},
   "outputs": [
    {
     "data": {
      "image/png": "[encoded data removed]",
      "text/plain": [
       "<Figure size 1000x500 with 1 Axes>"
      ]
     },
     "metadata": {},
     "output_type": "display_data"
    }
   ],
   "source": [
    "# visualisasi\n",
    "produk_by_income.plot(kind = 'bar', figsize = (10,5))\n",
    "plt.title('Total Pembelian Produk Berdasarkan Status Income')\n",
    "plt.ylabel('Total Pembelian')\n",
    "plt.xlabel('Status berdasarkan Pendapatan')\n",
    "plt.xticks(rotation = 0)\n",
    "plt.legend(title = 'Kategori Produk')\n",
    "plt.tight_layout()\n",
    "plt.show()"
   ]
  },
  {
   "cell_type": "markdown",
   "id": "6d65b0c9",
   "metadata": {},
   "source": [
    "Insights:\n",
    "- pembelian lebih tinggi > pembelian lebih banyak\n",
    "- Kelompok \"very high\" income memiliki total pembelian tertinggi di semua kategori produk, terutama pada:\n",
    "    a. MntWines (paling menonjol)\n",
    "    b. MntMeatProducts\n",
    "    c. Diikuti oleh MntGoldProds & MntFishProducts\n",
    "- Di semua kelompok income, dua kategori yang konsisten paling banyak dibeli adalah wines dan daging\n",
    "- Kelompok \"low income\" membeli semua kategori produk dalam jumlah yang sangat kecil.\n",
    "- Ini menunjukkan sensitivitas terhadap harga atau kemungkinan keterbatasan daya beli."
   ]
  },
  {
   "cell_type": "code",
   "execution_count": 71,
   "id": "5f89d66f",
   "metadata": {},
   "outputs": [
    {
     "data": {
      "text/html": [
       "<div>\n",
       "<style scoped>\n",
       "    .dataframe tbody tr th:only-of-type {\n",
       "        vertical-align: middle;\n",
       "    }\n",
       "\n",
       "    .dataframe tbody tr th {\n",
       "        vertical-align: top;\n",
       "    }\n",
       "\n",
       "    .dataframe thead th {\n",
       "        text-align: right;\n",
       "    }\n",
       "</style>\n",
       "<table border=\"1\" class=\"dataframe\">\n",
       "  <thead>\n",
       "    <tr style=\"text-align: right;\">\n",
       "      <th></th>\n",
       "      <th>MntWines</th>\n",
       "      <th>MntFruits</th>\n",
       "      <th>MntMeatProducts</th>\n",
       "      <th>MntFishProducts</th>\n",
       "      <th>MntSweetProducts</th>\n",
       "      <th>MntGoldProds</th>\n",
       "    </tr>\n",
       "    <tr>\n",
       "      <th>Education</th>\n",
       "      <th></th>\n",
       "      <th></th>\n",
       "      <th></th>\n",
       "      <th></th>\n",
       "      <th></th>\n",
       "      <th></th>\n",
       "    </tr>\n",
       "  </thead>\n",
       "  <tbody>\n",
       "    <tr>\n",
       "      <th>2n Cycle</th>\n",
       "      <td>202.757576</td>\n",
       "      <td>29.626263</td>\n",
       "      <td>136.378788</td>\n",
       "      <td>48.454545</td>\n",
       "      <td>35.055556</td>\n",
       "      <td>47.217172</td>\n",
       "    </tr>\n",
       "    <tr>\n",
       "      <th>Basic</th>\n",
       "      <td>7.240741</td>\n",
       "      <td>11.111111</td>\n",
       "      <td>11.444444</td>\n",
       "      <td>17.055556</td>\n",
       "      <td>12.111111</td>\n",
       "      <td>22.833333</td>\n",
       "    </tr>\n",
       "    <tr>\n",
       "      <th>Graduation</th>\n",
       "      <td>285.804133</td>\n",
       "      <td>30.930818</td>\n",
       "      <td>179.312668</td>\n",
       "      <td>43.523810</td>\n",
       "      <td>31.367475</td>\n",
       "      <td>50.807727</td>\n",
       "    </tr>\n",
       "    <tr>\n",
       "      <th>Master</th>\n",
       "      <td>333.788462</td>\n",
       "      <td>21.431319</td>\n",
       "      <td>163.343407</td>\n",
       "      <td>31.574176</td>\n",
       "      <td>20.865385</td>\n",
       "      <td>40.277473</td>\n",
       "    </tr>\n",
       "    <tr>\n",
       "      <th>PhD</th>\n",
       "      <td>409.573529</td>\n",
       "      <td>20.012605</td>\n",
       "      <td>163.571429</td>\n",
       "      <td>26.897059</td>\n",
       "      <td>20.411765</td>\n",
       "      <td>32.256303</td>\n",
       "    </tr>\n",
       "  </tbody>\n",
       "</table>\n",
       "</div>"
      ],
      "text/plain": [
       "              MntWines  MntFruits  MntMeatProducts  MntFishProducts  \\\n",
       "Education                                                             \n",
       "2n Cycle    202.757576  29.626263       136.378788        48.454545   \n",
       "Basic         7.240741  11.111111        11.444444        17.055556   \n",
       "Graduation  285.804133  30.930818       179.312668        43.523810   \n",
       "Master      333.788462  21.431319       163.343407        31.574176   \n",
       "PhD         409.573529  20.012605       163.571429        26.897059   \n",
       "\n",
       "            MntSweetProducts  MntGoldProds  \n",
       "Education                                   \n",
       "2n Cycle           35.055556     47.217172  \n",
       "Basic              12.111111     22.833333  \n",
       "Graduation         31.367475     50.807727  \n",
       "Master             20.865385     40.277473  \n",
       "PhD                20.411765     32.256303  "
      ]
     },
     "execution_count": 71,
     "metadata": {},
     "output_type": "execute_result"
    }
   ],
   "source": [
    "# berdasarkan income Education\n",
    "produk = ['MntWines', 'MntFruits', 'MntMeatProducts', 'MntFishProducts', 'MntSweetProducts', 'MntGoldProds']\n",
    "\n",
    "produk_by_edu = df.groupby('Education')[produk].mean()\n",
    "produk_by_edu"
   ]
  },
  {
   "cell_type": "code",
   "execution_count": 72,
   "id": "490be610",
   "metadata": {},
   "outputs": [
    {
     "data": {
      "image/png": "[encoded data removed]",
      "text/plain": [
       "<Figure size 1000x500 with 1 Axes>"
      ]
     },
     "metadata": {},
     "output_type": "display_data"
    }
   ],
   "source": [
    "# visualisasi\n",
    "produk_by_edu.plot(kind = 'bar', figsize = (10,5))\n",
    "plt.title('Total Pembelian Produk Berdasarkan Tingkatan Pendidikan')\n",
    "plt.ylabel('Total Pembelian')\n",
    "plt.xlabel('Tingkatan Pendidikan')\n",
    "plt.xticks(rotation = 0)\n",
    "plt.legend(title = 'Kategori Produk')\n",
    "plt.tight_layout()\n",
    "plt.show()"
   ]
  },
  {
   "cell_type": "markdown",
   "id": "b76912d3",
   "metadata": {},
   "source": [
    "Insights:\n",
    "- Semakin Tinggi Pendidikan, Semakin Tinggi Konsumsi\n",
    "- Pola kenaikan pembelian produk terlihat signifikan mulai dari tingkat Basic → Graduation → Master → PhD.\n",
    "- Kategori MntWines dan MntMeatProducts mengalami kenaikan paling jelas.\n",
    "- Menunjukkan bahwa tingkat pendidikan berkorelasi dengan daya beli dan preferensi terhadap produk premium."
   ]
  },
  {
   "cell_type": "markdown",
   "id": "0eb23fe1",
   "metadata": {},
   "source": [
    "### 3. Statitik Deskriptif"
   ]
  },
  {
   "cell_type": "code",
   "execution_count": 73,
   "id": "7f498252",
   "metadata": {},
   "outputs": [
    {
     "data": {
      "text/html": [
       "<div>\n",
       "<style scoped>\n",
       "    .dataframe tbody tr th:only-of-type {\n",
       "        vertical-align: middle;\n",
       "    }\n",
       "\n",
       "    .dataframe tbody tr th {\n",
       "        vertical-align: top;\n",
       "    }\n",
       "\n",
       "    .dataframe thead th {\n",
       "        text-align: right;\n",
       "    }\n",
       "</style>\n",
       "<table border=\"1\" class=\"dataframe\">\n",
       "  <thead>\n",
       "    <tr style=\"text-align: right;\">\n",
       "      <th></th>\n",
       "      <th>MntWines</th>\n",
       "      <th>MntFruits</th>\n",
       "      <th>MntMeatProducts</th>\n",
       "      <th>MntFishProducts</th>\n",
       "      <th>MntSweetProducts</th>\n",
       "      <th>MntGoldProds</th>\n",
       "    </tr>\n",
       "  </thead>\n",
       "  <tbody>\n",
       "    <tr>\n",
       "      <th>count</th>\n",
       "      <td>2205.000000</td>\n",
       "      <td>2205.000000</td>\n",
       "      <td>2205.000000</td>\n",
       "      <td>2205.000000</td>\n",
       "      <td>2205.000000</td>\n",
       "      <td>2205.000000</td>\n",
       "    </tr>\n",
       "    <tr>\n",
       "      <th>mean</th>\n",
       "      <td>306.164626</td>\n",
       "      <td>26.403175</td>\n",
       "      <td>165.312018</td>\n",
       "      <td>37.756463</td>\n",
       "      <td>27.128345</td>\n",
       "      <td>44.057143</td>\n",
       "    </tr>\n",
       "    <tr>\n",
       "      <th>std</th>\n",
       "      <td>337.493839</td>\n",
       "      <td>39.784484</td>\n",
       "      <td>217.784507</td>\n",
       "      <td>54.824635</td>\n",
       "      <td>41.130468</td>\n",
       "      <td>51.736211</td>\n",
       "    </tr>\n",
       "    <tr>\n",
       "      <th>min</th>\n",
       "      <td>0.000000</td>\n",
       "      <td>0.000000</td>\n",
       "      <td>0.000000</td>\n",
       "      <td>0.000000</td>\n",
       "      <td>0.000000</td>\n",
       "      <td>0.000000</td>\n",
       "    </tr>\n",
       "    <tr>\n",
       "      <th>25%</th>\n",
       "      <td>24.000000</td>\n",
       "      <td>2.000000</td>\n",
       "      <td>16.000000</td>\n",
       "      <td>3.000000</td>\n",
       "      <td>1.000000</td>\n",
       "      <td>9.000000</td>\n",
       "    </tr>\n",
       "    <tr>\n",
       "      <th>50%</th>\n",
       "      <td>178.000000</td>\n",
       "      <td>8.000000</td>\n",
       "      <td>68.000000</td>\n",
       "      <td>12.000000</td>\n",
       "      <td>8.000000</td>\n",
       "      <td>25.000000</td>\n",
       "    </tr>\n",
       "    <tr>\n",
       "      <th>75%</th>\n",
       "      <td>507.000000</td>\n",
       "      <td>33.000000</td>\n",
       "      <td>232.000000</td>\n",
       "      <td>50.000000</td>\n",
       "      <td>34.000000</td>\n",
       "      <td>56.000000</td>\n",
       "    </tr>\n",
       "    <tr>\n",
       "      <th>max</th>\n",
       "      <td>1493.000000</td>\n",
       "      <td>199.000000</td>\n",
       "      <td>1725.000000</td>\n",
       "      <td>259.000000</td>\n",
       "      <td>262.000000</td>\n",
       "      <td>321.000000</td>\n",
       "    </tr>\n",
       "  </tbody>\n",
       "</table>\n",
       "</div>"
      ],
      "text/plain": [
       "          MntWines    MntFruits  MntMeatProducts  MntFishProducts  \\\n",
       "count  2205.000000  2205.000000      2205.000000      2205.000000   \n",
       "mean    306.164626    26.403175       165.312018        37.756463   \n",
       "std     337.493839    39.784484       217.784507        54.824635   \n",
       "min       0.000000     0.000000         0.000000         0.000000   \n",
       "25%      24.000000     2.000000        16.000000         3.000000   \n",
       "50%     178.000000     8.000000        68.000000        12.000000   \n",
       "75%     507.000000    33.000000       232.000000        50.000000   \n",
       "max    1493.000000   199.000000      1725.000000       259.000000   \n",
       "\n",
       "       MntSweetProducts  MntGoldProds  \n",
       "count       2205.000000   2205.000000  \n",
       "mean          27.128345     44.057143  \n",
       "std           41.130468     51.736211  \n",
       "min            0.000000      0.000000  \n",
       "25%            1.000000      9.000000  \n",
       "50%            8.000000     25.000000  \n",
       "75%           34.000000     56.000000  \n",
       "max          262.000000    321.000000  "
      ]
     },
     "execution_count": 73,
     "metadata": {},
     "output_type": "execute_result"
    }
   ],
   "source": [
    "# jumlah, rata-rata, min, max dari setiap produk\n",
    "penjualan = df[['MntWines', 'MntFruits', 'MntMeatProducts', \n",
    "                       'MntFishProducts', 'MntSweetProducts', 'MntGoldProds']]\n",
    "\n",
    "penjualan.describe()"
   ]
  },
  {
   "cell_type": "code",
   "execution_count": 74,
   "id": "f86bb53d",
   "metadata": {},
   "outputs": [
    {
     "name": "stdout",
     "output_type": "stream",
     "text": [
      "Jumlah penjualan setiap produk: \n",
      " MntWines            675093\n",
      "MntFruits            58219\n",
      "MntMeatProducts     364513\n",
      "MntFishProducts      83253\n",
      "MntSweetProducts     59818\n",
      "MntGoldProds         97146\n",
      "dtype: int64\n",
      "\n",
      "Rata-rata penjualan setiap produk: \n",
      " MntWines            306.164626\n",
      "MntFruits            26.403175\n",
      "MntMeatProducts     165.312018\n",
      "MntFishProducts      37.756463\n",
      "MntSweetProducts     27.128345\n",
      "MntGoldProds         44.057143\n",
      "dtype: float64\n"
     ]
    }
   ],
   "source": [
    "# jumlah dan rata-rata/ produk\n",
    "print('Jumlah penjualan setiap produk:','\\n', penjualan.sum()) \n",
    "print()\n",
    "print('Rata-rata penjualan setiap produk:', '\\n', penjualan.mean())"
   ]
  },
  {
   "cell_type": "markdown",
   "id": "af1d4281",
   "metadata": {},
   "source": [
    "### 4. Pola Penjualan"
   ]
  },
  {
   "cell_type": "code",
   "execution_count": 75,
   "id": "18442d5f",
   "metadata": {},
   "outputs": [
    {
     "data": {
      "text/html": [
       "<div>\n",
       "<style scoped>\n",
       "    .dataframe tbody tr th:only-of-type {\n",
       "        vertical-align: middle;\n",
       "    }\n",
       "\n",
       "    .dataframe tbody tr th {\n",
       "        vertical-align: top;\n",
       "    }\n",
       "\n",
       "    .dataframe thead th {\n",
       "        text-align: right;\n",
       "    }\n",
       "</style>\n",
       "<table border=\"1\" class=\"dataframe\">\n",
       "  <thead>\n",
       "    <tr style=\"text-align: right;\">\n",
       "      <th></th>\n",
       "      <th>Year</th>\n",
       "      <th>Total_Spend</th>\n",
       "    </tr>\n",
       "  </thead>\n",
       "  <tbody>\n",
       "    <tr>\n",
       "      <th>0</th>\n",
       "      <td>2012</td>\n",
       "      <td>364116</td>\n",
       "    </tr>\n",
       "    <tr>\n",
       "      <th>1</th>\n",
       "      <td>2013</td>\n",
       "      <td>702473</td>\n",
       "    </tr>\n",
       "    <tr>\n",
       "      <th>2</th>\n",
       "      <td>2014</td>\n",
       "      <td>271453</td>\n",
       "    </tr>\n",
       "  </tbody>\n",
       "</table>\n",
       "</div>"
      ],
      "text/plain": [
       "   Year  Total_Spend\n",
       "0  2012       364116\n",
       "1  2013       702473\n",
       "2  2014       271453"
      ]
     },
     "execution_count": 75,
     "metadata": {},
     "output_type": "execute_result"
    }
   ],
   "source": [
    "# total penjualan setiap tahun\n",
    "df['Dt_Customer'] = pd.to_datetime(df['Dt_Customer'])\n",
    "\n",
    "df['Year'] = df['Dt_Customer'].dt.year\n",
    "\n",
    "df['Total_Spend'] = df[['MntWines', 'MntFruits', 'MntMeatProducts',\n",
    "                        'MntFishProducts', 'MntSweetProducts', 'MntGoldProds']].sum(axis=1)\n",
    "\n",
    "penjualan_tahunan = df.groupby('Year')['Total_Spend'].sum().reset_index()\n",
    "penjualan_tahunan"
   ]
  },
  {
   "cell_type": "markdown",
   "id": "fe3fcd1f",
   "metadata": {},
   "source": [
    "Semakin tahun, penjualan menurun."
   ]
  },
  {
   "cell_type": "markdown",
   "id": "b8e9bfff",
   "metadata": {},
   "source": [
    "### 5. Jumlah Campaign yang digunakan Pelanggan"
   ]
  },
  {
   "cell_type": "code",
   "execution_count": 76,
   "id": "17b522d8",
   "metadata": {},
   "outputs": [
    {
     "data": {
      "text/plain": [
       "Total_Campaign_Accepted\n",
       "0    1747\n",
       "1     322\n",
       "2      81\n",
       "3      44\n",
       "4      11\n",
       "Name: count, dtype: int64"
      ]
     },
     "execution_count": 76,
     "metadata": {},
     "output_type": "execute_result"
    }
   ],
   "source": [
    "total_campaign = ['AcceptedCmp1', 'AcceptedCmp2', 'AcceptedCmp3', 'AcceptedCmp4', 'AcceptedCmp5']\n",
    "campaign_responses = df[total_campaign].sum().sort_values(ascending=False)\n",
    "\n",
    "df['Total_Campaign_Accepted'] = df[total_campaign].sum(axis=1)\n",
    "df['Total_Campaign_Accepted'].value_counts()"
   ]
  },
  {
   "cell_type": "markdown",
   "id": "eaf2b198",
   "metadata": {},
   "source": [
    "Setelah total campaign 1-5 dijumlahkan, hasil respons campaign setiap campaign menurun hingga respons campaign terakhir sangat sedikit."
   ]
  },
  {
   "cell_type": "markdown",
   "id": "32096315",
   "metadata": {},
   "source": [
    "### 5.1 Respon Campaign berdasarkan Kelompok Usia"
   ]
  },
  {
   "cell_type": "code",
   "execution_count": 77,
   "id": "6ba1db87",
   "metadata": {},
   "outputs": [
    {
     "data": {
      "image/png": "[encoded data removed]",
      "text/plain": [
       "<Figure size 1000x500 with 1 Axes>"
      ]
     },
     "metadata": {},
     "output_type": "display_data"
    }
   ],
   "source": [
    "df.groupby('Age_Group')[total_campaign].sum().plot(kind = 'bar', figsize = (10,5))\n",
    "plt.title('Respon Campaign Berdasarkan Kelompok Usia')\n",
    "plt.ylabel('Jumlah Respon')\n",
    "plt.xlabel('Kelompok Usia')\n",
    "plt.xticks(rotation=0)\n",
    "plt.tight_layout()\n",
    "plt.show()"
   ]
  },
  {
   "cell_type": "markdown",
   "id": "987345cd",
   "metadata": {},
   "source": [
    "### 5.2 Keterangan [Aktif/ Pasif] seorang Pelanggan yang menerima Campaign"
   ]
  },
  {
   "cell_type": "code",
   "execution_count": 78,
   "id": "da9a7078",
   "metadata": {},
   "outputs": [
    {
     "data": {
      "text/html": [
       "<div>\n",
       "<style scoped>\n",
       "    .dataframe tbody tr th:only-of-type {\n",
       "        vertical-align: middle;\n",
       "    }\n",
       "\n",
       "    .dataframe tbody tr th {\n",
       "        vertical-align: top;\n",
       "    }\n",
       "\n",
       "    .dataframe thead th {\n",
       "        text-align: right;\n",
       "    }\n",
       "</style>\n",
       "<table border=\"1\" class=\"dataframe\">\n",
       "  <thead>\n",
       "    <tr style=\"text-align: right;\">\n",
       "      <th></th>\n",
       "      <th>AcceptedCmp1</th>\n",
       "      <th>AcceptedCmp2</th>\n",
       "      <th>AcceptedCmp3</th>\n",
       "      <th>AcceptedCmp4</th>\n",
       "      <th>AcceptedCmp5</th>\n",
       "    </tr>\n",
       "    <tr>\n",
       "      <th>Customer_Status</th>\n",
       "      <th></th>\n",
       "      <th></th>\n",
       "      <th></th>\n",
       "      <th></th>\n",
       "      <th></th>\n",
       "    </tr>\n",
       "  </thead>\n",
       "  <tbody>\n",
       "    <tr>\n",
       "      <th>Active</th>\n",
       "      <td>91</td>\n",
       "      <td>15</td>\n",
       "      <td>110</td>\n",
       "      <td>93</td>\n",
       "      <td>99</td>\n",
       "    </tr>\n",
       "    <tr>\n",
       "      <th>Passive</th>\n",
       "      <td>51</td>\n",
       "      <td>15</td>\n",
       "      <td>53</td>\n",
       "      <td>71</td>\n",
       "      <td>62</td>\n",
       "    </tr>\n",
       "  </tbody>\n",
       "</table>\n",
       "</div>"
      ],
      "text/plain": [
       "                 AcceptedCmp1  AcceptedCmp2  AcceptedCmp3  AcceptedCmp4  \\\n",
       "Customer_Status                                                           \n",
       "Active                     91            15           110            93   \n",
       "Passive                    51            15            53            71   \n",
       "\n",
       "                 AcceptedCmp5  \n",
       "Customer_Status                \n",
       "Active                     99  \n",
       "Passive                    62  "
      ]
     },
     "execution_count": 78,
     "metadata": {},
     "output_type": "execute_result"
    }
   ],
   "source": [
    "# Apakah pelanggan aktif lebih banyak menerima campaign?\n",
    "df.groupby('Customer_Status')[total_campaign].sum()"
   ]
  },
  {
   "cell_type": "code",
   "execution_count": 79,
   "id": "7180f827",
   "metadata": {},
   "outputs": [
    {
     "data": {
      "text/plain": [
       "Response\n",
       "0    1872\n",
       "1     333\n",
       "Name: count, dtype: int64"
      ]
     },
     "execution_count": 79,
     "metadata": {},
     "output_type": "execute_result"
    }
   ],
   "source": [
    "# respon pelanggan terhadap campaign terakhir\n",
    "df['Response'].value_counts() # keterangan 1 iya, 0 tidak"
   ]
  },
  {
   "cell_type": "markdown",
   "id": "2519548c",
   "metadata": {},
   "source": [
    "# c. Analisis Media"
   ]
  },
  {
   "cell_type": "markdown",
   "id": "3cffbb21",
   "metadata": {},
   "source": [
    "### 1. Jumlah Pembelian setiap Saluran"
   ]
  },
  {
   "cell_type": "code",
   "execution_count": 80,
   "id": "1475e8b9",
   "metadata": {},
   "outputs": [
    {
     "data": {
      "image/png": "[encoded data removed]",
      "text/plain": [
       "<Figure size 640x480 with 1 Axes>"
      ]
     },
     "metadata": {},
     "output_type": "display_data"
    }
   ],
   "source": [
    "# Jumlah Pembelian setiap Saluran\n",
    "media_sum = df[['NumWebPurchases', 'NumCatalogPurchases', 'NumStorePurchases']].sum()\n",
    "media_sum.plot(kind='bar', color = 'teal', title = 'Jumlah Pembelian setiap Saluran')\n",
    "plt.ylabel('Jumlah Pembelian')\n",
    "plt.xticks(rotation=0)\n",
    "plt.tight_layout()\n",
    "plt.show()"
   ]
  },
  {
   "cell_type": "markdown",
   "id": "c1135e67",
   "metadata": {},
   "source": [
    "Insights:\n",
    "- jumlah pembelian di toko/ offline termasuk yang paling diminati\n",
    "- jumlah pembelian yang paling sedikit ada di pembelian melalui catalog\n",
    "- jumlah pembelian melalui website termasuk purchase method kedua setelah offline method"
   ]
  },
  {
   "cell_type": "markdown",
   "id": "756028f1",
   "metadata": {},
   "source": [
    "### 2. Medium Berbelanja berdasarkan kalangan Usia"
   ]
  },
  {
   "cell_type": "code",
   "execution_count": 81,
   "id": "afc57fd0",
   "metadata": {},
   "outputs": [
    {
     "data": {
      "image/png": "[encoded data removed]",
      "text/plain": [
       "<Figure size 1500x500 with 1 Axes>"
      ]
     },
     "metadata": {},
     "output_type": "display_data"
    }
   ],
   "source": [
    "media_sum = df.groupby('Age_Group')[['NumWebPurchases', 'NumStorePurchases', 'NumCatalogPurchases', 'NumWebVisitsMonth']].sum()\n",
    "media_sum.plot(kind='bar', figsize = (15, 5))\n",
    "plt.title('Media Belanja Berdasarkan Kalangan Usia')\n",
    "plt.ylabel('Jumlah Pembelian')\n",
    "plt.xticks(rotation=0)\n",
    "plt.tight_layout()\n",
    "plt.show()"
   ]
  },
  {
   "cell_type": "code",
   "execution_count": 82,
   "id": "737e0698",
   "metadata": {},
   "outputs": [],
   "source": [
    "# 1 promo yang tepat untuk \n",
    "# 2 weekdays promo untuk ibu rumah tangga (daily)\n",
    "# 3 weekends untuk keluarga, anak kos, orang kerja relaksasi (r)\n",
    "# 4 promo setelah gajian kek tanggal 25."
   ]
  },
  {
   "cell_type": "markdown",
   "id": "c35de01e",
   "metadata": {},
   "source": []
  },
  {
   "cell_type": "markdown",
   "id": "8f64b2dc",
   "metadata": {},
   "source": [
    "# Kesimpulan dan Saran"
   ]
  },
  {
   "cell_type": "markdown",
   "id": "2d10f6c4",
   "metadata": {},
   "source": [
    "## Demografi Pelanggan"
   ]
  },
  {
   "cell_type": "markdown",
   "id": "34aa2b9f",
   "metadata": {},
   "source": [
    "1. Total Pelanggan yang mendaftar Membership ada +- 2200 sekian customer\n",
    "2. Total pelanggan berdasarkan kalangan Usia:\n",
    "    - Teenager: 10\n",
    "    - Young Adult: 181\n",
    "    - Adult: 1289\n",
    "    - Elder: 733\n",
    "3. Total pelanggan yang aktif dan pasif\n",
    "    - Active     1359\n",
    "    - Passive     846\n",
    "4. Total pelanggan berdasarkan marital Status (persentase)\n",
    "    - Married      64.489796\n",
    "    - Single       21.632653\n",
    "    - Separated    10.430839\n",
    "    - Widow         3.446712\n",
    "5. Pelanggan memiliki background pendidikan yang bervariasi dan hal itu berpengaruh terhadap income.\n",
    "\n",
    "\n"
   ]
  },
  {
   "cell_type": "markdown",
   "id": "1d2d385a",
   "metadata": {},
   "source": [
    "# Performa Penjualan"
   ]
  },
  {
   "cell_type": "markdown",
   "id": "46b99d81",
   "metadata": {},
   "source": [
    "Produk Wine dan Daging adalah produk favorit pelanggan dewasa.\n",
    "Segmentasi pemasaran bisa difokuskan ke usia Adult dan Elder, khususnya untuk Wine, Daging, dan Produk Emas.\n",
    "Promosi pada kelompok usia muda (Teenager & Young Adult) belum terlalu efektif atau mereka memang belum menjadi target pasar utama"
   ]
  }
 ],
 "metadata": {
  "kernelspec": {
   "display_name": "Python 3",
   "language": "python",
   "name": "python3"
  },
  "language_info": {
   "codemirror_mode": {
    "name": "ipython",
    "version": 3
   },
   "file_extension": ".py",
   "mimetype": "text/x-python",
   "name": "python",
   "nbconvert_exporter": "python",
   "pygments_lexer": "ipython3",
   "version": "3.13.3"
  }
 },
 "nbformat": 4,
 "nbformat_minor": 5
}
